{
 "cells": [
  {
   "cell_type": "markdown",
   "metadata": {},
   "source": [
    "Pregunta 16.1 Crea una serie temporal ts con 20 valores aleatorios y un índice de fechas que comienzan el 1 de enero de 2022, con una frecuencia diaria. Muestra los primeros 5 valores de la serie."
   ]
  },
  {
   "cell_type": "code",
   "execution_count": 4,
   "metadata": {},
   "outputs": [
    {
     "name": "stdout",
     "output_type": "stream",
     "text": [
      "2022-01-01    0.610583\n",
      "2022-01-02   -0.000958\n",
      "2022-01-03   -1.010670\n",
      "2022-01-04   -0.017895\n",
      "2022-01-05    0.651172\n",
      "Freq: D, dtype: float64\n"
     ]
    }
   ],
   "source": [
    "import pandas as pd\n",
    "import numpy as np\n",
    "\n",
    "# Crear la serie temporal\n",
    "dates = pd.date_range(start='2022-01-01', periods=20, freq='D')\n",
    "data = np.random.randn(20)\n",
    "ts = pd.Series(data, index=dates)\n",
    "\n",
    "# Mostrar los primeros 5 valores de la serie temporal\n",
    "print(ts.head(5))\n"
   ]
  },
  {
   "cell_type": "markdown",
   "metadata": {},
   "source": [
    "Pregunta 16.2. Desplaza la serie ts 3 días hacia adelante y muestra los primeros 5 valores."
   ]
  },
  {
   "cell_type": "code",
   "execution_count": 5,
   "metadata": {},
   "outputs": [
    {
     "name": "stdout",
     "output_type": "stream",
     "text": [
      "2022-01-01         NaN\n",
      "2022-01-02         NaN\n",
      "2022-01-03         NaN\n",
      "2022-01-04    0.610583\n",
      "2022-01-05   -0.000958\n",
      "Freq: D, dtype: float64\n"
     ]
    }
   ],
   "source": [
    "# Desplazar la serie temporal 3 días hacia adelante\n",
    "ts_shifted = ts.shift(3)\n",
    "\n",
    "# Mostrar los primeros 5 valores de la serie desplazada\n",
    "print(ts_shifted.head(5))\n"
   ]
  },
  {
   "cell_type": "markdown",
   "metadata": {},
   "source": [
    "Pregunta 16.3. Desplaza la serie ts 2 días hacia atrás y muestra los primeros 5 valores."
   ]
  },
  {
   "cell_type": "code",
   "execution_count": 6,
   "metadata": {},
   "outputs": [
    {
     "name": "stdout",
     "output_type": "stream",
     "text": [
      "2022-01-01   -1.010670\n",
      "2022-01-02   -0.017895\n",
      "2022-01-03    0.651172\n",
      "2022-01-04    1.144583\n",
      "2022-01-05    0.748515\n",
      "Freq: D, dtype: float64\n"
     ]
    }
   ],
   "source": [
    "# Desplazar la serie temporal 2 días hacia atrás\n",
    "ts_shifted_back = ts.shift(-2)\n",
    "\n",
    "# Mostrar los primeros 5 valores de la serie desplazada hacia atrás\n",
    "print(ts_shifted_back.head(5))\n"
   ]
  },
  {
   "cell_type": "markdown",
   "metadata": {},
   "source": [
    "Pregunta 16.4. Crea una nueva serie ts2 que contenga solo los valores de ts correspondientes a los días 10, 15 y 20 de enero de 2022."
   ]
  },
  {
   "cell_type": "code",
   "execution_count": 7,
   "metadata": {},
   "outputs": [
    {
     "name": "stdout",
     "output_type": "stream",
     "text": [
      "2022-01-10   -0.628429\n",
      "2022-01-15   -0.213088\n",
      "2022-01-20    1.179696\n",
      "dtype: float64\n"
     ]
    }
   ],
   "source": [
    "# Crear la nueva serie ts2 con los valores correspondientes a los días 10, 15 y 20 de enero de 2022\n",
    "ts2 = ts.loc[['2022-01-10', '2022-01-15', '2022-01-20']]\n",
    "\n",
    "# Mostrar la serie ts2\n",
    "print(ts2)\n"
   ]
  },
  {
   "cell_type": "markdown",
   "metadata": {},
   "source": [
    "Pregunta 16.5. Agrupa la serie ts por el final de cada mes y calcula la media de los valores en cada grupo."
   ]
  },
  {
   "cell_type": "code",
   "execution_count": 8,
   "metadata": {},
   "outputs": [
    {
     "name": "stdout",
     "output_type": "stream",
     "text": [
      "2022-01-31    0.483947\n",
      "Freq: ME, dtype: float64\n"
     ]
    },
    {
     "name": "stderr",
     "output_type": "stream",
     "text": [
      "C:\\Users\\CursosTardes\\AppData\\Local\\Temp\\ipykernel_16196\\2046840415.py:2: FutureWarning: 'M' is deprecated and will be removed in a future version, please use 'ME' instead.\n",
      "  monthly_mean = ts.resample('M').mean()\n"
     ]
    }
   ],
   "source": [
    "# Agrupar la serie ts por el final de cada mes y calcular la media de los valores en cada grupo\n",
    "monthly_mean = ts.resample('M').mean()\n",
    "\n",
    "# Mostrar la media de los valores en cada grupo\n",
    "print(monthly_mean)\n"
   ]
  },
  {
   "cell_type": "markdown",
   "metadata": {},
   "source": [
    "Pregunta 16.6. Crea una serie temporal ts3 con 20 valores aleatorios y un índice de fechas que comienzan el 1 de enero de 2000, con una frecuencia de 4 días. Muestra los primeros 5 valores."
   ]
  },
  {
   "cell_type": "code",
   "execution_count": 10,
   "metadata": {},
   "outputs": [
    {
     "name": "stdout",
     "output_type": "stream",
     "text": [
      "2000-01-01    0.685422\n",
      "2000-01-05    0.083597\n",
      "2000-01-09   -0.167594\n",
      "2000-01-13    0.456698\n",
      "2000-01-17   -1.548052\n",
      "Freq: 4D, dtype: float64\n"
     ]
    }
   ],
   "source": [
    "\n",
    "# Crear la serie temporal ts3\n",
    "dates = pd.date_range(start='2000-01-01', periods=20, freq='4D')\n",
    "ts3 = pd.Series(np.random.randn(20), index=dates)\n",
    "\n",
    "# Mostrar los primeros 5 valores\n",
    "print(ts3.head())"
   ]
  },
  {
   "cell_type": "markdown",
   "metadata": {},
   "source": [
    "Pregunta 16.7. Agrupa la serie ts3 por el final de cada mes y calcula la suma de los valores en cada grupo."
   ]
  },
  {
   "cell_type": "code",
   "execution_count": 11,
   "metadata": {},
   "outputs": [
    {
     "name": "stdout",
     "output_type": "stream",
     "text": [
      "2000-01-31    3.791228\n",
      "2000-02-29   -1.886131\n",
      "2000-03-31   -0.101779\n",
      "Freq: ME, dtype: float64\n"
     ]
    },
    {
     "name": "stderr",
     "output_type": "stream",
     "text": [
      "C:\\Users\\CursosTardes\\AppData\\Local\\Temp\\ipykernel_16196\\2969492086.py:2: FutureWarning: 'M' is deprecated and will be removed in a future version, please use 'ME' instead.\n",
      "  ts3_monthly_sum = ts3.resample('M').sum()\n"
     ]
    }
   ],
   "source": [
    "# Agrupar la serie ts3 por el final de cada mes y calcular la suma de los valores en cada grupo\n",
    "ts3_monthly_sum = ts3.resample('M').sum()\n",
    "\n",
    "# Mostrar el resultado\n",
    "print(ts3_monthly_sum)"
   ]
  },
  {
   "cell_type": "markdown",
   "metadata": {},
   "source": [
    "Pregunta 16.8. Desplaza la serie ts3 5 días hacia adelante y muestra los primeros 5 valores."
   ]
  },
  {
   "cell_type": "code",
   "execution_count": 12,
   "metadata": {},
   "outputs": [
    {
     "name": "stdout",
     "output_type": "stream",
     "text": [
      "2000-01-06    0.685422\n",
      "2000-01-10    0.083597\n",
      "2000-01-14   -0.167594\n",
      "2000-01-18    0.456698\n",
      "2000-01-22   -1.548052\n",
      "Freq: 4D, dtype: float64\n"
     ]
    }
   ],
   "source": [
    "\n",
    "# Desplazar la serie ts3 5 días hacia adelante\n",
    "ts3_shifted_forward = ts3.shift(5, freq='D')\n",
    "\n",
    "# Mostrar los primeros 5 valores\n",
    "print(ts3_shifted_forward.head(5))\n"
   ]
  },
  {
   "cell_type": "markdown",
   "metadata": {},
   "source": [
    "Pregunta 16.9. Utiliza el método asfreq para convertir la frecuencia de la serie ts a una frecuencia diaria y rellena los valores faltantes con ceros."
   ]
  },
  {
   "cell_type": "code",
   "execution_count": 13,
   "metadata": {},
   "outputs": [
    {
     "name": "stdout",
     "output_type": "stream",
     "text": [
      "2022-01-01    0.610583\n",
      "2022-01-02   -0.000958\n",
      "2022-01-03   -1.010670\n",
      "2022-01-04   -0.017895\n",
      "2022-01-05    0.651172\n",
      "Freq: D, dtype: float64\n"
     ]
    }
   ],
   "source": [
    "# Convertir la frecuencia a diaria y rellenar los valores faltantes con ceros\n",
    "ts_asfreq = ts.asfreq('D', fill_value=0)\n",
    "\n",
    "# Mostrar los primeros 5 valores\n",
    "print(ts_asfreq.head(5))"
   ]
  },
  {
   "cell_type": "markdown",
   "metadata": {},
   "source": [
    "Pregunta 16.10. Crea una serie temporal ts4 con 15 valores aleatorios y un índice de fechas que comienzan el 15 de enero de 2020, con una frecuencia semanal. Muestra los primeros 5 valores."
   ]
  },
  {
   "cell_type": "code",
   "execution_count": 14,
   "metadata": {},
   "outputs": [
    {
     "name": "stdout",
     "output_type": "stream",
     "text": [
      "2020-01-19    0.468771\n",
      "2020-01-26    2.463897\n",
      "2020-02-02   -0.719430\n",
      "2020-02-09    0.552131\n",
      "2020-02-16   -0.243052\n",
      "Freq: W-SUN, dtype: float64\n"
     ]
    }
   ],
   "source": [
    "# Crear la serie temporal ts4\n",
    "dates = pd.date_range(start='2020-01-15', periods=15, freq='W')\n",
    "ts4 = pd.Series(np.random.randn(15), index=dates)\n",
    "\n",
    "# Mostrar los primeros 5 valores\n",
    "print(ts4.head(5))"
   ]
  },
  {
   "cell_type": "markdown",
   "metadata": {},
   "source": [
    "Pregunta 16.11. Agrupa la serie ts4 por el final de cada mes y calcula la media de los valores en cada grupo."
   ]
  },
  {
   "cell_type": "code",
   "execution_count": 15,
   "metadata": {},
   "outputs": [
    {
     "name": "stdout",
     "output_type": "stream",
     "text": [
      "2020-01-31    1.466334\n",
      "2020-02-29   -0.036009\n",
      "2020-03-31   -0.373204\n",
      "2020-04-30    0.129580\n",
      "Freq: ME, dtype: float64\n"
     ]
    },
    {
     "name": "stderr",
     "output_type": "stream",
     "text": [
      "C:\\Users\\CursosTardes\\AppData\\Local\\Temp\\ipykernel_16196\\1569620229.py:2: FutureWarning: 'M' is deprecated and will be removed in a future version, please use 'ME' instead.\n",
      "  ts4_monthly_mean = ts4.resample('M').mean()\n"
     ]
    }
   ],
   "source": [
    "# Agrupar la serie ts4 por el final de cada mes y calcular la media\n",
    "ts4_monthly_mean = ts4.resample('M').mean()\n",
    "\n",
    "# Mostrar los resultados\n",
    "print(ts4_monthly_mean)\n"
   ]
  },
  {
   "cell_type": "markdown",
   "metadata": {},
   "source": [
    "Pregunta 16.12. Crea una serie temporal ts5 con 10 valores aleatorios y un índice de fechas que comienzan el 1 de junio de 2021, con una frecuencia de 2 días. Muestra los primeros 5 valores."
   ]
  },
  {
   "cell_type": "code",
   "execution_count": 16,
   "metadata": {},
   "outputs": [
    {
     "name": "stdout",
     "output_type": "stream",
     "text": [
      "2021-06-01   -0.877441\n",
      "2021-06-03    2.405064\n",
      "2021-06-05   -1.725449\n",
      "2021-06-07   -0.182162\n",
      "2021-06-09   -0.361977\n",
      "Freq: 2D, dtype: float64\n"
     ]
    }
   ],
   "source": [
    "# Crear la serie temporal ts5\n",
    "dates_ts5 = pd.date_range(start='2021-06-01', periods=10, freq='2D')\n",
    "values_ts5 = np.random.randn(10)\n",
    "ts5 = pd.Series(values_ts5, index=dates_ts5)\n",
    "\n",
    "# Mostrar los primeros 5 valores\n",
    "print(ts5.head())"
   ]
  },
  {
   "cell_type": "markdown",
   "metadata": {},
   "source": [
    "Pregunta 16.13.Desplaza la serie ts5 1 semana hacia atrás y muestra los primeros 5 valores."
   ]
  },
  {
   "cell_type": "code",
   "execution_count": 17,
   "metadata": {},
   "outputs": [
    {
     "name": "stdout",
     "output_type": "stream",
     "text": [
      "2021-05-25   -0.877441\n",
      "2021-05-27    2.405064\n",
      "2021-05-29   -1.725449\n",
      "2021-05-31   -0.182162\n",
      "2021-06-02   -0.361977\n",
      "Freq: 2D, dtype: float64\n"
     ]
    }
   ],
   "source": [
    "# Desplazar la serie 1 semana hacia atrás\n",
    "ts5_shifted = ts5.shift(-7, freq='D')\n",
    "\n",
    "# Mostrar los primeros 5 valores\n",
    "print(ts5_shifted.head())"
   ]
  },
  {
   "cell_type": "markdown",
   "metadata": {},
   "source": [
    "Pregunta 16.14. Utiliza el método resample para cambiar la frecuencia de la serie ts5 a una frecuencia semanal y muestra los valores resultantes."
   ]
  },
  {
   "cell_type": "code",
   "execution_count": 18,
   "metadata": {},
   "outputs": [
    {
     "name": "stdout",
     "output_type": "stream",
     "text": [
      "2021-06-06   -0.065942\n",
      "2021-06-13   -0.750430\n",
      "2021-06-20   -0.070781\n",
      "Freq: W-SUN, dtype: float64\n"
     ]
    }
   ],
   "source": [
    "# Cambiar la frecuencia de la serie a una frecuencia semanal\n",
    "ts5_resampled = ts5.resample('W').mean()\n",
    "\n",
    "# Mostrar los valores resultantes\n",
    "print(ts5_resampled)"
   ]
  },
  {
   "cell_type": "markdown",
   "metadata": {},
   "source": [
    "Pregunta 16.15.Crea una serie temporal ts6 con 12 valores aleatorios y un índice de fechas que comienzan el 1 de enero de 2019, con una frecuencia mensual. Muestra los primeros 5 valores."
   ]
  },
  {
   "cell_type": "code",
   "execution_count": 19,
   "metadata": {},
   "outputs": [
    {
     "name": "stdout",
     "output_type": "stream",
     "text": [
      "2019-01-31   -1.211034\n",
      "2019-02-28    0.440427\n",
      "2019-03-31   -0.275052\n",
      "2019-04-30    1.888205\n",
      "2019-05-31   -0.316392\n",
      "Freq: ME, dtype: float64\n"
     ]
    },
    {
     "name": "stderr",
     "output_type": "stream",
     "text": [
      "C:\\Users\\CursosTardes\\AppData\\Local\\Temp\\ipykernel_16196\\3805679411.py:2: FutureWarning: 'M' is deprecated and will be removed in a future version, please use 'ME' instead.\n",
      "  dates_ts6 = pd.date_range(start='2019-01-01', periods=12, freq='M')\n"
     ]
    }
   ],
   "source": [
    "# Crear la serie temporal ts6\n",
    "dates_ts6 = pd.date_range(start='2019-01-01', periods=12, freq='M')\n",
    "values_ts6 = np.random.randn(12)\n",
    "ts6 = pd.Series(values_ts6, index=dates_ts6)\n",
    "\n",
    "# Mostrar los primeros 5 valores\n",
    "print(ts6.head())"
   ]
  },
  {
   "cell_type": "markdown",
   "metadata": {},
   "source": [
    "Pregunta 16.16. Desplaza la serie ts6 2 meses hacia adelante y muestra los primeros 5 valores."
   ]
  },
  {
   "cell_type": "code",
   "execution_count": 20,
   "metadata": {},
   "outputs": [
    {
     "name": "stdout",
     "output_type": "stream",
     "text": [
      "2019-03-31   -1.211034\n",
      "2019-04-30    0.440427\n",
      "2019-05-31   -0.275052\n",
      "2019-06-30    1.888205\n",
      "2019-07-31   -0.316392\n",
      "Freq: ME, dtype: float64\n"
     ]
    },
    {
     "name": "stderr",
     "output_type": "stream",
     "text": [
      "C:\\Users\\CursosTardes\\AppData\\Local\\Temp\\ipykernel_16196\\1531802324.py:2: FutureWarning: 'M' is deprecated and will be removed in a future version, please use 'ME' instead.\n",
      "  ts6_shifted_forward = ts6.shift(2, freq='M')\n"
     ]
    }
   ],
   "source": [
    "# Desplazar la serie ts6 2 meses hacia adelante\n",
    "ts6_shifted_forward = ts6.shift(2, freq='M')\n",
    "\n",
    "# Mostrar los primeros 5 valores\n",
    "print(ts6_shifted_forward.head())\n"
   ]
  },
  {
   "cell_type": "markdown",
   "metadata": {},
   "source": [
    "Pregunta 16.17. Agrupa la serie ts6 por el final de cada trimestre y calcula la media de los valores en cada grupo."
   ]
  },
  {
   "cell_type": "code",
   "execution_count": 21,
   "metadata": {},
   "outputs": [
    {
     "name": "stdout",
     "output_type": "stream",
     "text": [
      "2019-03-31   -0.348553\n",
      "2019-06-30    0.650198\n",
      "2019-09-30    0.475861\n",
      "2019-12-31   -0.008202\n",
      "Freq: QE-DEC, dtype: float64\n"
     ]
    },
    {
     "name": "stderr",
     "output_type": "stream",
     "text": [
      "C:\\Users\\CursosTardes\\AppData\\Local\\Temp\\ipykernel_16196\\2149516354.py:2: FutureWarning: 'Q' is deprecated and will be removed in a future version, please use 'QE' instead.\n",
      "  ts6_quarterly_mean = ts6.resample('Q').mean()\n"
     ]
    }
   ],
   "source": [
    "# Agrupar la serie ts6 por el final de cada trimestre y calcular la media\n",
    "ts6_quarterly_mean = ts6.resample('Q').mean()\n",
    "\n",
    "# Mostrar los valores resultantes\n",
    "print(ts6_quarterly_mean)"
   ]
  },
  {
   "cell_type": "markdown",
   "metadata": {},
   "source": [
    "Pregunta 16.18. Utiliza el método truncate para recortar la serie ts6 y quedarte solo con los valores hasta el final de junio de 2019."
   ]
  },
  {
   "cell_type": "code",
   "execution_count": 22,
   "metadata": {},
   "outputs": [
    {
     "name": "stdout",
     "output_type": "stream",
     "text": [
      "2019-01-31   -1.211034\n",
      "2019-02-28    0.440427\n",
      "2019-03-31   -0.275052\n",
      "2019-04-30    1.888205\n",
      "2019-05-31   -0.316392\n",
      "2019-06-30    0.378782\n",
      "Freq: ME, dtype: float64\n"
     ]
    }
   ],
   "source": [
    "# Recortar la serie ts6 hasta el final de junio de 2019\n",
    "ts6_truncated = ts6.truncate(after='2019-06-30')\n",
    "\n",
    "# Mostrar los valores resultantes\n",
    "print(ts6_truncated)"
   ]
  },
  {
   "cell_type": "markdown",
   "metadata": {},
   "source": [
    "Pregunta 16.19. Crea una serie temporal ts7 con 10 valores aleatorios y un índice de fechas que comienzan el 1 de enero de 2018, con una frecuencia de 3 días. Muestra los primeros 5 valores."
   ]
  },
  {
   "cell_type": "code",
   "execution_count": 23,
   "metadata": {},
   "outputs": [
    {
     "name": "stdout",
     "output_type": "stream",
     "text": [
      "2018-01-01    1.023743\n",
      "2018-01-04   -0.328014\n",
      "2018-01-07   -1.719729\n",
      "2018-01-10   -1.640561\n",
      "2018-01-13   -0.624453\n",
      "Freq: 3D, dtype: float64\n"
     ]
    }
   ],
   "source": [
    "# Crear la serie temporal ts7\n",
    "dates_ts7 = pd.date_range(start='2018-01-01', periods=10, freq='3D')\n",
    "values_ts7 = np.random.randn(10)\n",
    "ts7 = pd.Series(values_ts7, index=dates_ts7)\n",
    "\n",
    "# Mostrar los primeros 5 valores\n",
    "print(ts7.head())"
   ]
  },
  {
   "cell_type": "markdown",
   "metadata": {},
   "source": [
    "Pregunta 16.20. Agrupa la serie ts7 por el final de cada mes y calcula la suma de los valores en cada grupo."
   ]
  },
  {
   "cell_type": "code",
   "execution_count": 25,
   "metadata": {},
   "outputs": [
    {
     "name": "stdout",
     "output_type": "stream",
     "text": [
      "\n",
      "Suma de valores por fin de mes en la serie temporal ts7:\n",
      "2018-01-31   -3.638722\n",
      "Freq: ME, dtype: float64\n"
     ]
    },
    {
     "name": "stderr",
     "output_type": "stream",
     "text": [
      "C:\\Users\\CursosTardes\\AppData\\Local\\Temp\\ipykernel_16196\\3460984479.py:2: FutureWarning: 'M' is deprecated and will be removed in a future version, please use 'ME' instead.\n",
      "  ts7_grouped = ts7.resample('M').sum()\n"
     ]
    }
   ],
   "source": [
    "# Agrupar por el final de cada mes y calcular la suma de los valores en cada grupo\n",
    "ts7_grouped = ts7.resample('M').sum()\n",
    "\n",
    "# Mostrar los resultados\n",
    "print(\"\\nSuma de valores por fin de mes en la serie temporal ts7:\")\n",
    "print(ts7_grouped)"
   ]
  }
 ],
 "metadata": {
  "celltoolbar": "Slideshow",
  "kernelspec": {
   "display_name": "Python 3 (ipykernel)",
   "language": "python",
   "name": "python3"
  },
  "language_info": {
   "codemirror_mode": {
    "name": "ipython",
    "version": 3
   },
   "file_extension": ".py",
   "mimetype": "text/x-python",
   "name": "python",
   "nbconvert_exporter": "python",
   "pygments_lexer": "ipython3",
   "version": "3.11.7"
  }
 },
 "nbformat": 4,
 "nbformat_minor": 4
}
