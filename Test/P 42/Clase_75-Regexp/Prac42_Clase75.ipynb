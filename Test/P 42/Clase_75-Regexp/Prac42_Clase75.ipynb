{
 "cells": [
  {
   "cell_type": "markdown",
   "id": "f426c096",
   "metadata": {
    "slideshow": {
     "slide_type": "slide"
    }
   },
   "source": [
    "# Limpieza y preparación de datos"
   ]
  },
  {
   "cell_type": "markdown",
   "id": "4c5fa90c",
   "metadata": {
    "slideshow": {
     "slide_type": "slide"
    }
   },
   "source": [
    "## 2.8 Manipulación de cadenas (string)"
   ]
  },
  {
   "cell_type": "markdown",
   "id": "e8b4bb14",
   "metadata": {},
   "source": [
    "Python ha sido durante mucho tiempo un lenguaje popular de manipulación de datos en bruto, en parte debido a su facilidad de uso para el procesamiento de cadenas y texto. La mayoría de las operaciones de texto se simplifican con los métodos incorporados en el objeto string. Para la comparación de patrones y manipulaciones de texto más complejas, pueden ser necesarias expresiones regulares. Pandas se suma a la mezcla al permitirle aplicar expresiones de cadena y regulares de forma concisa en arrays enteros de datos, manejando además la molestia de los datos que faltan."
   ]
  },
  {
   "cell_type": "markdown",
   "id": "7d3dce3f",
   "metadata": {
    "slideshow": {
     "slide_type": "slide"
    }
   },
   "source": [
    "### Expresiones Regulares"
   ]
  },
  {
   "cell_type": "markdown",
   "id": "06477338",
   "metadata": {},
   "source": [
    "Las expresiones regulares proporcionan una forma flexible de buscar o hacer coincidir patrones de cadenas (a menudo más complejos) en el texto. Una expresión regular, comúnmente llamada regex, es una cadena formada según el lenguaje de expresiones regulares. El módulo `re` incorporado en Python se encarga de aplicar expresiones regulares a las cadenas; aquí daré varios ejemplos de su uso."
   ]
  },
  {
   "cell_type": "markdown",
   "id": "e6c2c1c4",
   "metadata": {
    "slideshow": {
     "slide_type": "slide"
    }
   },
   "source": [
    "Las funciones del módulo `re` se dividen en tres categorías: coincidencia de patrones, sustitución y división. Naturalmente, todas ellas están relacionadas; un `regex` describe un patrón a localizar en el texto, que luego puede utilizarse para muchos fines. Veamos un ejemplo sencillo: supongamos que queremos dividir una cadena con un número variable de caracteres de espacio en blanco (tabuladores, espacios y nuevas líneas)."
   ]
  },
  {
   "cell_type": "markdown",
   "id": "97ee542a-6ff4-4353-9c48-4744d8d55ec4",
   "metadata": {},
   "source": [
    "### Ejercicio 5. Expresiones regulares."
   ]
  },
  {
   "cell_type": "markdown",
   "id": "0cc25243-7b9c-45f0-8e17-11094e1947eb",
   "metadata": {},
   "source": [
    "#### Dado el siguiente Diccionario:  "
   ]
  },
  {
   "cell_type": "code",
   "execution_count": 177,
   "id": "d6ccc579-c287-4557-b46a-6ebe636e5761",
   "metadata": {},
   "outputs": [
    {
     "data": {
      "text/plain": [
       "\"\\ndata = {\\n    'Name': [\\n        'Dave', 'Steve', 'Rob', 'Ryan', 'Alice', 'Eve', 'John', 'Jane', 'Peter', 'Mary', 'Tom', 'Lucy', \\n        'Mike', 'Chris', 'Emma', 'Olivia', 'Sophia', 'Liam', 'Noah', 'Mason', 'Ava', 'Mia', 'James', 'Benjamin'\\n    ],\\n    'Email': [\\n        'dave@google.com', 'steve@gmail.com', 'rob@yahoo.com', 'ryan@gmail.com', \\n        'alice@hotmail.com', 'eve@google.com', 'john@outlook.com', 'jane@gmail.com',\\n        'peter@amazon.com', 'mary@google.com', 'tom@apple.com', 'lucy@yahoo.com',\\n        'mike@facebook.com', 'chris@netflix.com', 'emma@google.com', 'olivia@gmail.com',\\n        'sophia@amazon.com', 'liam@apple.com', 'noah@google.com', 'mason@yahoo.com',\\n        'ava@outlook.com', 'mia@gmail.com', 'james@hotmail.com', 'benjamin@google.com'\\n    ]\\n}\\n\""
      ]
     },
     "execution_count": 177,
     "metadata": {},
     "output_type": "execute_result"
    }
   ],
   "source": [
    "'''\n",
    "data = {\n",
    "    'Name': [\n",
    "        'Dave', 'Steve', 'Rob', 'Ryan', 'Alice', 'Eve', 'John', 'Jane', 'Peter', 'Mary', 'Tom', 'Lucy', \n",
    "        'Mike', 'Chris', 'Emma', 'Olivia', 'Sophia', 'Liam', 'Noah', 'Mason', 'Ava', 'Mia', 'James', 'Benjamin'\n",
    "    ],\n",
    "    'Email': [\n",
    "        'dave@google.com', 'steve@gmail.com', 'rob@yahoo.com', 'ryan@gmail.com', \n",
    "        'alice@hotmail.com', 'eve@google.com', 'john@outlook.com', 'jane@gmail.com',\n",
    "        'peter@amazon.com', 'mary@google.com', 'tom@apple.com', 'lucy@yahoo.com',\n",
    "        'mike@facebook.com', 'chris@netflix.com', 'emma@google.com', 'olivia@gmail.com',\n",
    "        'sophia@amazon.com', 'liam@apple.com', 'noah@google.com', 'mason@yahoo.com',\n",
    "        'ava@outlook.com', 'mia@gmail.com', 'james@hotmail.com', 'benjamin@google.com'\n",
    "    ]\n",
    "}\n",
    "'''"
   ]
  },
  {
   "cell_type": "markdown",
   "id": "b0f15d5d-b07e-42f9-bbf9-cc1224a74b4f",
   "metadata": {},
   "source": [
    "### Una vez pasado el diccionario a un DataFrame que contiene nombres y direcciones de correo electrónico, realiza las siguientes tareas:\n",
    "\n",
    "- Extrae los dominios de los correos electrónicos.\n",
    "- Cuenta la frecuencia de cada dominio.\n",
    "- Crea un nuevo DataFrame que contenga cada dominio como columna y el número de veces que se repiten dichos dominios en las filas.\n",
    "#### Resolver de las dos formas: Usando expresiones regulares y usando los métodos propios de pandas."
   ]
  },
  {
   "cell_type": "markdown",
   "id": "3337b807-abb2-49b3-a6be-ad669232a0ef",
   "metadata": {},
   "source": [
    "## Solución con expresiones regulares"
   ]
  },
  {
   "cell_type": "code",
   "execution_count": null,
   "id": "626a3f3c-bf24-4704-836f-dad38774cdea",
   "metadata": {},
   "outputs": [],
   "source": []
  },
  {
   "cell_type": "markdown",
   "id": "15800608-77f1-4412-b9e3-14115ad88bdb",
   "metadata": {},
   "source": [
    "## Solución con los métodos propios de Pandas"
   ]
  },
  {
   "cell_type": "code",
   "execution_count": null,
   "id": "e524e8b8-86ff-4158-b6b5-6235e4472b6a",
   "metadata": {},
   "outputs": [],
   "source": []
  },
  {
   "cell_type": "markdown",
   "id": "16f12770",
   "metadata": {
    "slideshow": {
     "slide_type": "slide"
    }
   },
   "source": [
    "## 2.9 Datos Categóricos"
   ]
  },
  {
   "cell_type": "markdown",
   "id": "9efcf502-688c-4d7c-9a71-81b2405c6438",
   "metadata": {},
   "source": [
    "### Ejercicio 6. Dados los siguientes datos:"
   ]
  },
  {
   "cell_type": "code",
   "execution_count": null,
   "id": "49c80190-a508-44df-bf3c-6fe430b12b29",
   "metadata": {},
   "outputs": [],
   "source": [
    "'''\n",
    "encoded_labels = [\n",
    "    0, 1, 2, 3, 0, 4, 5, 6, 2, 1, 3, 0, 5, 4, 6, 1, 2, 5, 4, 3,\n",
    "    7, 8, 9, 10, 7, 11, 12, 13, 9, 8, 10, 7, 12, 11, 13, 8, 9, 12, 11, 10,\n",
    "    14, 15, 16, 17, 18, 19, 20, 21, 22, 23, 24, 25, 26, 27, 28, 29, 30, 31, 32, 33\n",
    "]\n",
    "\n",
    "animal_labels = [\n",
    "    'cat', 'dog', 'bird', 'fish', 'lion', 'tiger', 'bear', 'elephant', \n",
    "    'giraffe', 'zebra', 'kangaroo', 'koala', 'panda', 'monkey',\n",
    "    'shark', 'whale', 'dolphin', 'penguin', 'ostrich', 'crocodile', \n",
    "    'alligator', 'hippopotamus', 'rhinoceros', 'cheetah', 'leopard', \n",
    "    'jaguar', 'wolf', 'fox', 'rabbit', 'squirrel', 'bat', 'owl', \n",
    "    'hawk', 'eagle'\n",
    "]\n",
    "\n",
    "'''"
   ]
  },
  {
   "cell_type": "markdown",
   "id": "2f6d77d4-ef42-459f-b729-506c530beb69",
   "metadata": {},
   "source": [
    "1- Recrear las etiquetas originales a partir de los índices codificados.  \n",
    "2- Contar la frecuencia de cada etiqueta de animal.  \n",
    "3- Identificar las etiquetas de animales únicas presentes en los datos.  \n",
    "4- Determinar el animal más frecuente y el menos frecuente.  \n",
    "5- Agrupar los animales y contar la frecuencia por grupos (mamíferos, aves, reptiles, etc.).  \n",
    "6- Identificar la posición de las primeras y últimas ocurrencias de cada animal.  \n",
    "7- Generar un resumen estadístico de las frecuencias de los animales (media, mediana, desviación estándar).  \n",
    "8- Filtrar y mostrar solo los animales con una frecuencia mayor que 2.  \n",
    "9- Encontrar y mostrar las etiquetas de animales que aparecen solo una vez.  \n",
    "10- Calcular el porcentaje de apariciones de cada animal respecto al total.  \n",
    "11- Ordenar las etiquetas de animales por frecuencia en orden descendente.  \n",
    "12- Generar un DataFrame que muestre la frecuencia acumulativa de las etiquetas."
   ]
  },
  {
   "cell_type": "code",
   "execution_count": null,
   "id": "f4e4b000",
   "metadata": {},
   "outputs": [],
   "source": []
  },
  {
   "cell_type": "code",
   "execution_count": null,
   "id": "9d15a345-4b1f-4b46-8ad3-d2f3d4101e9c",
   "metadata": {},
   "outputs": [],
   "source": []
  },
  {
   "cell_type": "code",
   "execution_count": null,
   "id": "df4d61a2-d864-4e16-b097-b139a7ffcffc",
   "metadata": {},
   "outputs": [],
   "source": []
  }
 ],
 "metadata": {
  "celltoolbar": "Slideshow",
  "kernelspec": {
   "display_name": "Python 3 (ipykernel)",
   "language": "python",
   "name": "python3"
  },
  "language_info": {
   "codemirror_mode": {
    "name": "ipython",
    "version": 3
   },
   "file_extension": ".py",
   "mimetype": "text/x-python",
   "name": "python",
   "nbconvert_exporter": "python",
   "pygments_lexer": "ipython3",
   "version": "3.11.9"
  }
 },
 "nbformat": 4,
 "nbformat_minor": 5
}
