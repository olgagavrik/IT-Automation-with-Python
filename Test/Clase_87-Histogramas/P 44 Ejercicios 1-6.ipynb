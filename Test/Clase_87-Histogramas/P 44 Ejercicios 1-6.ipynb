{
 "cells": [
  {
   "cell_type": "code",
   "execution_count": 1,
   "id": "223a452d-52c8-4f64-a4fe-6fafa20936da",
   "metadata": {},
   "outputs": [],
   "source": [
    "import numpy as np\n",
    "import pandas as pd\n",
    "import matplotlib as plt\n",
    "import seaborn as sns"
   ]
  },
  {
   "cell_type": "code",
   "execution_count": 2,
   "id": "4fb5b060-62bb-4958-8666-30663754c296",
   "metadata": {},
   "outputs": [],
   "source": [
    "# !pip install scipy\n",
    "# !pip install statsmodels\n",
    "# !pip install pingouin"
   ]
  },
  {
   "cell_type": "code",
   "execution_count": 3,
   "id": "af82fb1a-8e5d-43d9-87f3-f143816834d2",
   "metadata": {},
   "outputs": [],
   "source": [
    "from scipy import stats \n",
    "import statsmodels as sm\n",
    "import pingouin as pg"
   ]
  },
  {
   "cell_type": "markdown",
   "id": "e19b13c4-22c4-470d-84a4-670ff1067f10",
   "metadata": {},
   "source": [
    "# Estadistica para Ciencia de Datos"
   ]
  },
  {
   "cell_type": "markdown",
   "id": "d5c17fb6-0f2d-4e48-b6b7-dc97693dcce8",
   "metadata": {},
   "source": [
    "#### Ejercicio 1: Estimaciones de Ubicación de la Población y las Tasas de Homicidios\n",
    "\n",
    "La Tabla 1-2 muestra las primeras filas del conjunto de datos que contiene la población y las tasas de homicidios (en unidades de asesinatos por cada 100,000 personas por año) para cada estado de EE. UU. (Censo de 2010).\n",
    "\n",
    "| Estado       | Población  | Tasa de Homicidios | Abreviatura |\n",
    "|--------------|-------------|-------------------|-------------|\n",
    "| Alabama      | 4,779,736   | 5.7               | AL          |\n",
    "| Alaska       | 710,231     | 5.6               | AK          |\n",
    "| Arizona      | 6,392,017   | 4.7               | AZ          |\n",
    "| Arkansas     | 2,915,918   | 5.6               | AR          |\n",
    "| California   | 37,253,956  | 4.4               | CA          |\n",
    "| Colorado     | 5,029,196   | 2.8               | CO          |\n",
    "| Connecticut  | 3,574,097   | 2.4               | CT          |\n",
    "| Delaware     | 897,934     | 5.8               | DE          |\n",
    "\n",
    "Calcula la media, la media recortada, la media ponderada y la mediana para la población usando Pandas, Scipy y Pingouine (Opcional: Statsmodels). Utilice el fichero `state.csv`"
   ]
  },
  {
   "cell_type": "code",
   "execution_count": 4,
   "id": "5989fdae",
   "metadata": {},
   "outputs": [
    {
     "name": "stdout",
     "output_type": "stream",
     "text": [
      "State            object\n",
      "Population        int64\n",
      "Murder.Rate     float64\n",
      "Abbreviation     object\n",
      "dtype: object\n"
     ]
    },
    {
     "data": {
      "text/plain": [
       "(6162876.3, 4783697.125, 13620491.638786951, 4436369.5)"
      ]
     },
     "execution_count": 4,
     "metadata": {},
     "output_type": "execute_result"
    }
   ],
   "source": [
    "import pandas as pd\n",
    "import numpy as np\n",
    "from scipy.stats import trim_mean\n",
    "\n",
    "# Cargar los datos desde el archivo CSV\n",
    "file_path = 'state.csv'\n",
    "state_data = pd.read_csv(file_path)\n",
    "\n",
    "# Verificar el tipo de datos de las columnas\n",
    "print(state_data.dtypes)\n",
    "\n",
    "# Convertir la columna 'Population' a valores numéricos si es necesario\n",
    "if state_data['Population'].dtype == 'object':\n",
    "    state_data['Population'] = state_data['Population'].str.replace(',', '').astype(float)\n",
    "\n",
    "# Calcular la media\n",
    "mean_population = state_data['Population'].mean()\n",
    "\n",
    "# Calcular la media recortada (porcentaje de recorte del 10%)\n",
    "trimmed_mean_population = trim_mean(state_data['Population'], 0.1)\n",
    "\n",
    "# Calcular la media ponderada (usando la misma población como pesos para ilustración)\n",
    "weighted_mean_population = np.average(state_data['Population'], weights=state_data['Population'])\n",
    "\n",
    "# Calcular la mediana\n",
    "median_population = state_data['Population'].median()\n",
    "\n",
    "# Mostrar los resultados\n",
    "mean_population, trimmed_mean_population, weighted_mean_population, median_population\n",
    "\n",
    "\n"
   ]
  },
  {
   "cell_type": "markdown",
   "id": "ad80e081-e27c-46b5-8a3e-e286e9e898eb",
   "metadata": {},
   "source": [
    "#### Ejercicio 2. Investigar cómo se interpreta estadísticamente la medida de tendecia central: `moda`.  \n",
    "Buscar ejemplos concretos donde se aplique la moda. Desarrolle un ejemplo con Pandas, Scipy, Statsmodels y Pingouine"
   ]
  },
  {
   "cell_type": "code",
   "execution_count": 6,
   "id": "a4543864",
   "metadata": {},
   "outputs": [
    {
     "data": {
      "text/plain": [
       "0    1.6\n",
       "1    2.0\n",
       "2    5.7\n",
       "Name: Murder.Rate, dtype: float64"
      ]
     },
     "execution_count": 6,
     "metadata": {},
     "output_type": "execute_result"
    }
   ],
   "source": [
    "import pandas as pd\n",
    "\n",
    "# Cargar los datos desde el archivo CSV\n",
    "file_path = 'state.csv'\n",
    "state_data = pd.read_csv(file_path)\n",
    "\n",
    "# Calcular la moda usando pandas\n",
    "mode_murder_rate = state_data['Murder.Rate'].mode()\n",
    "mode_murder_rate\n"
   ]
  },
  {
   "cell_type": "code",
   "execution_count": 7,
   "id": "f17e1c25",
   "metadata": {},
   "outputs": [
    {
     "data": {
      "text/plain": [
       "ModeResult(mode=1.6, count=3)"
      ]
     },
     "execution_count": 7,
     "metadata": {},
     "output_type": "execute_result"
    }
   ],
   "source": [
    "from scipy import stats\n",
    "\n",
    "# Calcular la moda usando scipy\n",
    "mode_murder_rate_scipy = stats.mode(state_data['Murder.Rate'])\n",
    "mode_murder_rate_scipy\n"
   ]
  },
  {
   "cell_type": "markdown",
   "id": "947f38f6-4d32-4919-9d8a-869287262a7b",
   "metadata": {},
   "source": [
    ">   **Ejercicio 3**. Con la misma dataset del ejercicio 2 (`state.csv`) calcule todas las medidas de dispersión dadas en esta en clase (incluyendo el cálculo del umbral para detectar outliers usando la desviación absoluta mediana) sobre la variable Población. Utilizar Pandas, Numpy y SciPy. Interpretar resultados."
   ]
  },
  {
   "cell_type": "code",
   "execution_count": 10,
   "id": "7018e487",
   "metadata": {},
   "outputs": [
    {
     "data": {
      "text/plain": [
       "{'Rango': 36690330,\n",
       " 'Varianza': 46898327373394.445,\n",
       " 'Desviación Estándar': 6848235.347401142,\n",
       " 'Rango Intercuartil (IQR)': 4847308.0,\n",
       " 'Desviación Absoluta Mediana (MAD)': 2596702.0,\n",
       " 'Umbral para detectar outliers (MAD)': 7790106.0,\n",
       " 'Outliers': array([37253956, 18801310, 12830632, 19378102, 12702379, 25145561],\n",
       "       dtype=int64)}"
      ]
     },
     "execution_count": 10,
     "metadata": {},
     "output_type": "execute_result"
    }
   ],
   "source": [
    "import pandas as pd\n",
    "import numpy as np\n",
    "from scipy import stats\n",
    "\n",
    "# Cargar los datos desde el archivo CSV\n",
    "file_path = 'state.csv'\n",
    "state_data = pd.read_csv(file_path)\n",
    "\n",
    "# Convertir la columna 'Population' a valores numéricos si es necesario\n",
    "if state_data['Population'].dtype == 'object':\n",
    "    state_data['Population'] = state_data['Population'].str.replace(',', '').astype(float)\n",
    "\n",
    "# Calcular las medidas de dispersión\n",
    "population = state_data['Population']\n",
    "\n",
    "# Rango\n",
    "range_population = population.max() - population.min()\n",
    "\n",
    "# Varianza\n",
    "variance_population = population.var()\n",
    "\n",
    "# Desviación estándar\n",
    "std_dev_population = population.std()\n",
    "\n",
    "# Rango intercuartil (IQR)\n",
    "q1 = population.quantile(0.25)\n",
    "q3 = population.quantile(0.75)\n",
    "iqr_population = q3 - q1\n",
    "\n",
    "# Desviación absoluta mediana (MAD)\n",
    "mad_population = stats.median_abs_deviation(population)\n",
    "\n",
    "# Umbral para detectar outliers usando MAD\n",
    "threshold = 3 * mad_population\n",
    "\n",
    "# Identificar outliers\n",
    "median_population = np.median(population)\n",
    "outliers = population[np.abs(population - median_population) > threshold]\n",
    "\n",
    "# Mostrar los resultados\n",
    "dispersion_measures = {\n",
    "    \"Rango\": range_population,\n",
    "    \"Varianza\": variance_population,\n",
    "    \"Desviación Estándar\": std_dev_population,\n",
    "    \"Rango Intercuartil (IQR)\": iqr_population,\n",
    "    \"Desviación Absoluta Mediana (MAD)\": mad_population,\n",
    "    \"Umbral para detectar outliers (MAD)\": threshold,\n",
    "    \"Outliers\": outliers.values\n",
    "}\n",
    "\n",
    "dispersion_measures\n"
   ]
  },
  {
   "cell_type": "markdown",
   "id": "8a6a5124-ac17-4b4d-ac3b-3564e74d6f12",
   "metadata": {},
   "source": [
    ">  **Ejercicio 4** Con la misma dataset de los ejercicios anteriores (`states.csv`), calcular los percentiles 25, 50 y 75. Calcular tambien el rango y el IQR para la variable población. Calcular/detectar outliers usando MAD y usando el criterio de Tukey (investigar)  Realizar dos gráficos. El primero: Un histograma que muestre los percentiles y el IQR. El segundo gráfico un boxplot (diagrama de caja y bigote) que muestre los outliers. "
   ]
  },
  {
   "cell_type": "code",
   "execution_count": 11,
   "id": "ab3189b8",
   "metadata": {},
   "outputs": [
    {
     "name": "stderr",
     "output_type": "stream",
     "text": [
      "c:\\Users\\CursosTardes\\anaconda3\\Lib\\site-packages\\seaborn\\_oldcore.py:1119: FutureWarning: use_inf_as_na option is deprecated and will be removed in a future version. Convert inf values to NaN before operating instead.\n",
      "  with pd.option_context('mode.use_inf_as_na', True):\n"
     ]
    },
    {
     "data": {
      "image/png": "[encoded data removed]",
      "text/plain": [
       "<Figure size 1200x600 with 1 Axes>"
      ]
     },
     "metadata": {},
     "output_type": "display_data"
    },
    {
     "data": {
      "image/png": "[encoded data removed]",
      "text/plain": [
       "<Figure size 1200x600 with 1 Axes>"
      ]
     },
     "metadata": {},
     "output_type": "display_data"
    }
   ],
   "source": [
    "import pandas as pd\n",
    "import numpy as np\n",
    "from scipy import stats\n",
    "import matplotlib.pyplot as plt\n",
    "import seaborn as sns\n",
    "\n",
    "# Cargar los datos desde el archivo CSV\n",
    "file_path = 'state.csv'\n",
    "state_data = pd.read_csv(file_path)\n",
    "\n",
    "# Convertir la columna 'Population' a valores numéricos si es necesario\n",
    "if state_data['Population'].dtype == 'object':\n",
    "    state_data['Population'] = state_data['Population'].str.replace(',', '').astype(float)\n",
    "\n",
    "# Calcular percentiles\n",
    "percentile_25 = np.percentile(state_data['Population'], 25)\n",
    "percentile_50 = np.percentile(state_data['Population'], 50)\n",
    "percentile_75 = np.percentile(state_data['Population'], 75)\n",
    "\n",
    "# Calcular el rango\n",
    "range_population = state_data['Population'].max() - state_data['Population'].min()\n",
    "\n",
    "# Calcular el rango intercuartil (IQR)\n",
    "iqr_population = percentile_75 - percentile_25\n",
    "\n",
    "# Detectar outliers usando MAD\n",
    "mad_population = stats.median_abs_deviation(state_data['Population'])\n",
    "threshold_mad = 3 * mad_population\n",
    "median_population = np.median(state_data['Population'])\n",
    "outliers_mad = state_data['Population'][np.abs(state_data['Population'] - median_population) > threshold_mad]\n",
    "\n",
    "# Detectar outliers usando el criterio de Tukey\n",
    "q1 = percentile_25\n",
    "q3 = percentile_75\n",
    "iqr = iqr_population\n",
    "lower_bound_tukey = q1 - 1.5 * iqr\n",
    "upper_bound_tukey = q3 + 1.5 * iqr\n",
    "outliers_tukey = state_data['Population'][(state_data['Population'] < lower_bound_tukey) | (state_data['Population'] > upper_bound_tukey)]\n",
    "\n",
    "# Graficar el histograma con percentiles y IQR\n",
    "plt.figure(figsize=(12, 6))\n",
    "sns.histplot(state_data['Population'], bins=10, kde=False, color='blue')\n",
    "plt.axvline(percentile_25, color='r', linestyle='--', label='Percentil 25')\n",
    "plt.axvline(percentile_50, color='g', linestyle='-', label='Percentil 50 (Mediana)')\n",
    "plt.axvline(percentile_75, color='r', linestyle='--', label='Percentil 75')\n",
    "plt.axvline(q1, color='y', linestyle='--', label='Cuartil 1')\n",
    "plt.axvline(q3, color='y', linestyle='--', label='Cuartil 3')\n",
    "plt.fill_betweenx([0, 5], q1, q3, color='gray', alpha=0.2, label='IQR')\n",
    "plt.title('Histograma de la Población con Percentiles y IQR')\n",
    "plt.xlabel('Población')\n",
    "plt.ylabel('Frecuencia')\n",
    "plt.legend()\n",
    "plt.show()\n",
    "\n",
    "# Graficar el boxplot que muestre los outliers\n",
    "plt.figure(figsize=(12, 6))\n",
    "sns.boxplot(x=state_data['Population'])\n",
    "plt.axvline(lower_bound_tukey, color='r', linestyle='--', label='Límite Inferior (Tukey)')\n",
    "plt.axvline(upper_bound_tukey, color='r', linestyle='--', label='Límite Superior (Tukey)')\n",
    "plt.title('Boxplot de la Población mostrando Outliers')\n",
    "plt.xlabel('Población')\n",
    "plt.legend()\n",
    "plt.show()\n"
   ]
  },
  {
   "cell_type": "code",
   "execution_count": 12,
   "id": "564ad211-e508-4258-9a43-315bf63c4808",
   "metadata": {},
   "outputs": [],
   "source": [
    "import pandas as pd\n",
    "import matplotlib.pyplot as plt\n",
    "state = pd.read_csv('state.csv')"
   ]
  },
  {
   "cell_type": "code",
   "execution_count": 13,
   "id": "102c41ba-27a0-499a-a50b-348a5b0cd54b",
   "metadata": {},
   "outputs": [
    {
     "data": {
      "text/plain": [
       "Population\n",
       "(526935.67, 4232659.0]      24\n",
       "(4232659.0, 7901692.0]      14\n",
       "(7901692.0, 11570725.0]      6\n",
       "(11570725.0, 15239758.0]     2\n",
       "(15239758.0, 18908791.0]     1\n",
       "(18908791.0, 22577824.0]     1\n",
       "(22577824.0, 26246857.0]     1\n",
       "(33584923.0, 37253956.0]     1\n",
       "(26246857.0, 29915890.0]     0\n",
       "(29915890.0, 33584923.0]     0\n",
       "Name: count, dtype: int64"
      ]
     },
     "execution_count": 13,
     "metadata": {},
     "output_type": "execute_result"
    }
   ],
   "source": [
    "binnedPopulation = pd.cut(state['Population'], 10)\n",
    "binnedPopulation.value_counts()"
   ]
  },
  {
   "cell_type": "markdown",
   "id": "deef9c83-0925-4af5-8efb-5228776a6121",
   "metadata": {},
   "source": [
    "> **Ejercicio 5**. Convertir la serie de arriba en un dataframe con indices enteros"
   ]
  },
  {
   "cell_type": "code",
   "execution_count": 16,
   "id": "cfe84b50",
   "metadata": {},
   "outputs": [
    {
     "data": {
      "text/html": [
       "<div>\n",
       "<style scoped>\n",
       "    .dataframe tbody tr th:only-of-type {\n",
       "        vertical-align: middle;\n",
       "    }\n",
       "\n",
       "    .dataframe tbody tr th {\n",
       "        vertical-align: top;\n",
       "    }\n",
       "\n",
       "    .dataframe thead th {\n",
       "        text-align: right;\n",
       "    }\n",
       "</style>\n",
       "<table border=\"1\" class=\"dataframe\">\n",
       "  <thead>\n",
       "    <tr style=\"text-align: right;\">\n",
       "      <th></th>\n",
       "      <th>Population Range</th>\n",
       "      <th>Count</th>\n",
       "    </tr>\n",
       "  </thead>\n",
       "  <tbody>\n",
       "    <tr>\n",
       "      <th>0</th>\n",
       "      <td>(526935.67, 4232659.0]</td>\n",
       "      <td>24</td>\n",
       "    </tr>\n",
       "    <tr>\n",
       "      <th>1</th>\n",
       "      <td>(4232659.0, 7901692.0]</td>\n",
       "      <td>14</td>\n",
       "    </tr>\n",
       "    <tr>\n",
       "      <th>2</th>\n",
       "      <td>(7901692.0, 11570725.0]</td>\n",
       "      <td>6</td>\n",
       "    </tr>\n",
       "    <tr>\n",
       "      <th>3</th>\n",
       "      <td>(11570725.0, 15239758.0]</td>\n",
       "      <td>2</td>\n",
       "    </tr>\n",
       "    <tr>\n",
       "      <th>4</th>\n",
       "      <td>(15239758.0, 18908791.0]</td>\n",
       "      <td>1</td>\n",
       "    </tr>\n",
       "    <tr>\n",
       "      <th>5</th>\n",
       "      <td>(18908791.0, 22577824.0]</td>\n",
       "      <td>1</td>\n",
       "    </tr>\n",
       "    <tr>\n",
       "      <th>6</th>\n",
       "      <td>(22577824.0, 26246857.0]</td>\n",
       "      <td>1</td>\n",
       "    </tr>\n",
       "    <tr>\n",
       "      <th>7</th>\n",
       "      <td>(26246857.0, 29915890.0]</td>\n",
       "      <td>1</td>\n",
       "    </tr>\n",
       "    <tr>\n",
       "      <th>8</th>\n",
       "      <td>(29915890.0, 33584923.0]</td>\n",
       "      <td>1</td>\n",
       "    </tr>\n",
       "    <tr>\n",
       "      <th>9</th>\n",
       "      <td>(33584923.0, 37253956.0]</td>\n",
       "      <td>0</td>\n",
       "    </tr>\n",
       "  </tbody>\n",
       "</table>\n",
       "</div>"
      ],
      "text/plain": [
       "           Population Range  Count\n",
       "0    (526935.67, 4232659.0]     24\n",
       "1    (4232659.0, 7901692.0]     14\n",
       "2   (7901692.0, 11570725.0]      6\n",
       "3  (11570725.0, 15239758.0]      2\n",
       "4  (15239758.0, 18908791.0]      1\n",
       "5  (18908791.0, 22577824.0]      1\n",
       "6  (22577824.0, 26246857.0]      1\n",
       "7  (26246857.0, 29915890.0]      1\n",
       "8  (29915890.0, 33584923.0]      1\n",
       "9  (33584923.0, 37253956.0]      0"
      ]
     },
     "execution_count": 16,
     "metadata": {},
     "output_type": "execute_result"
    }
   ],
   "source": [
    "import pandas as pd\n",
    "\n",
    "# Crear la serie de ejemplo\n",
    "population_series = pd.Series([24, 14, 6, 2, 1, 1, 1, 1, 1, 0], \n",
    "                              index=[\n",
    "                                  '(526935.67, 4232659.0]', \n",
    "                                  '(4232659.0, 7901692.0]', \n",
    "                                  '(7901692.0, 11570725.0]', \n",
    "                                  '(11570725.0, 15239758.0]', \n",
    "                                  '(15239758.0, 18908791.0]', \n",
    "                                  '(18908791.0, 22577824.0]', \n",
    "                                  '(22577824.0, 26246857.0]', \n",
    "                                  '(26246857.0, 29915890.0]', \n",
    "                                  '(29915890.0, 33584923.0]', \n",
    "                                  '(33584923.0, 37253956.0]'\n",
    "                              ], \n",
    "                              name='count')\n",
    "\n",
    "# Convertir la serie a un dataframe con índices enteros\n",
    "population_df = population_series.reset_index()\n",
    "population_df.columns = ['Population Range', 'Count']\n",
    "population_df\n",
    "\n"
   ]
  },
  {
   "cell_type": "markdown",
   "id": "435f1784-c578-4bf4-ad84-981e172c60c9",
   "metadata": {},
   "source": [
    "La Tabla 1-5 muestra una tabla de frecuencia de la población por estado:"
   ]
  },
  {
   "cell_type": "markdown",
   "id": "98e5d49f-764d-4c6b-a539-3dbb961841ed",
   "metadata": {},
   "source": [
    "| BinNumber | BinRange                 | Count | States                                                                                       |\n",
    "|-----------|--------------------------|-------|----------------------------------------------------------------------------------------------|\n",
    "| 1         | (526935.67, 4232659.0]   | 24    | Alaska, Arkansas, Connecticut, Delaware, Hawaii, Idaho, Iowa, Kansas, Maine, Mississippi, Montana, Nebraska, Nevada, New Hampshire, New Mexico, North Dakota, Rhode Island, South Dakota, Utah, Vermont, West Virginia, Wyoming, Oklahoma, Oregon |\n",
    "| 2         | (4232659.0, 7901692.0]   | 14    | Alabama, Arizona, Colorado, Indiana, Kentucky, Louisiana, Maryland, Minnesota, Missouri, South Carolina, Tennessee, Washington, Wisconsin, Massachusetts |\n",
    "| 3         | (7901692.0, 11570725.0]  | 6     | Georgia, Michigan, New Jersey, North Carolina, Ohio, Virginia                                                                       |\n",
    "| 4         | (11570725.0, 15239758.0] | 2     | Illinois, Pennsylvania                                                                                       |\n",
    "| 5         | (15239758.0, 18908791.0] | 1     | Florida                                                                                           |\n",
    "| 6         | (18908791.0, 22577824.0] | 1     | New York                                                                                           |\n",
    "| 7         | (22577824.0, 26246857.0] | 1     | Texas                                                                                           |\n",
    "| 8         | (33584923.0, 37253956.0] | 1     | California                                                                                           |\n",
    "| 9         | (26246857.0, 29915890.0] | 0     |                                                                                              |\n",
    "| 10        | (29915890.0, 33584923.0] | 0     |                                                                                              |\n"
   ]
  },
  {
   "cell_type": "markdown",
   "id": "ee9b3f01-3c0a-4b27-af5a-b0bd588d348d",
   "metadata": {},
   "source": [
    "> **Ejercicio 6**. Utilice Pandas para obtener la tabla 1-5 dada arriba."
   ]
  },
  {
   "cell_type": "code",
   "execution_count": 20,
   "id": "1b4b9288",
   "metadata": {},
   "outputs": [
    {
     "name": "stdout",
     "output_type": "stream",
     "text": [
      "   BinNumber                  BinRange  Count  \\\n",
      "0          1    (526935.67, 4232659.0]     24   \n",
      "1          2    (4232659.0, 7901692.0]     14   \n",
      "2          3   (7901692.0, 11570725.0]      6   \n",
      "3          4  (11570725.0, 15239758.0]      2   \n",
      "4          5  (15239758.0, 18908791.0]      1   \n",
      "5          6  (18908791.0, 22577824.0]      1   \n",
      "6          7  (22577824.0, 26246857.0]      1   \n",
      "7          8  (26246857.0, 29915890.0]      0   \n",
      "8          9  (29915890.0, 33584923.0]      0   \n",
      "9         10  (33584923.0, 37253956.0]      1   \n",
      "\n",
      "                                              States  \n",
      "0  Alaska, Arkansas, Connecticut, Delaware, Hawai...  \n",
      "1  Alabama, Arizona, Colorado, Indiana, Kentucky,...  \n",
      "2  Georgia, Michigan, New Jersey, North Carolina,...  \n",
      "3                             Illinois, Pennsylvania  \n",
      "4                                            Florida  \n",
      "5                                           New York  \n",
      "6                                              Texas  \n",
      "7                                                     \n",
      "8                                                     \n",
      "9                                         California  \n"
     ]
    },
    {
     "name": "stderr",
     "output_type": "stream",
     "text": [
      "C:\\Users\\CursosTardes\\AppData\\Local\\Temp\\ipykernel_20700\\300361007.py:20: FutureWarning: The default of observed=False is deprecated and will be changed to True in a future version of pandas. Pass observed=False to retain current behavior or observed=True to adopt the future default and silence this warning.\n",
      "  states_in_bins = state_data.groupby('Bin')['State'].apply(lambda x: ', '.join(x)).reset_index()\n"
     ]
    }
   ],
   "source": [
    "import pandas as pd\n",
    "import numpy as np\n",
    "\n",
    "# Cargar los datos desde el archivo CSV\n",
    "file_path = 'state.csv'\n",
    "state_data = pd.read_csv(file_path)\n",
    "\n",
    "# Convertir la columna 'Population' a valores numéricos si es necesario\n",
    "if state_data['Population'].dtype == 'object':\n",
    "    state_data['Population'] = state_data['Population'].str.replace(',', '').astype(float)\n",
    "\n",
    "# Dividir la población en bins\n",
    "bins = pd.cut(state_data['Population'], bins=10)\n",
    "\n",
    "# Contar el número de estados en cada bin\n",
    "bin_counts = bins.value_counts().sort_index()\n",
    "\n",
    "# Asignar los estados a cada bin\n",
    "state_data['Bin'] = bins\n",
    "states_in_bins = state_data.groupby('Bin')['State'].apply(lambda x: ', '.join(x)).reset_index()\n",
    "\n",
    "# Crear el DataFrame final con la información\n",
    "table_1_5 = pd.DataFrame({\n",
    "    'BinNumber': range(1, len(bin_counts) + 1),\n",
    "    'BinRange': bin_counts.index.astype(str),\n",
    "    'Count': bin_counts.values,\n",
    "    'States': states_in_bins['State']\n",
    "})\n",
    "\n",
    "# Mostrar el DataFrame\n",
    "print(table_1_5)\n",
    "\n",
    "# Opcional: Guardar el DataFrame como un archivo CSV\n",
    "table_1_5.to_csv('table_1_5.csv', index=False)\n"
   ]
  }
 ],
 "metadata": {
  "kernelspec": {
   "display_name": "Python 3 (ipykernel)",
   "language": "python",
   "name": "python3"
  },
  "language_info": {
   "codemirror_mode": {
    "name": "ipython",
    "version": 3
   },
   "file_extension": ".py",
   "mimetype": "text/x-python",
   "name": "python",
   "nbconvert_exporter": "python",
   "pygments_lexer": "ipython3",
   "version": "3.11.7"
  }
 },
 "nbformat": 4,
 "nbformat_minor": 5
}
