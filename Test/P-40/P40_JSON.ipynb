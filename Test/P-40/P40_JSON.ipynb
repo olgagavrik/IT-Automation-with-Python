{
 "cells": [
  {
   "cell_type": "markdown",
   "id": "dde46f40-de97-4bb2-af0e-2591328cdc30",
   "metadata": {},
   "source": [
    "# Practica 40 Limpieza de datos con pandas sobre archivos JSON  \n",
    "## Responder las preguntas propuestas.  \n",
    "### Aquellas preguntas que ya están respondidas debe explicar el código."
   ]
  },
  {
   "cell_type": "markdown",
   "id": "4b88fc2e-d331-4885-bf86-d01e5728002a",
   "metadata": {},
   "source": [
    "**El archivo JSON `allcandidatenewssample.json` contiene información sobre noticias y artículos relacionados con varias figuras políticas y eventos de campaña. Cada entrada en el JSON representa un artículo o noticia y contiene los siguientes campos:**\n",
    "\n",
    "`title`: El título del artículo.  \n",
    "\n",
    "`url`: La URL del artículo.  \n",
    "\n",
    "`source`: La fuente del artículo, es decir, el medio de comunicación que lo publicó.  \n",
    "\n",
    "`time`: La hora o tiempo relativo en que se publicó el artículo.  \n",
    "\n",
    "`date`: La fecha de publicación del artículo en formato de marca de tiempo (timestamp).  \n",
    "\n",
    "`query`: El tema o figura política relacionada con el artículo.  \n",
    "\n",
    "`story_position`: La posición de la historia (en una lista de noticias o resultados).  \n",
    "\n",
    "`panel_position`: La posición en un panel (en la presentación en una página web).  \n",
    "\n",
    "`domain`: El dominio de la fuente del artículo.  \n",
    "\n",
    "`category`: La categoría del artículo.  \n",
    "\n",
    "**Este archivo almacena metadatos sobre varios artículos de noticias políticos, permitiendo análisis sobre la cobertura mediática, la frecuencia de artículos sobre ciertos temas o figuras políticas, y la distribución de fuentes de noticias.**\n"
   ]
  },
  {
   "cell_type": "code",
   "execution_count": 4,
   "id": "bc9b2baf-0a0b-4324-8c45-5afac41ad554",
   "metadata": {},
   "outputs": [],
   "source": [
    "import pandas as pd\n",
    "import numpy as np\n",
    "import json\n",
    "import pprint\n",
    "import matplotlib as plt\n",
    "from collections import Counter"
   ]
  },
  {
   "cell_type": "markdown",
   "id": "b02e9bb4-a065-4fbb-b1b5-898e8e50970b",
   "metadata": {},
   "source": [
    "## Análisis con Python clásico  \n",
    "**Explicar aquellos códigos cuyas preguntas que ya están resueltas**"
   ]
  },
  {
   "cell_type": "markdown",
   "id": "4297b27c-01df-4a3d-aa25-12285ba3e473",
   "metadata": {},
   "source": [
    "### Cargar los datos JSON y buscar posibles problemas  \n",
    "**Utilice el método `json.load` para devolver datos sobre noticias sobre candidatos políticos. `load` devuelve una lista de diccionarios**"
   ]
  },
  {
   "cell_type": "code",
   "execution_count": 5,
   "id": "9ce5ef48-07a1-431e-8d25-9035f805c5db",
   "metadata": {},
   "outputs": [],
   "source": [
    "with open('allcandidatenewssample.json') as f:\n",
    "  candidatenews = json.load(f)"
   ]
  },
  {
   "cell_type": "markdown",
   "id": "7ca2982d-9612-4aa3-8ddc-fe1d7b6a6291",
   "metadata": {},
   "source": [
    "### Utilice `len` para obtener el tamaño de la lista, que en este caso es el número total de noticias. (Cada elemento de la lista es un diccionario con claves para el título, la fuente, etc., y sus respectivos valores)."
   ]
  },
  {
   "cell_type": "code",
   "execution_count": 6,
   "id": "898d6cce-9a19-4a78-80a2-e0b5f8dd79a5",
   "metadata": {},
   "outputs": [
    {
     "data": {
      "text/plain": [
       "60000"
      ]
     },
     "execution_count": 6,
     "metadata": {},
     "output_type": "execute_result"
    }
   ],
   "source": [
    "len(candidatenews)"
   ]
  },
  {
   "cell_type": "markdown",
   "id": "3f9ff1e0-ce0d-4156-992c-9ea14a6573ff",
   "metadata": {},
   "source": [
    "### Utiliza pprint para mostrar los dos primeros diccionarios:"
   ]
  },
  {
   "cell_type": "code",
   "execution_count": 7,
   "id": "ec4fcfb0-0c91-4fcd-b751-a93c3299a45c",
   "metadata": {},
   "outputs": [
    {
     "name": "stdout",
     "output_type": "stream",
     "text": [
      "[{'date': '2019-12-25 10:00:00',\n",
      "  'domain': 'www.nbcnews.com',\n",
      "  'panel_position': 1,\n",
      "  'query': 'Michael Bloomberg',\n",
      "  'source': 'NBC News',\n",
      "  'story_position': 6,\n",
      "  'time': '18 hours ago',\n",
      "  'title': 'Bloomberg cuts ties with company using prison inmates to make '\n",
      "           'campaign calls',\n",
      "  'url': 'https://www.nbcnews.com/politics/2020-election/bloomberg-cuts-ties-company-using-prison-inmates-make-campaign-calls-n1106971'},\n",
      " {'date': '2019-11-09 08:00:00',\n",
      "  'domain': 'www.townandcountrymag.com',\n",
      "  'panel_position': 1,\n",
      "  'query': 'Amy Klobuchar',\n",
      "  'source': 'Town & Country Magazine',\n",
      "  'story_position': 3,\n",
      "  'time': '18 hours ago',\n",
      "  'title': \"Democratic Candidates React to Michael Bloomberg's Potential Run\",\n",
      "  'url': 'https://www.townandcountrymag.com/society/politics/a29739854/michael-bloomberg-democratic-candidates-campaign-reactions/'}]\n"
     ]
    }
   ],
   "source": [
    "pprint.pprint(candidatenews[0:2]) "
   ]
  },
  {
   "cell_type": "markdown",
   "id": "08477db0-754b-4cb1-bd3e-f11a766c3769",
   "metadata": {},
   "source": [
    "### Obtenga el valor de la clave de origen para el primer elemento de la lista:"
   ]
  },
  {
   "cell_type": "code",
   "execution_count": 8,
   "id": "21a3341b-0906-4c4a-b4f3-65bebf45132c",
   "metadata": {},
   "outputs": [
    {
     "name": "stdout",
     "output_type": "stream",
     "text": [
      "'NBC News'\n"
     ]
    }
   ],
   "source": [
    "pprint.pprint(candidatenews[0]['source'])"
   ]
  },
  {
   "cell_type": "markdown",
   "id": "448bf2f6-9bd1-48bc-92db-e45c69426d96",
   "metadata": {},
   "source": [
    "## Comprobar si existen diferencias en la estructura de los diccionarios.  \n",
    "### Utiliza `counter` para comprobar si hay algún diccionario en la lista con menos, o más, de los 9 pares `clave:valor` normales. Mira algunos de los diccionarios que casi no tienen datos (los que sólo tienen dos claves) antes de eliminarlos. "
   ]
  },
  {
   "cell_type": "code",
   "execution_count": 9,
   "id": "94bcfad5-23d8-48c1-9d11-d2a581775f87",
   "metadata": {},
   "outputs": [
    {
     "data": {
      "text/plain": [
       "Counter({9: 57202, 2: 2382, 10: 416})"
      ]
     },
     "execution_count": 9,
     "metadata": {},
     "output_type": "execute_result"
    }
   ],
   "source": [
    "Counter([len(item) for item in candidatenews])"
   ]
  },
  {
   "cell_type": "code",
   "execution_count": 10,
   "id": "19f7eb79-d499-4b3b-ba91-e57ef0755a7b",
   "metadata": {},
   "outputs": [
    {
     "name": "stdout",
     "output_type": "stream",
     "text": [
      "{'date': '2019-09-11 18:00:00', 'reason': 'Not collected'}\n"
     ]
    }
   ],
   "source": [
    "pprint.pprint(next(item for item in candidatenews if len(item)<9))"
   ]
  },
  {
   "cell_type": "code",
   "execution_count": 11,
   "id": "67ef144a-2c16-4299-aba4-2ecc341ead8c",
   "metadata": {},
   "outputs": [
    {
     "name": "stdout",
     "output_type": "stream",
     "text": [
      "{'category': 'Satire',\n",
      " 'date': '2019-08-21 04:00:00',\n",
      " 'domain': 'politics.theonion.com',\n",
      " 'panel_position': 1,\n",
      " 'query': 'John Hickenlooper',\n",
      " 'source': 'Politics | The Onion',\n",
      " 'story_position': 8,\n",
      " 'time': '4 days ago',\n",
      " 'title': '‘And Then There Were 23,’ Says Wayne Messam Crossing Out '\n",
      "          'Hickenlooper Photo \\n'\n",
      "          'In Elaborate Grid Of Rivals',\n",
      " 'url': 'https://politics.theonion.com/and-then-there-were-23-says-wayne-messam-crossing-ou-1837311060'}\n"
     ]
    }
   ],
   "source": [
    "pprint.pprint(next(item for item in candidatenews if len(item)>9))"
   ]
  },
  {
   "cell_type": "code",
   "execution_count": 12,
   "id": "e09d85c6-7828-4ffa-b1e2-86ca24c3e47c",
   "metadata": {},
   "outputs": [
    {
     "name": "stdout",
     "output_type": "stream",
     "text": [
      "[{'date': '2019-09-11 18:00:00', 'reason': 'Not collected'},\n",
      " {'date': '2019-07-24 00:00:00', 'reason': 'No Top stories'},\n",
      " {'date': '2019-08-19 20:00:00', 'reason': 'Not collected'},\n",
      " {'date': '2019-09-13 16:00:00', 'reason': 'Not collected'},\n",
      " {'date': '2019-10-16 20:00:00', 'reason': 'No Top stories'},\n",
      " {'date': '2019-10-17 18:00:00', 'reason': 'Not collected'},\n",
      " {'date': '2019-08-02 14:00:00', 'reason': 'Not collected'},\n",
      " {'date': '2019-05-27 12:00:00', 'reason': 'Not collected'},\n",
      " {'date': '2019-12-03 12:00:00', 'reason': 'No Top stories'},\n",
      " {'date': '2019-01-03 00:00:00', 'reason': 'No Top stories'}]\n"
     ]
    }
   ],
   "source": [
    "pprint.pprint([item for item in candidatenews if len(item)==2][0:10])"
   ]
  },
  {
   "cell_type": "markdown",
   "id": "e74d28a8-3216-406e-81c6-41f8614842b6",
   "metadata": {},
   "source": [
    "### Confirme que la lista de diccionarios restante tiene la longitud esperada: 60000-2382=57618:"
   ]
  },
  {
   "cell_type": "code",
   "execution_count": 13,
   "id": "173e80c4-a8a9-474c-a527-d76a304efb41",
   "metadata": {},
   "outputs": [
    {
     "data": {
      "text/plain": [
       "57618"
      ]
     },
     "execution_count": 13,
     "metadata": {},
     "output_type": "execute_result"
    }
   ],
   "source": [
    "candidatenews = [item for item in candidatenews if len(item)>2]\n",
    "len(candidatenews)"
   ]
  },
  {
   "cell_type": "markdown",
   "id": "0489ac9a-2b34-4a14-b406-cbe610bb966f",
   "metadata": {},
   "source": [
    "## Generar recuentos a partir de los datos JSON.  \n",
    "### Obtenga los diccionarios sólo para `Político` (un sitio web que cubre noticias políticas) y muestre un par de diccionarios:"
   ]
  },
  {
   "cell_type": "code",
   "execution_count": 14,
   "id": "b9df0e34-db1f-4223-952d-f0994af72aab",
   "metadata": {},
   "outputs": [
    {
     "data": {
      "text/plain": [
       "2732"
      ]
     },
     "execution_count": 14,
     "metadata": {},
     "output_type": "execute_result"
    }
   ],
   "source": [
    "politico = [item for item in candidatenews if item.get(\"source\") == \"Politico\"]\n",
    "len(politico)"
   ]
  },
  {
   "cell_type": "code",
   "execution_count": 15,
   "id": "b554c6b7-a8bd-480c-a2f0-54ffded50f8a",
   "metadata": {},
   "outputs": [
    {
     "name": "stdout",
     "output_type": "stream",
     "text": [
      "[{'date': '2019-05-18 18:00:00',\n",
      "  'domain': 'www.politico.com',\n",
      "  'panel_position': 1,\n",
      "  'query': 'Marianne Williamson',\n",
      "  'source': 'Politico',\n",
      "  'story_position': 7,\n",
      "  'time': '1 week ago',\n",
      "  'title': 'Marianne Williamson reaches donor threshold for Dem debates',\n",
      "  'url': 'https://www.politico.com/story/2019/05/09/marianne-williamson-2020-election-1315133'},\n",
      " {'date': '2018-12-27 06:00:00',\n",
      "  'domain': 'www.politico.com',\n",
      "  'panel_position': 1,\n",
      "  'query': 'Julian Castro',\n",
      "  'source': 'Politico',\n",
      "  'story_position': 1,\n",
      "  'time': '1 hour ago',\n",
      "  'title': \"O'Rourke and Castro on collision course in Texas\",\n",
      "  'url': 'https://www.politico.com/story/2018/12/27/orourke-julian-castro-collision-texas-election-1073720'}]\n"
     ]
    }
   ],
   "source": [
    "pprint.pprint(politico[0:2])"
   ]
  },
  {
   "cell_type": "markdown",
   "id": "36b96b64-69ab-4453-b609-42f6b52bdd6e",
   "metadata": {},
   "source": [
    "## Obtenga los datos de `source` y confirme que tienen la longitud prevista.  \n",
    "### Mostrar los primeros elementos de la nueva lista sources. "
   ]
  },
  {
   "cell_type": "code",
   "execution_count": 16,
   "id": "48fbe640-61b1-482e-b3f5-7a26b677c1a6",
   "metadata": {},
   "outputs": [
    {
     "data": {
      "text/plain": [
       "list"
      ]
     },
     "execution_count": 16,
     "metadata": {},
     "output_type": "execute_result"
    }
   ],
   "source": [
    "sources = [item.get('source') for item in candidatenews if 'source' in item]\n",
    "type(sources)"
   ]
  },
  {
   "cell_type": "code",
   "execution_count": 17,
   "id": "8b262e70-a7fd-46a7-bd15-2b23d2ed3ec6",
   "metadata": {},
   "outputs": [
    {
     "data": {
      "text/plain": [
       "57618"
      ]
     },
     "execution_count": 17,
     "metadata": {},
     "output_type": "execute_result"
    }
   ],
   "source": [
    "len(sources)"
   ]
  },
  {
   "cell_type": "code",
   "execution_count": 18,
   "id": "1d29601c-dc19-4c5b-9a82-99f9fb037cdc",
   "metadata": {},
   "outputs": [
    {
     "data": {
      "text/plain": [
       "['NBC News', 'Town & Country Magazine', 'TheHill', 'CNBC.com', 'Fox News']"
      ]
     },
     "execution_count": 18,
     "metadata": {},
     "output_type": "execute_result"
    }
   ],
   "source": [
    "sources[0:5]"
   ]
  },
  {
   "cell_type": "markdown",
   "id": "bbdd7cdb-3c24-45d4-aaf0-c611892b930b",
   "metadata": {},
   "source": [
    "### Generar un recuento de noticias por fuente y muestra las 10 fuentes más populares. Observe que las noticias de The Hill pueden tener TheHill (sin espacio) o The Hill como valor para la fuente :"
   ]
  },
  {
   "cell_type": "code",
   "execution_count": 19,
   "id": "10ebee15-d414-46a8-b0aa-8ba4c5d4a7a6",
   "metadata": {},
   "outputs": [
    {
     "name": "stdout",
     "output_type": "stream",
     "text": [
      "[('Fox News', 3530),\n",
      " ('CNN.com', 2750),\n",
      " ('Politico', 2732),\n",
      " ('TheHill', 2383),\n",
      " ('The New York Times', 1804),\n",
      " ('Washington Post', 1770),\n",
      " ('Washington Examiner', 1655),\n",
      " ('The Hill', 1342),\n",
      " ('New York Post', 1275),\n",
      " ('Vox', 941)]\n"
     ]
    }
   ],
   "source": [
    "pprint.pprint(Counter(sources).most_common(10))"
   ]
  },
  {
   "cell_type": "markdown",
   "id": "9144441f-8460-496f-bb52-81a215911f25",
   "metadata": {},
   "source": [
    "## Corrige cualquier error en los valores del diccionario."
   ]
  },
  {
   "cell_type": "markdown",
   "id": "a8b64c80-f242-4219-b904-95221c8c402d",
   "metadata": {},
   "source": [
    "### Corrige los valores de la 'source' `The Hill` . Observe que `The Hill` es ahora la fuente fuente más frecuente de noticias:"
   ]
  },
  {
   "cell_type": "code",
   "execution_count": 20,
   "id": "5ae82e48-e057-4a00-8cb2-ea883018919f",
   "metadata": {},
   "outputs": [
    {
     "name": "stdout",
     "output_type": "stream",
     "text": [
      "[('The Hill', 3725),\n",
      " ('Fox News', 3530),\n",
      " ('CNN.com', 2750),\n",
      " ('Politico', 2732),\n",
      " ('The New York Times', 1804),\n",
      " ('Washington Post', 1770),\n",
      " ('Washington Examiner', 1655),\n",
      " ('New York Post', 1275),\n",
      " ('Vox', 941),\n",
      " ('Breitbart', 799)]\n"
     ]
    }
   ],
   "source": [
    "for newsdict in candidatenews:\n",
    "    newsdict.update((k, \"The Hill\") for k, v in newsdict.items()\n",
    "                    if k == \"source\" and v == \"TheHill\")\n",
    "sources = [item.get('source') for item in candidatenews]\n",
    "pprint.pprint(Counter(sources).most_common(10))"
   ]
  },
  {
   "cell_type": "markdown",
   "id": "5228cd0d-00b7-4ee2-8a30-f60735f386ca",
   "metadata": {},
   "source": [
    "# Análisis del archivo json con Pandas"
   ]
  },
  {
   "cell_type": "markdown",
   "id": "c88b1741-bee0-4c90-a7f1-31511f07092f",
   "metadata": {},
   "source": [
    "## Crear un dataframe de Pandas  \n",
    "### 1- Pase los datos JSON al método pandas DataFrame."
   ]
  },
  {
   "cell_type": "code",
   "execution_count": 21,
   "id": "210f6777-eec8-4a98-9e74-3a348ac2bfee",
   "metadata": {},
   "outputs": [
    {
     "name": "stdout",
     "output_type": "stream",
     "text": [
      "                                               title  \\\n",
      "0  Bloomberg cuts ties with company using prison ...   \n",
      "1  Democratic Candidates React to Michael Bloombe...   \n",
      "2                                                NaN   \n",
      "3  Sanders responds to de Blasio's invitation to ...   \n",
      "4  From Andrew Yang's 'No Tie' look to Bernie Buc...   \n",
      "\n",
      "                                                 url                   source  \\\n",
      "0  https://www.nbcnews.com/politics/2020-election...                 NBC News   \n",
      "1  https://www.townandcountrymag.com/society/poli...  Town & Country Magazine   \n",
      "2                                                NaN                      NaN   \n",
      "3  https://thehill.com/homenews/campaign/456579-s...                  TheHill   \n",
      "4  https://www.cnbc.com/2019/08/02/election-2020-...                 CNBC.com   \n",
      "\n",
      "           time                 date              query  story_position  \\\n",
      "0  18 hours ago  2019-12-25 10:00:00  Michael Bloomberg             6.0   \n",
      "1  18 hours ago  2019-11-09 08:00:00      Amy Klobuchar             3.0   \n",
      "2           NaN  2019-09-11 18:00:00                NaN             NaN   \n",
      "3  15 hours ago  2019-08-08 06:00:00     Bernie Sanders             7.0   \n",
      "4     1 day ago  2019-08-04 10:00:00        Andrew Yang             2.0   \n",
      "\n",
      "  panel_position                     domain         reason category  \n",
      "0              1            www.nbcnews.com            NaN      NaN  \n",
      "1              1  www.townandcountrymag.com            NaN      NaN  \n",
      "2            NaN                        NaN  Not collected      NaN  \n",
      "3              1                thehill.com            NaN      NaN  \n",
      "4              1               www.cnbc.com            NaN      NaN  \n"
     ]
    }
   ],
   "source": [
    "import pandas as pd\n",
    "import json\n",
    "\n",
    "# Definir la ruta del archivo JSON\n",
    "file_path = 'allcandidatenewssample.json'\n",
    "\n",
    "# Cargar los datos JSON del archivo\n",
    "with open(file_path, 'r') as f:\n",
    "    data = json.load(f)\n",
    "\n",
    "# Convertir a DataFrame\n",
    "df = pd.json_normalize(data, max_level=1)\n",
    "\n",
    "# Mostrar las primeras filas del DataFrame para verificar la carga\n",
    "print(df.head())\n"
   ]
  },
  {
   "cell_type": "markdown",
   "id": "7d0e0cb5-d6ed-4733-be83-f0d494372543",
   "metadata": {},
   "source": [
    "### 2- Convierta la columna date a un tipo de datos datetime:"
   ]
  },
  {
   "cell_type": "code",
   "execution_count": 22,
   "id": "3d37f80a-2cb1-44b1-b9d2-46a92a522ede",
   "metadata": {},
   "outputs": [
    {
     "name": "stdout",
     "output_type": "stream",
     "text": [
      "\n",
      "Después de la conversión:\n",
      "                                               title  \\\n",
      "0  Bloomberg cuts ties with company using prison ...   \n",
      "1  Democratic Candidates React to Michael Bloombe...   \n",
      "2                                                NaN   \n",
      "3  Sanders responds to de Blasio's invitation to ...   \n",
      "4  From Andrew Yang's 'No Tie' look to Bernie Buc...   \n",
      "\n",
      "                                                 url                   source  \\\n",
      "0  https://www.nbcnews.com/politics/2020-election...                 NBC News   \n",
      "1  https://www.townandcountrymag.com/society/poli...  Town & Country Magazine   \n",
      "2                                                NaN                      NaN   \n",
      "3  https://thehill.com/homenews/campaign/456579-s...                  TheHill   \n",
      "4  https://www.cnbc.com/2019/08/02/election-2020-...                 CNBC.com   \n",
      "\n",
      "           time                date              query  story_position  \\\n",
      "0  18 hours ago 2019-12-25 10:00:00  Michael Bloomberg             6.0   \n",
      "1  18 hours ago 2019-11-09 08:00:00      Amy Klobuchar             3.0   \n",
      "2           NaN 2019-09-11 18:00:00                NaN             NaN   \n",
      "3  15 hours ago 2019-08-08 06:00:00     Bernie Sanders             7.0   \n",
      "4     1 day ago 2019-08-04 10:00:00        Andrew Yang             2.0   \n",
      "\n",
      "  panel_position                     domain         reason category  \n",
      "0              1            www.nbcnews.com            NaN      NaN  \n",
      "1              1  www.townandcountrymag.com            NaN      NaN  \n",
      "2            NaN                        NaN  Not collected      NaN  \n",
      "3              1                thehill.com            NaN      NaN  \n",
      "4              1               www.cnbc.com            NaN      NaN  \n"
     ]
    }
   ],
   "source": [
    "# Convertir la columna 'date' a tipo datetime\n",
    "df['date'] = pd.to_datetime(df['date'])\n",
    "\n",
    "# Mostrar las primeras filas del DataFrame después de la conversión\n",
    "print(\"\\nDespués de la conversión:\")\n",
    "print(df.head())"
   ]
  },
  {
   "cell_type": "code",
   "execution_count": 23,
   "id": "0e38748a",
   "metadata": {},
   "outputs": [
    {
     "name": "stdout",
     "output_type": "stream",
     "text": [
      "title                     object\n",
      "url                       object\n",
      "source                    object\n",
      "time                      object\n",
      "date              datetime64[ns]\n",
      "query                     object\n",
      "story_position           float64\n",
      "panel_position            object\n",
      "domain                    object\n",
      "reason                    object\n",
      "category                  object\n",
      "dtype: object\n"
     ]
    }
   ],
   "source": [
    "print(df.dtypes)\n"
   ]
  },
  {
   "cell_type": "markdown",
   "id": "e2658412-2a61-46a4-aa00-db8b8c5483a4",
   "metadata": {},
   "source": [
    "### 3- Cambiar el nombre de la columna `date` por `storydate`:"
   ]
  },
  {
   "cell_type": "code",
   "execution_count": 24,
   "id": "b6caea3f-eb98-4670-b173-c7c45784d9dd",
   "metadata": {},
   "outputs": [
    {
     "name": "stdout",
     "output_type": "stream",
     "text": [
      "                                               title  \\\n",
      "0  Bloomberg cuts ties with company using prison ...   \n",
      "1  Democratic Candidates React to Michael Bloombe...   \n",
      "2                                                NaN   \n",
      "3  Sanders responds to de Blasio's invitation to ...   \n",
      "4  From Andrew Yang's 'No Tie' look to Bernie Buc...   \n",
      "\n",
      "                                                 url                   source  \\\n",
      "0  https://www.nbcnews.com/politics/2020-election...                 NBC News   \n",
      "1  https://www.townandcountrymag.com/society/poli...  Town & Country Magazine   \n",
      "2                                                NaN                      NaN   \n",
      "3  https://thehill.com/homenews/campaign/456579-s...                  TheHill   \n",
      "4  https://www.cnbc.com/2019/08/02/election-2020-...                 CNBC.com   \n",
      "\n",
      "           time           storydate              query  story_position  \\\n",
      "0  18 hours ago 2019-12-25 10:00:00  Michael Bloomberg             6.0   \n",
      "1  18 hours ago 2019-11-09 08:00:00      Amy Klobuchar             3.0   \n",
      "2           NaN 2019-09-11 18:00:00                NaN             NaN   \n",
      "3  15 hours ago 2019-08-08 06:00:00     Bernie Sanders             7.0   \n",
      "4     1 day ago 2019-08-04 10:00:00        Andrew Yang             2.0   \n",
      "\n",
      "  panel_position                     domain         reason category  \n",
      "0              1            www.nbcnews.com            NaN      NaN  \n",
      "1              1  www.townandcountrymag.com            NaN      NaN  \n",
      "2            NaN                        NaN  Not collected      NaN  \n",
      "3              1                thehill.com            NaN      NaN  \n",
      "4              1               www.cnbc.com            NaN      NaN  \n"
     ]
    }
   ],
   "source": [
    "# Cambiar el nombre de la columna 'date' a 'storydate'\n",
    "df.rename(columns={'date': 'storydate'}, inplace=True)\n",
    "\n",
    "# Mostrar las primeras filas del DataFrame para verificar los cambios\n",
    "print(df.head())"
   ]
  },
  {
   "cell_type": "markdown",
   "id": "cc0ff694-e365-4b20-ba53-c0e354941d69",
   "metadata": {},
   "source": [
    "### 4- Cambiar el dtype de la columna `storydate` por `datetiem64[ns]`"
   ]
  },
  {
   "cell_type": "code",
   "execution_count": 25,
   "id": "d6767a14-3d70-44a6-9c9f-a2c9236edf60",
   "metadata": {},
   "outputs": [
    {
     "name": "stdout",
     "output_type": "stream",
     "text": [
      "                                               title  \\\n",
      "0  Bloomberg cuts ties with company using prison ...   \n",
      "1  Democratic Candidates React to Michael Bloombe...   \n",
      "2                                                NaN   \n",
      "3  Sanders responds to de Blasio's invitation to ...   \n",
      "4  From Andrew Yang's 'No Tie' look to Bernie Buc...   \n",
      "\n",
      "                                                 url                   source  \\\n",
      "0  https://www.nbcnews.com/politics/2020-election...                 NBC News   \n",
      "1  https://www.townandcountrymag.com/society/poli...  Town & Country Magazine   \n",
      "2                                                NaN                      NaN   \n",
      "3  https://thehill.com/homenews/campaign/456579-s...                  TheHill   \n",
      "4  https://www.cnbc.com/2019/08/02/election-2020-...                 CNBC.com   \n",
      "\n",
      "           time           storydate              query  story_position  \\\n",
      "0  18 hours ago 2019-12-25 10:00:00  Michael Bloomberg             6.0   \n",
      "1  18 hours ago 2019-11-09 08:00:00      Amy Klobuchar             3.0   \n",
      "2           NaN 2019-09-11 18:00:00                NaN             NaN   \n",
      "3  15 hours ago 2019-08-08 06:00:00     Bernie Sanders             7.0   \n",
      "4     1 day ago 2019-08-04 10:00:00        Andrew Yang             2.0   \n",
      "\n",
      "  panel_position                     domain         reason category  \n",
      "0              1            www.nbcnews.com            NaN      NaN  \n",
      "1              1  www.townandcountrymag.com            NaN      NaN  \n",
      "2            NaN                        NaN  Not collected      NaN  \n",
      "3              1                thehill.com            NaN      NaN  \n",
      "4              1               www.cnbc.com            NaN      NaN  \n",
      "title                     object\n",
      "url                       object\n",
      "source                    object\n",
      "time                      object\n",
      "storydate         datetime64[ns]\n",
      "query                     object\n",
      "story_position           float64\n",
      "panel_position            object\n",
      "domain                    object\n",
      "reason                    object\n",
      "category                  object\n",
      "dtype: object\n"
     ]
    }
   ],
   "source": [
    "# Cambiar el dtype de la columna 'storydate' a datetime64[ns]\n",
    "df['storydate'] = pd.to_datetime(df['storydate'])\n",
    "\n",
    "# Mostrar las primeras filas del DataFrame para verificar los cambios\n",
    "print(df.head())\n",
    "\n",
    "# Verificar el tipo de datos de la columna 'storydate'\n",
    "print(df.dtypes)"
   ]
  },
  {
   "cell_type": "markdown",
   "id": "866d5d33-d63d-4c20-be26-ffb2ac7d5672",
   "metadata": {},
   "source": [
    "### 5- Nuestre los tipos de datos"
   ]
  },
  {
   "cell_type": "code",
   "execution_count": 26,
   "id": "95421805-e45c-4c6f-89f4-eccbb35426a3",
   "metadata": {},
   "outputs": [
    {
     "name": "stdout",
     "output_type": "stream",
     "text": [
      "title                     object\n",
      "url                       object\n",
      "source                    object\n",
      "time                      object\n",
      "storydate         datetime64[ns]\n",
      "query                     object\n",
      "story_position           float64\n",
      "panel_position            object\n",
      "domain                    object\n",
      "reason                    object\n",
      "category                  object\n",
      "dtype: object\n"
     ]
    }
   ],
   "source": [
    "# Verificar el tipo de datos de la columna 'storydate'\n",
    "print(df.dtypes)"
   ]
  },
  {
   "cell_type": "markdown",
   "id": "a9f8148f-3071-4c08-916e-bfb90e50f7de",
   "metadata": {},
   "source": [
    "### 6- Dimensiones del dataframe (shape)"
   ]
  },
  {
   "cell_type": "code",
   "execution_count": 27,
   "id": "06dd5aa0-bea9-4c0f-9de0-ca5f180f55d0",
   "metadata": {},
   "outputs": [
    {
     "name": "stdout",
     "output_type": "stream",
     "text": [
      "\n",
      "Dimensiones del DataFrame: (60000, 11)\n"
     ]
    }
   ],
   "source": [
    "# Obtener las dimensiones del DataFrame\n",
    "dimensions = df.shape\n",
    "print(\"\\nDimensiones del DataFrame:\", dimensions)"
   ]
  },
  {
   "cell_type": "markdown",
   "id": "866b1499-f89e-4f46-bc6e-50008c064a32",
   "metadata": {},
   "source": [
    "### 7- Muestra las 10 fuentes (sources) más comunes en el DataFrame `candidatenewsdf` con pandas, junto con el número de veces que cada fuente aparece."
   ]
  },
  {
   "cell_type": "code",
   "execution_count": 28,
   "id": "6a955a1e-2b08-4ddc-91c2-3fcde3bff2df",
   "metadata": {},
   "outputs": [
    {
     "name": "stdout",
     "output_type": "stream",
     "text": [
      "\n",
      "Las 10 fuentes más comunes:\n",
      " source\n",
      "Fox News               3530\n",
      "CNN.com                2750\n",
      "Politico               2732\n",
      "TheHill                2383\n",
      "The New York Times     1804\n",
      "Washington Post        1770\n",
      "Washington Examiner    1655\n",
      "The Hill               1342\n",
      "New York Post          1275\n",
      "Vox                     941\n",
      "Name: count, dtype: int64\n"
     ]
    }
   ],
   "source": [
    "# Mostrar las 10 fuentes más comunes\n",
    "top_10_sources = df['source'].value_counts().head(10)\n",
    "print(\"\\nLas 10 fuentes más comunes:\\n\", top_10_sources)"
   ]
  },
  {
   "cell_type": "markdown",
   "id": "7dc0bf1e-f44e-46d4-9c62-7c7705b1f8b4",
   "metadata": {},
   "source": [
    "### 8- Mostrar las primeras 5 filas del DataFrame"
   ]
  },
  {
   "cell_type": "code",
   "execution_count": 29,
   "id": "382e6061-5d45-46fc-9a97-319201512207",
   "metadata": {},
   "outputs": [
    {
     "name": "stdout",
     "output_type": "stream",
     "text": [
      "                                               title  \\\n",
      "0  Bloomberg cuts ties with company using prison ...   \n",
      "1  Democratic Candidates React to Michael Bloombe...   \n",
      "2                                                NaN   \n",
      "3  Sanders responds to de Blasio's invitation to ...   \n",
      "4  From Andrew Yang's 'No Tie' look to Bernie Buc...   \n",
      "\n",
      "                                                 url                   source  \\\n",
      "0  https://www.nbcnews.com/politics/2020-election...                 NBC News   \n",
      "1  https://www.townandcountrymag.com/society/poli...  Town & Country Magazine   \n",
      "2                                                NaN                      NaN   \n",
      "3  https://thehill.com/homenews/campaign/456579-s...                  TheHill   \n",
      "4  https://www.cnbc.com/2019/08/02/election-2020-...                 CNBC.com   \n",
      "\n",
      "           time           storydate              query  story_position  \\\n",
      "0  18 hours ago 2019-12-25 10:00:00  Michael Bloomberg             6.0   \n",
      "1  18 hours ago 2019-11-09 08:00:00      Amy Klobuchar             3.0   \n",
      "2           NaN 2019-09-11 18:00:00                NaN             NaN   \n",
      "3  15 hours ago 2019-08-08 06:00:00     Bernie Sanders             7.0   \n",
      "4     1 day ago 2019-08-04 10:00:00        Andrew Yang             2.0   \n",
      "\n",
      "  panel_position                     domain         reason category  \n",
      "0              1            www.nbcnews.com            NaN      NaN  \n",
      "1              1  www.townandcountrymag.com            NaN      NaN  \n",
      "2            NaN                        NaN  Not collected      NaN  \n",
      "3              1                thehill.com            NaN      NaN  \n",
      "4              1               www.cnbc.com            NaN      NaN  \n"
     ]
    }
   ],
   "source": [
    "# Mostrar las primeras 5 filas del DataFrame\n",
    "print(df.head())\n"
   ]
  },
  {
   "cell_type": "markdown",
   "id": "af64632f-8181-4fc2-82e8-cee96a001d93",
   "metadata": {},
   "source": [
    "### 9- Mostrar las ultimas 15 lineas del dataframe"
   ]
  },
  {
   "cell_type": "code",
   "execution_count": 30,
   "id": "37c65174-5db1-4286-a7ee-38d7c667c3d8",
   "metadata": {},
   "outputs": [
    {
     "name": "stdout",
     "output_type": "stream",
     "text": [
      "                                                   title  \\\n",
      "59985        Michael Bennet to open fundraisers to press   \n",
      "59986  Paul Tudor Jones: Trump is 'the greatest sales...   \n",
      "59987       What \"The West Wing\" reveals about Joe Biden   \n",
      "59988              Delaney: \"I'm planning on staying in\"   \n",
      "59989  Sen. Kamala Harris introduces bill to lengthen...   \n",
      "59990  Wayne Messam: Money Kept Me Out of the First D...   \n",
      "59991  Billionaire Tom Steyer raises $2 million for W...   \n",
      "59992  Ilhan Omar, Kamala Harris Respond To “Send Her...   \n",
      "59993  Kamala Harris Attended LA Fundraisers The Same...   \n",
      "59994  Northern Iowa voters tell presidential candida...   \n",
      "59995  NH Primary Source: Cory Booker's presidential ...   \n",
      "59996       John Delaney Creates His Own Campaign Bounce   \n",
      "59997  Mayor de Blasio calls for charges against driv...   \n",
      "59998  Elizabeth Warren Narrows Joe Biden Lead Among ...   \n",
      "59999  Kamala Harris demands answers on California pr...   \n",
      "\n",
      "                                                     url  \\\n",
      "59985  https://www.politico.com/news/2019/12/19/benne...   \n",
      "59986  https://finance.yahoo.com/news/paul-tudor-jone...   \n",
      "59987  https://www.cnn.com/2019/06/15/opinions/joe-bi...   \n",
      "59988  https://www.msnbc.com/david-gura/watch/delaney...   \n",
      "59989  https://www.cnbc.com/2019/11/06/sen-kamala-har...   \n",
      "59990  http://fortune.com/2019/06/25/wayne-messam-dem...   \n",
      "59991  https://www.winchesterstar.com/associated_pres...   \n",
      "59992  https://deadline.com/2019/07/ilhan-omar-politi...   \n",
      "59993  https://www.thedailybeast.com/kamala-harris-at...   \n",
      "59994  https://www.desmoinesregister.com/story/news/e...   \n",
      "59995  https://www.wmur.com/article/nh-primary-source...   \n",
      "59996  https://slate.com/news-and-politics/2019/11/jo...   \n",
      "59997  https://abc7ny.com/mayor-calls-for-charges-aga...   \n",
      "59998  https://www.investors.com/news/elizabeth-warre...   \n",
      "59999  https://www.sacbee.com/news/state/california/a...   \n",
      "\n",
      "                          source          time           storydate  \\\n",
      "59985                   Politico  10 hours ago 2019-12-20 04:00:00   \n",
      "59986              Yahoo Finance   26 mins ago 2019-11-06 10:00:00   \n",
      "59987                    CNN.com   3 hours ago 2019-06-15 18:00:00   \n",
      "59988                  MSNBC.com    3 days ago 2019-08-28 14:00:00   \n",
      "59989                   CNBC.com   48 mins ago 2019-11-06 14:00:00   \n",
      "59990                    Fortune    3 days ago 2019-06-29 04:00:00   \n",
      "59991        The Winchester Star  19 hours ago 2019-10-11 10:00:00   \n",
      "59992                   Deadline  14 hours ago 2019-07-18 14:00:00   \n",
      "59993            The Daily Beast  18 hours ago 2019-08-31 10:00:00   \n",
      "59994        Des Moines Register   2 hours ago 2019-11-26 22:00:00   \n",
      "59995                   WMUR.com   2 hours ago 2019-04-11 12:00:00   \n",
      "59996                      Slate   1 month ago 2019-12-24 06:00:00   \n",
      "59997                     abc7NY    2 days ago 2019-08-15 14:00:00   \n",
      "59998  Investor's Business Daily   3 hours ago 2019-09-03 16:00:00   \n",
      "59999         The Sacramento Bee  18 hours ago 2019-08-06 02:00:00   \n",
      "\n",
      "                query  story_position panel_position  \\\n",
      "59985  Michael Bennet             1.0              1   \n",
      "59986    Donald Trump             4.0              1   \n",
      "59987       Joe Biden             1.0              1   \n",
      "59988    John Delaney             9.0              1   \n",
      "59989   Kamala Harris             3.0              1   \n",
      "59990    Wayne Messam             5.0              1   \n",
      "59991      Tom Steyer             6.0              1   \n",
      "59992   Kamala Harris             2.0              1   \n",
      "59993   Kamala Harris             4.0              1   \n",
      "59994   Amy Klobuchar             3.0              1   \n",
      "59995     Cory Booker             4.0              1   \n",
      "59996    John Delaney             4.0            N/A   \n",
      "59997  Bill de Blasio            10.0              1   \n",
      "59998       Joe Biden            10.0              1   \n",
      "59999   Kamala Harris             9.0              1   \n",
      "\n",
      "                          domain reason category  \n",
      "59985           www.politico.com    NaN      NaN  \n",
      "59986          finance.yahoo.com    NaN      NaN  \n",
      "59987                www.cnn.com    NaN      NaN  \n",
      "59988              www.msnbc.com    NaN      NaN  \n",
      "59989               www.cnbc.com    NaN      NaN  \n",
      "59990                fortune.com    NaN      NaN  \n",
      "59991     www.winchesterstar.com    NaN      NaN  \n",
      "59992               deadline.com    NaN      NaN  \n",
      "59993      www.thedailybeast.com    NaN      NaN  \n",
      "59994  www.desmoinesregister.com    NaN      NaN  \n",
      "59995               www.wmur.com    NaN      NaN  \n",
      "59996                  slate.com    NaN      NaN  \n",
      "59997                 abc7ny.com    NaN      NaN  \n",
      "59998          www.investors.com    NaN      NaN  \n",
      "59999             www.sacbee.com    NaN      NaN  \n"
     ]
    }
   ],
   "source": [
    "# Mostrar las últimas 15 filas del DataFrame\n",
    "print(df.tail(15))\n"
   ]
  },
  {
   "cell_type": "markdown",
   "id": "8451a6e4-a8cc-4827-b901-dbc9f690fad2",
   "metadata": {},
   "source": [
    "### 10- Filtrar los artículos donde la fuente (source) es \"Politico\""
   ]
  },
  {
   "cell_type": "code",
   "execution_count": 31,
   "id": "2a728318-7074-4d1d-9dc4-6513e6b6dd76",
   "metadata": {},
   "outputs": [
    {
     "name": "stdout",
     "output_type": "stream",
     "text": [
      "                                                 title  \\\n",
      "23   Marianne Williamson reaches donor threshold fo...   \n",
      "102   O'Rourke and Castro on collision course in Texas   \n",
      "221  Democrats try out their Spanish on TV as they ...   \n",
      "238          Pennsylvania suburbs revolt against Trump   \n",
      "248  Beto O'Rourke in talks with strategists ahead ...   \n",
      "\n",
      "                                                   url    source  \\\n",
      "23   https://www.politico.com/story/2019/05/09/mari...  Politico   \n",
      "102  https://www.politico.com/story/2018/12/27/orou...  Politico   \n",
      "221  https://www.politico.com/story/2019/06/25/demo...  Politico   \n",
      "238  https://www.politico.com/news/2019/11/06/penns...  Politico   \n",
      "248  https://www.politico.com/story/2019/02/15/beto...  Politico   \n",
      "\n",
      "             time           storydate                query  story_position  \\\n",
      "23     1 week ago 2019-05-18 18:00:00  Marianne Williamson             7.0   \n",
      "102    1 hour ago 2018-12-27 06:00:00        Julian Castro             1.0   \n",
      "221  23 hours ago 2019-06-26 18:00:00        Kamala Harris             8.0   \n",
      "238   2 hours ago 2019-11-07 00:00:00         Donald Trump             2.0   \n",
      "248  12 hours ago 2019-02-16 06:00:00        Beto O Rourke             3.0   \n",
      "\n",
      "    panel_position            domain reason category  \n",
      "23               1  www.politico.com    NaN      NaN  \n",
      "102              1  www.politico.com    NaN      NaN  \n",
      "221              1  www.politico.com    NaN      NaN  \n",
      "238              1  www.politico.com    NaN      NaN  \n",
      "248              1  www.politico.com    NaN      NaN  \n"
     ]
    }
   ],
   "source": [
    "# Filtrar los artículos donde la fuente es \"Politico\"\n",
    "politico_articles = df[df['source'] == 'Politico']\n",
    "\n",
    "# Mostrar las primeras filas del DataFrame filtrado\n",
    "print(politico_articles.head())\n"
   ]
  },
  {
   "cell_type": "markdown",
   "id": "f6366fdf-0710-4959-bebe-382096d3be0e",
   "metadata": {},
   "source": [
    "### 11- Filtrar los artículos publicados después del 21 de diciembre de 2019"
   ]
  },
  {
   "cell_type": "code",
   "execution_count": 33,
   "id": "f19bf13e-24b9-44d0-ab43-332744ecf8ec",
   "metadata": {},
   "outputs": [
    {
     "name": "stdout",
     "output_type": "stream",
     "text": [
      "                                                 title  \\\n",
      "0    Bloomberg cuts ties with company using prison ...   \n",
      "10   De Blasio blows off yeshiva 'horse trade' ques...   \n",
      "72   Bloomberg Expands Staffing Plan to More Battle...   \n",
      "116  Sen. Amy Klobuchar, trying to crack Democrats'...   \n",
      "121  State's current longest-serving lawmaker calls...   \n",
      "\n",
      "                                                   url  \\\n",
      "0    https://www.nbcnews.com/politics/2020-election...   \n",
      "10   https://nypost.com/2019/12/20/de-blasio-blows-...   \n",
      "72   https://www.wsj.com/articles/bloomberg-expands...   \n",
      "116  http://www.startribune.com/sen-amy-klobuchar-t...   \n",
      "121  https://www.kitsapsun.com/story/news/2019/12/2...   \n",
      "\n",
      "                      source          time           storydate  \\\n",
      "0                   NBC News  18 hours ago 2019-12-25 10:00:00   \n",
      "10             New York Post     1 day ago 2019-12-22 08:00:00   \n",
      "72   The Wall Street Journal  19 hours ago 2019-12-22 10:00:00   \n",
      "116             Star Tribune     1 day ago 2019-12-29 04:00:00   \n",
      "121               Kitsap Sun    2 days ago 2019-12-28 10:00:00   \n",
      "\n",
      "                 query  story_position panel_position               domain  \\\n",
      "0    Michael Bloomberg             6.0              1      www.nbcnews.com   \n",
      "10      Bill de Blasio             2.0              1           nypost.com   \n",
      "72   Michael Bloomberg             6.0              1          www.wsj.com   \n",
      "116      Amy Klobuchar             5.0              1  www.startribune.com   \n",
      "121         Jay Inslee             1.0              6    www.kitsapsun.com   \n",
      "\n",
      "    reason category  \n",
      "0      NaN      NaN  \n",
      "10     NaN      NaN  \n",
      "72     NaN      NaN  \n",
      "116    NaN      NaN  \n",
      "121    NaN      NaN  \n"
     ]
    }
   ],
   "source": [
    "# Filtrar los artículos publicados después del 21 de diciembre de 2019\n",
    "date_filter = df[df['storydate'] > '2019-12-21']\n",
    "\n",
    "# Mostrar las primeras filas del DataFrame filtrado\n",
    "print(date_filter.head())\n"
   ]
  },
  {
   "cell_type": "markdown",
   "id": "2b990907-70ed-438c-9498-4d6c639d7646",
   "metadata": {},
   "source": [
    "### 12- Filtrar y mostrar los artículos de \"CNN.com\""
   ]
  },
  {
   "cell_type": "code",
   "execution_count": 34,
   "id": "987c4204-afa3-43de-a373-38f56b99a836",
   "metadata": {},
   "outputs": [
    {
     "name": "stdout",
     "output_type": "stream",
     "text": [
      "                                                 title  \\\n",
      "17   Bernie Sanders stays on the stump after receiv...   \n",
      "18   Trump says he spoke with Putin about 'Russian ...   \n",
      "31   McConnell will move to acquit Trump if he's im...   \n",
      "66   Here's what Sanford said about voting for Trum...   \n",
      "111  First on CNN: Respected foreign policy veteran...   \n",
      "\n",
      "                                                   url   source          time  \\\n",
      "17   https://www.cnn.com/2019/03/15/politics/bernie...  CNN.com    1 hour ago   \n",
      "18   https://www.cnn.com/2019/05/03/politics/trump-...  CNN.com   4 hours ago   \n",
      "31   https://www.cnn.com/2019/12/11/politics/mcconn...  CNN.com   6 hours ago   \n",
      "66   https://www.cnn.com/2019/08/18/politics/mark-s...  CNN.com   2 hours ago   \n",
      "111  https://www.cnn.com/2019/07/21/politics/nichol...  CNN.com  18 hours ago   \n",
      "\n",
      "              storydate           query  story_position panel_position  \\\n",
      "17  2019-03-16 06:00:00  Bernie Sanders             1.0              1   \n",
      "18  2019-05-04 18:00:00    Donald Trump             9.0              1   \n",
      "31  2019-12-12 14:00:00    Donald Trump             1.0              1   \n",
      "66  2019-08-18 18:00:00    Donald Trump             1.0              1   \n",
      "111 2019-07-22 22:00:00       Joe Biden             7.0              1   \n",
      "\n",
      "          domain reason category  \n",
      "17   www.cnn.com    NaN      NaN  \n",
      "18   www.cnn.com    NaN      NaN  \n",
      "31   www.cnn.com    NaN      NaN  \n",
      "66   www.cnn.com    NaN      NaN  \n",
      "111  www.cnn.com    NaN      NaN  \n"
     ]
    }
   ],
   "source": [
    "# Filtrar los artículos donde la fuente es \"CNN.com\"\n",
    "cnn_articles = df[df['source'] == 'CNN.com']\n",
    "\n",
    "# Mostrar las primeras filas del DataFrame filtrado\n",
    "print(cnn_articles.head())\n"
   ]
  },
  {
   "cell_type": "markdown",
   "id": "74c91513-84eb-4db1-ab77-d62c019ad012",
   "metadata": {},
   "source": [
    "### 13- Contar los valores nulos en cada columna"
   ]
  },
  {
   "cell_type": "code",
   "execution_count": 35,
   "id": "b768735b-c671-41f6-8ab4-052e4e5dc8c0",
   "metadata": {},
   "outputs": [
    {
     "name": "stdout",
     "output_type": "stream",
     "text": [
      "title              2382\n",
      "url                2382\n",
      "source             2382\n",
      "time               2382\n",
      "storydate             0\n",
      "query              2382\n",
      "story_position     2382\n",
      "panel_position     2382\n",
      "domain             2382\n",
      "reason            57618\n",
      "category          59584\n",
      "dtype: int64\n"
     ]
    }
   ],
   "source": [
    "# Contar los valores nulos en cada columna\n",
    "null_counts = df.isnull().sum()\n",
    "\n",
    "# Mostrar los resultados\n",
    "print(null_counts)\n"
   ]
  },
  {
   "cell_type": "markdown",
   "id": "fccc471f-b2bf-40ec-b6bd-f558a85dc9fa",
   "metadata": {},
   "source": [
    "### 14- Eliminar filas con valores nulos en la columna \"title\""
   ]
  },
  {
   "cell_type": "code",
   "execution_count": 36,
   "id": "c86ef600-9c62-48d2-9487-49e9d0789e83",
   "metadata": {},
   "outputs": [
    {
     "name": "stdout",
     "output_type": "stream",
     "text": [
      "                                               title  \\\n",
      "0  Bloomberg cuts ties with company using prison ...   \n",
      "1  Democratic Candidates React to Michael Bloombe...   \n",
      "3  Sanders responds to de Blasio's invitation to ...   \n",
      "4  From Andrew Yang's 'No Tie' look to Bernie Buc...   \n",
      "5  Liberal billionaire Tom Steyer scolds Dems for...   \n",
      "\n",
      "                                                 url                   source  \\\n",
      "0  https://www.nbcnews.com/politics/2020-election...                 NBC News   \n",
      "1  https://www.townandcountrymag.com/society/poli...  Town & Country Magazine   \n",
      "3  https://thehill.com/homenews/campaign/456579-s...                  TheHill   \n",
      "4  https://www.cnbc.com/2019/08/02/election-2020-...                 CNBC.com   \n",
      "5  https://www.foxnews.com/politics/liberal-billi...                 Fox News   \n",
      "\n",
      "           time           storydate              query  story_position  \\\n",
      "0  18 hours ago 2019-12-25 10:00:00  Michael Bloomberg             6.0   \n",
      "1  18 hours ago 2019-11-09 08:00:00      Amy Klobuchar             3.0   \n",
      "3  15 hours ago 2019-08-08 06:00:00     Bernie Sanders             7.0   \n",
      "4     1 day ago 2019-08-04 10:00:00        Andrew Yang             2.0   \n",
      "5    1 week ago 2019-05-28 00:00:00         Tom Steyer             5.0   \n",
      "\n",
      "  panel_position                     domain reason category  \n",
      "0              1            www.nbcnews.com    NaN      NaN  \n",
      "1              1  www.townandcountrymag.com    NaN      NaN  \n",
      "3              1                thehill.com    NaN      NaN  \n",
      "4              1               www.cnbc.com    NaN      NaN  \n",
      "5              2            www.foxnews.com    NaN      NaN  \n",
      "Dimensiones antes de la limpieza: (60000, 11)\n",
      "Dimensiones después de la limpieza: (57618, 11)\n"
     ]
    }
   ],
   "source": [
    "# Eliminar filas con valores nulos en la columna \"title\"\n",
    "df_cleaned = df.dropna(subset=['title'])\n",
    "\n",
    "# Mostrar las primeras filas del DataFrame limpiado para verificar los cambios\n",
    "print(df_cleaned.head())\n",
    "\n",
    "# Mostrar las dimensiones del DataFrame antes y después de la limpieza\n",
    "print(\"Dimensiones antes de la limpieza:\", df.shape)\n",
    "print(\"Dimensiones después de la limpieza:\", df_cleaned.shape)\n"
   ]
  },
  {
   "cell_type": "markdown",
   "id": "dcc74f3f-50c3-4efc-aec0-04e4fdc51380",
   "metadata": {},
   "source": [
    "### 15- Rellenar valores nulos en la columna \"category\" con \"Unknown\""
   ]
  },
  {
   "cell_type": "code",
   "execution_count": 37,
   "id": "393c4234",
   "metadata": {},
   "outputs": [
    {
     "name": "stdout",
     "output_type": "stream",
     "text": [
      "                                               title  \\\n",
      "0  Bloomberg cuts ties with company using prison ...   \n",
      "1  Democratic Candidates React to Michael Bloombe...   \n",
      "2                                                NaN   \n",
      "3  Sanders responds to de Blasio's invitation to ...   \n",
      "4  From Andrew Yang's 'No Tie' look to Bernie Buc...   \n",
      "\n",
      "                                                 url                   source  \\\n",
      "0  https://www.nbcnews.com/politics/2020-election...                 NBC News   \n",
      "1  https://www.townandcountrymag.com/society/poli...  Town & Country Magazine   \n",
      "2                                                NaN                      NaN   \n",
      "3  https://thehill.com/homenews/campaign/456579-s...                  TheHill   \n",
      "4  https://www.cnbc.com/2019/08/02/election-2020-...                 CNBC.com   \n",
      "\n",
      "           time           storydate              query  story_position  \\\n",
      "0  18 hours ago 2019-12-25 10:00:00  Michael Bloomberg             6.0   \n",
      "1  18 hours ago 2019-11-09 08:00:00      Amy Klobuchar             3.0   \n",
      "2           NaN 2019-09-11 18:00:00                NaN             NaN   \n",
      "3  15 hours ago 2019-08-08 06:00:00     Bernie Sanders             7.0   \n",
      "4     1 day ago 2019-08-04 10:00:00        Andrew Yang             2.0   \n",
      "\n",
      "  panel_position                     domain         reason category  \n",
      "0              1            www.nbcnews.com            NaN  Unknown  \n",
      "1              1  www.townandcountrymag.com            NaN  Unknown  \n",
      "2            NaN                        NaN  Not collected  Unknown  \n",
      "3              1                thehill.com            NaN  Unknown  \n",
      "4              1               www.cnbc.com            NaN  Unknown  \n",
      "\n",
      "Valores nulos en 'category' después de rellenar: 0\n"
     ]
    }
   ],
   "source": [
    "# Rellenar valores nulos en la columna \"category\" con \"Unknown\"\n",
    "df['category'] = df['category'].fillna('Unknown')\n",
    "\n",
    "# Mostrar las primeras filas del DataFrame para verificar los cambios\n",
    "print(df.head())\n",
    "\n",
    "# Verificar si quedan valores nulos en la columna \"category\"\n",
    "null_counts_category = df['category'].isnull().sum()\n",
    "print(\"\\nValores nulos en 'category' después de rellenar:\", null_counts_category)\n"
   ]
  },
  {
   "cell_type": "markdown",
   "id": "81646487-02b0-498b-8c91-a3ac21962edf",
   "metadata": {},
   "source": [
    "### 16- Convertir la columna \"panel_position\" a tipo float"
   ]
  },
  {
   "cell_type": "code",
   "execution_count": 39,
   "id": "a84f57e5-e374-4cd1-8d65-568928f8e54b",
   "metadata": {},
   "outputs": [
    {
     "name": "stdout",
     "output_type": "stream",
     "text": [
      "                                               title  \\\n",
      "0  Bloomberg cuts ties with company using prison ...   \n",
      "1  Democratic Candidates React to Michael Bloombe...   \n",
      "2                                                NaN   \n",
      "3  Sanders responds to de Blasio's invitation to ...   \n",
      "4  From Andrew Yang's 'No Tie' look to Bernie Buc...   \n",
      "\n",
      "                                                 url                   source  \\\n",
      "0  https://www.nbcnews.com/politics/2020-election...                 NBC News   \n",
      "1  https://www.townandcountrymag.com/society/poli...  Town & Country Magazine   \n",
      "2                                                NaN                      NaN   \n",
      "3  https://thehill.com/homenews/campaign/456579-s...                  TheHill   \n",
      "4  https://www.cnbc.com/2019/08/02/election-2020-...                 CNBC.com   \n",
      "\n",
      "           time           storydate              query  story_position  \\\n",
      "0  18 hours ago 2019-12-25 10:00:00  Michael Bloomberg             6.0   \n",
      "1  18 hours ago 2019-11-09 08:00:00      Amy Klobuchar             3.0   \n",
      "2           NaN 2019-09-11 18:00:00                NaN             NaN   \n",
      "3  15 hours ago 2019-08-08 06:00:00     Bernie Sanders             7.0   \n",
      "4     1 day ago 2019-08-04 10:00:00        Andrew Yang             2.0   \n",
      "\n",
      "   panel_position                     domain         reason category  \n",
      "0             1.0            www.nbcnews.com            NaN  Unknown  \n",
      "1             1.0  www.townandcountrymag.com            NaN  Unknown  \n",
      "2             NaN                        NaN  Not collected  Unknown  \n",
      "3             1.0                thehill.com            NaN  Unknown  \n",
      "4             1.0               www.cnbc.com            NaN  Unknown  \n",
      "\n",
      "Tipo de datos de 'panel_position' después de la conversión: float64\n"
     ]
    }
   ],
   "source": [
    "# Manejar valores no numéricos y nulos antes de la conversión\n",
    "df['panel_position'] = pd.to_numeric(df['panel_position'], errors='coerce')\n",
    "\n",
    "# Convertir la columna 'panel_position' a tipo float (ya debería estar en float después de pd.to_numeric)\n",
    "df['panel_position'] = df['panel_position'].astype(float)\n",
    "\n",
    "# Mostrar las primeras filas del DataFrame para verificar los cambios\n",
    "print(df.head())\n",
    "\n",
    "# Verificar el tipo de datos de la columna 'panel_position'\n",
    "print(\"\\nTipo de datos de 'panel_position' después de la conversión:\", df['panel_position'].dtype)\n",
    "\n"
   ]
  },
  {
   "cell_type": "markdown",
   "id": "7eac545f-e424-4ba6-bdd6-bdd2b1b8cd4d",
   "metadata": {},
   "source": [
    "### 17- Convertir la columna \"storydate\" a tipo string"
   ]
  },
  {
   "cell_type": "code",
   "execution_count": 40,
   "id": "da5463fe-be4e-4c78-a874-4da5bf8cddca",
   "metadata": {},
   "outputs": [
    {
     "name": "stdout",
     "output_type": "stream",
     "text": [
      "                                               title  \\\n",
      "0  Bloomberg cuts ties with company using prison ...   \n",
      "1  Democratic Candidates React to Michael Bloombe...   \n",
      "2                                                NaN   \n",
      "3  Sanders responds to de Blasio's invitation to ...   \n",
      "4  From Andrew Yang's 'No Tie' look to Bernie Buc...   \n",
      "\n",
      "                                                 url                   source  \\\n",
      "0  https://www.nbcnews.com/politics/2020-election...                 NBC News   \n",
      "1  https://www.townandcountrymag.com/society/poli...  Town & Country Magazine   \n",
      "2                                                NaN                      NaN   \n",
      "3  https://thehill.com/homenews/campaign/456579-s...                  TheHill   \n",
      "4  https://www.cnbc.com/2019/08/02/election-2020-...                 CNBC.com   \n",
      "\n",
      "           time            storydate              query  story_position  \\\n",
      "0  18 hours ago  2019-12-25 10:00:00  Michael Bloomberg             6.0   \n",
      "1  18 hours ago  2019-11-09 08:00:00      Amy Klobuchar             3.0   \n",
      "2           NaN  2019-09-11 18:00:00                NaN             NaN   \n",
      "3  15 hours ago  2019-08-08 06:00:00     Bernie Sanders             7.0   \n",
      "4     1 day ago  2019-08-04 10:00:00        Andrew Yang             2.0   \n",
      "\n",
      "   panel_position                     domain         reason category  \n",
      "0             1.0            www.nbcnews.com            NaN  Unknown  \n",
      "1             1.0  www.townandcountrymag.com            NaN  Unknown  \n",
      "2             NaN                        NaN  Not collected  Unknown  \n",
      "3             1.0                thehill.com            NaN  Unknown  \n",
      "4             1.0               www.cnbc.com            NaN  Unknown  \n",
      "\n",
      "Tipo de datos de 'storydate' después de la conversión: object\n"
     ]
    }
   ],
   "source": [
    "# Convertir la columna 'storydate' a tipo string\n",
    "df['storydate'] = df['storydate'].astype(str)\n",
    "\n",
    "# Mostrar las primeras filas del DataFrame para verificar los cambios\n",
    "print(df.head())\n",
    "\n",
    "# Verificar el tipo de datos de la columna 'storydate'\n",
    "print(\"\\nTipo de datos de 'storydate' después de la conversión:\", df['storydate'].dtype)\n"
   ]
  },
  {
   "cell_type": "markdown",
   "id": "e0437ea4-c5cb-4e96-a172-cb53970a4367",
   "metadata": {},
   "source": [
    "### 18- Obtener la media de \"story_position\""
   ]
  },
  {
   "cell_type": "code",
   "execution_count": 42,
   "id": "1748026c-5bf7-4a2b-afb6-f54008948274",
   "metadata": {},
   "outputs": [
    {
     "name": "stdout",
     "output_type": "stream",
     "text": [
      "La media de 'story_position' es: 5.249626852719636\n"
     ]
    }
   ],
   "source": [
    "# Asegurarse de que la columna 'story_position' sea de tipo float\n",
    "df['story_position'] = pd.to_numeric(df['story_position'], errors='coerce')\n",
    "\n",
    "# Calcular la media de la columna 'story_position'\n",
    "mean_story_position = df['story_position'].mean()\n",
    "\n",
    "# Mostrar la media\n",
    "print(\"La media de 'story_position' es:\", mean_story_position)\n",
    "\n"
   ]
  },
  {
   "cell_type": "markdown",
   "id": "c24360c6-0d79-4c95-bf3c-b2db59bd67c8",
   "metadata": {},
   "source": [
    "### 19- Obtener la desviación estándar de \"story_position\""
   ]
  },
  {
   "cell_type": "code",
   "execution_count": 43,
   "id": "d31bac5d-11cc-4d87-b5c6-01032cd2e652",
   "metadata": {},
   "outputs": [
    {
     "name": "stdout",
     "output_type": "stream",
     "text": [
      "La desviación estándar de 'story_position' es: 2.8890019221954377\n"
     ]
    }
   ],
   "source": [
    "# Asegurarse de que la columna 'story_position' sea de tipo float\n",
    "df['story_position'] = pd.to_numeric(df['story_position'], errors='coerce')\n",
    "\n",
    "# Calcular la desviación estándar de la columna 'story_position'\n",
    "std_story_position = df['story_position'].std()\n",
    "\n",
    "# Mostrar la desviación estándar\n",
    "print(\"La desviación estándar de 'story_position' es:\", std_story_position)\n"
   ]
  },
  {
   "cell_type": "markdown",
   "id": "393903c4-cf66-42ae-9856-106e9de7c040",
   "metadata": {},
   "source": [
    "### 20- Obtener la cantidad de artículos por fuente (source)"
   ]
  },
  {
   "cell_type": "code",
   "execution_count": 44,
   "id": "af1682a5-df83-4124-a644-cd9f8dfbb332",
   "metadata": {},
   "outputs": [
    {
     "name": "stdout",
     "output_type": "stream",
     "text": [
      "source\n",
      "Fox News               3530\n",
      "CNN.com                2750\n",
      "Politico               2732\n",
      "TheHill                2383\n",
      "The New York Times     1804\n",
      "                       ... \n",
      "WIS                       1\n",
      "+972 Magazine             1\n",
      "YakTriNews                1\n",
      "KNIA KRLS                 1\n",
      "The Winchester Star       1\n",
      "Name: count, Length: 1724, dtype: int64\n"
     ]
    }
   ],
   "source": [
    "# Obtener la cantidad de artículos por fuente (source)\n",
    "articles_per_source = df['source'].value_counts()\n",
    "\n",
    "# Mostrar el resultado\n",
    "print(articles_per_source)\n"
   ]
  },
  {
   "cell_type": "markdown",
   "id": "8a0678f3-c20a-424b-8fec-65b364dc9dfa",
   "metadata": {},
   "source": [
    "### 21- Obtener el valor mínimo y máximo de \"story_position\""
   ]
  },
  {
   "cell_type": "code",
   "execution_count": 45,
   "id": "418e7a8f-a0ac-4abe-9512-5f32c7bc69a7",
   "metadata": {},
   "outputs": [
    {
     "name": "stdout",
     "output_type": "stream",
     "text": [
      "El valor mínimo de 'story_position' es: 1.0\n",
      "El valor máximo de 'story_position' es: 10.0\n"
     ]
    }
   ],
   "source": [
    "# Asegurarse de que la columna 'story_position' sea de tipo float\n",
    "df['story_position'] = pd.to_numeric(df['story_position'], errors='coerce')\n",
    "\n",
    "# Obtener el valor mínimo de 'story_position'\n",
    "min_story_position = df['story_position'].min()\n",
    "\n",
    "# Obtener el valor máximo de 'story_position'\n",
    "max_story_position = df['story_position'].max()\n",
    "\n",
    "# Mostrar los resultados\n",
    "print(\"El valor mínimo de 'story_position' es:\", min_story_position)\n",
    "print(\"El valor máximo de 'story_position' es:\", max_story_position)\n"
   ]
  },
  {
   "cell_type": "markdown",
   "id": "0cc0668a-2cf9-49e3-8df0-b172b0a81521",
   "metadata": {},
   "source": [
    "### 22- Agrupar por la columna \"source\" y contar el número de artículos"
   ]
  },
  {
   "cell_type": "code",
   "execution_count": 47,
   "id": "2dcd3e93-12ca-4d4a-af52-a2a790f1013b",
   "metadata": {},
   "outputs": [
    {
     "name": "stdout",
     "output_type": "stream",
     "text": [
      "source\n",
      "                          2\n",
      "+972 Magazine             1\n",
      "1010 Wins - Radio.com    25\n",
      "1011 News                 1\n",
      "1011Now                   1\n",
      "                         ..\n",
      "theGrio                  31\n",
      "uPolitics                11\n",
      "vtdigger.org              1\n",
      "wgbh.org                  2\n",
      "whotv.com                92\n",
      "Length: 1724, dtype: int64\n"
     ]
    }
   ],
   "source": [
    "# Agrupar por la columna 'source' y contar el número de artículos\n",
    "articles_grouped_by_source = df.groupby('source').size()\n",
    "\n",
    "# Mostrar el resultado\n",
    "print(articles_grouped_by_source)\n"
   ]
  },
  {
   "cell_type": "markdown",
   "id": "da825d3b-5907-4021-aa9b-d53542c5aea2",
   "metadata": {},
   "source": [
    "### 23- Crear una tabla pivot para analizar la posición de los artículos por fuente"
   ]
  },
  {
   "cell_type": "code",
   "execution_count": 49,
   "id": "768c8593-746e-4d9e-a635-73e5e0771c6e",
   "metadata": {},
   "outputs": [
    {
     "name": "stdout",
     "output_type": "stream",
     "text": [
      "                                mean            min            max  \\\n",
      "                      story_position story_position story_position   \n",
      "source                                                               \n",
      "                            4.500000            1.0            8.0   \n",
      "+972 Magazine               7.000000            7.0            7.0   \n",
      "1010 Wins - Radio.com       7.520000            4.0           10.0   \n",
      "1011 News                   2.000000            2.0            2.0   \n",
      "1011Now                     2.000000            2.0            2.0   \n",
      "...                              ...            ...            ...   \n",
      "theGrio                     6.419355            2.0           10.0   \n",
      "uPolitics                   3.818182            2.0            9.0   \n",
      "vtdigger.org                1.000000            1.0            1.0   \n",
      "wgbh.org                    1.000000            1.0            1.0   \n",
      "whotv.com                   4.510870            1.0           10.0   \n",
      "\n",
      "                                 std  \n",
      "                      story_position  \n",
      "source                                \n",
      "                            4.949747  \n",
      "+972 Magazine                    NaN  \n",
      "1010 Wins - Radio.com       1.584298  \n",
      "1011 News                        NaN  \n",
      "1011Now                          NaN  \n",
      "...                              ...  \n",
      "theGrio                     2.486955  \n",
      "uPolitics                   2.400757  \n",
      "vtdigger.org                     NaN  \n",
      "wgbh.org                    0.000000  \n",
      "whotv.com                   2.578417  \n",
      "\n",
      "[1724 rows x 4 columns]\n"
     ]
    }
   ],
   "source": [
    "# Crear una tabla pivot para analizar la posición de los artículos por fuente\n",
    "pivot_table = pd.pivot_table(df, values='story_position', index='source', aggfunc=['mean', 'min', 'max', 'std'])\n",
    "\n",
    "# Mostrar la tabla pivot\n",
    "print(pivot_table)\n"
   ]
  },
  {
   "cell_type": "markdown",
   "id": "860bd510-80ff-4ade-b4c3-751e0f0252d4",
   "metadata": {},
   "source": [
    "### 24- Agrupar por \"storydate\" y contar el número de artículos por día"
   ]
  },
  {
   "cell_type": "code",
   "execution_count": 51,
   "id": "3f9ea0b8-0d5a-4ad5-b23e-86a715495c0b",
   "metadata": {},
   "outputs": [
    {
     "name": "stdout",
     "output_type": "stream",
     "text": [
      "storydate\n",
      "2018-12-16 00:00:00    21\n",
      "2018-12-16 06:00:00    23\n",
      "2018-12-16 12:00:00    17\n",
      "2018-12-16 18:00:00    19\n",
      "2018-12-17 00:00:00    16\n",
      "                       ..\n",
      "2019-12-30 14:00:00    16\n",
      "2019-12-30 16:00:00    15\n",
      "2019-12-30 18:00:00     7\n",
      "2019-12-30 20:00:00    18\n",
      "2019-12-30 22:00:00    20\n",
      "Length: 3024, dtype: int64\n"
     ]
    }
   ],
   "source": [
    "# Asegurarse de que la columna 'storydate' es de tipo datetime\n",
    "df['storydate'] = pd.to_datetime(df['storydate'])\n",
    "\n",
    "# Agrupar por la columna 'storydate' y contar el número de artículos por día\n",
    "articles_per_day = df.groupby('storydate').size()\n",
    "\n",
    "# Mostrar el resultado\n",
    "print(articles_per_day)\n"
   ]
  },
  {
   "cell_type": "markdown",
   "id": "fa411ca3-29ef-480c-a6d2-bad00c551f7e",
   "metadata": {},
   "source": [
    "### 25- Graficar el número de artículos por las 10 principales fuentes (explicar código)"
   ]
  },
  {
   "cell_type": "code",
   "execution_count": 54,
   "id": "25c4c8dc-8fd3-483d-aab5-c609ca8fc114",
   "metadata": {},
   "outputs": [
    {
     "data": {
      "image/png": "[encoded data removed]",
      "text/plain": [
       "<Figure size 1200x600 with 1 Axes>"
      ]
     },
     "metadata": {},
     "output_type": "display_data"
    }
   ],
   "source": [
    "# Contar el número de artículos por fuente y seleccionar las 10 principales\n",
    "top_10_sources = df['source'].value_counts().head(10)\n",
    "\n",
    "# Graficar el número de artículos por las 10 principales fuentes\n",
    "plt.figure(figsize=(12, 6))\n",
    "top_10_sources.plot(kind='bar', color='skyblue')\n",
    "plt.title('Número de Artículos por las 10 Principales Fuentes')\n",
    "plt.xlabel('Fuente')\n",
    "plt.ylabel('Número de Artículos')\n",
    "plt.xticks(rotation=45)\n",
    "plt.show()"
   ]
  },
  {
   "cell_type": "markdown",
   "id": "b44beccd-ad79-4190-85ea-f408d7fd1ece",
   "metadata": {},
   "source": [
    "### 26- Graficar la distribución de \"story_position\""
   ]
  },
  {
   "cell_type": "code",
   "execution_count": 55,
   "id": "b6457de8-8df0-4573-bcc4-ad5de914596a",
   "metadata": {},
   "outputs": [
    {
     "data": {
      "image/png": "[encoded data removed]",
      "text/plain": [
       "<Figure size 1200x600 with 1 Axes>"
      ]
     },
     "metadata": {},
     "output_type": "display_data"
    }
   ],
   "source": [
    "import matplotlib.pyplot as plt\n",
    "\n",
    "# Graficar la distribución de 'story_position'\n",
    "plt.figure(figsize=(12, 6))\n",
    "plt.hist(df['story_position'].dropna(), bins=30, color='skyblue', edgecolor='black')\n",
    "plt.title('Distribución de \"story_position\"')\n",
    "plt.xlabel('Posición de la Historia')\n",
    "plt.ylabel('Frecuencia')\n",
    "plt.grid(True)\n",
    "plt.show()"
   ]
  },
  {
   "cell_type": "markdown",
   "id": "ac959ea8-1c1a-4936-92b0-dd7f37b73206",
   "metadata": {},
   "source": [
    "### 27- Convertir la columna \"storydate\" a formato datetime"
   ]
  },
  {
   "cell_type": "code",
   "execution_count": 56,
   "id": "7e051dd4-24d3-4c90-ad59-0cdeb0e37c58",
   "metadata": {},
   "outputs": [
    {
     "name": "stdout",
     "output_type": "stream",
     "text": [
      "                                               title  \\\n",
      "0  Bloomberg cuts ties with company using prison ...   \n",
      "1  Democratic Candidates React to Michael Bloombe...   \n",
      "2                                                NaN   \n",
      "3  Sanders responds to de Blasio's invitation to ...   \n",
      "4  From Andrew Yang's 'No Tie' look to Bernie Buc...   \n",
      "\n",
      "                                                 url                   source  \\\n",
      "0  https://www.nbcnews.com/politics/2020-election...                 NBC News   \n",
      "1  https://www.townandcountrymag.com/society/poli...  Town & Country Magazine   \n",
      "2                                                NaN                      NaN   \n",
      "3  https://thehill.com/homenews/campaign/456579-s...                  TheHill   \n",
      "4  https://www.cnbc.com/2019/08/02/election-2020-...                 CNBC.com   \n",
      "\n",
      "           time           storydate              query  story_position  \\\n",
      "0  18 hours ago 2019-12-25 10:00:00  Michael Bloomberg             6.0   \n",
      "1  18 hours ago 2019-11-09 08:00:00      Amy Klobuchar             3.0   \n",
      "2           NaN 2019-09-11 18:00:00                NaN             NaN   \n",
      "3  15 hours ago 2019-08-08 06:00:00     Bernie Sanders             7.0   \n",
      "4     1 day ago 2019-08-04 10:00:00        Andrew Yang             2.0   \n",
      "\n",
      "   panel_position                     domain         reason category  \n",
      "0             1.0            www.nbcnews.com            NaN  Unknown  \n",
      "1             1.0  www.townandcountrymag.com            NaN  Unknown  \n",
      "2             NaN                        NaN  Not collected  Unknown  \n",
      "3             1.0                thehill.com            NaN  Unknown  \n",
      "4             1.0               www.cnbc.com            NaN  Unknown  \n",
      "\n",
      "Tipo de datos de 'storydate' después de la conversión: datetime64[ns]\n"
     ]
    }
   ],
   "source": [
    "# Convertir la columna 'storydate' a formato datetime\n",
    "df['storydate'] = pd.to_datetime(df['storydate'], errors='coerce')\n",
    "\n",
    "# Mostrar las primeras filas del DataFrame para verificar los cambios\n",
    "print(df.head())\n",
    "\n",
    "# Verificar el tipo de datos de la columna 'storydate'\n",
    "print(\"\\nTipo de datos de 'storydate' después de la conversión:\", df['storydate'].dtype)"
   ]
  },
  {
   "cell_type": "markdown",
   "id": "874bbd0c-dd24-46a6-ae44-c11a5cd7022a",
   "metadata": {},
   "source": [
    "### 28- Crear una nueva columna con el año de \"storydate\""
   ]
  },
  {
   "cell_type": "code",
   "execution_count": 57,
   "id": "04acb0cf-3e74-4316-837f-674d4a7f6a0e",
   "metadata": {},
   "outputs": [
    {
     "name": "stdout",
     "output_type": "stream",
     "text": [
      "                                               title  \\\n",
      "0  Bloomberg cuts ties with company using prison ...   \n",
      "1  Democratic Candidates React to Michael Bloombe...   \n",
      "2                                                NaN   \n",
      "3  Sanders responds to de Blasio's invitation to ...   \n",
      "4  From Andrew Yang's 'No Tie' look to Bernie Buc...   \n",
      "\n",
      "                                                 url                   source  \\\n",
      "0  https://www.nbcnews.com/politics/2020-election...                 NBC News   \n",
      "1  https://www.townandcountrymag.com/society/poli...  Town & Country Magazine   \n",
      "2                                                NaN                      NaN   \n",
      "3  https://thehill.com/homenews/campaign/456579-s...                  TheHill   \n",
      "4  https://www.cnbc.com/2019/08/02/election-2020-...                 CNBC.com   \n",
      "\n",
      "           time           storydate              query  story_position  \\\n",
      "0  18 hours ago 2019-12-25 10:00:00  Michael Bloomberg             6.0   \n",
      "1  18 hours ago 2019-11-09 08:00:00      Amy Klobuchar             3.0   \n",
      "2           NaN 2019-09-11 18:00:00                NaN             NaN   \n",
      "3  15 hours ago 2019-08-08 06:00:00     Bernie Sanders             7.0   \n",
      "4     1 day ago 2019-08-04 10:00:00        Andrew Yang             2.0   \n",
      "\n",
      "   panel_position                     domain         reason category  year  \n",
      "0             1.0            www.nbcnews.com            NaN  Unknown  2019  \n",
      "1             1.0  www.townandcountrymag.com            NaN  Unknown  2019  \n",
      "2             NaN                        NaN  Not collected  Unknown  2019  \n",
      "3             1.0                thehill.com            NaN  Unknown  2019  \n",
      "4             1.0               www.cnbc.com            NaN  Unknown  2019  \n",
      "\n",
      "Tipo de datos de 'year': int32\n"
     ]
    }
   ],
   "source": [
    "# Crear una nueva columna con el año de 'storydate'\n",
    "df['year'] = df['storydate'].dt.year\n",
    "\n",
    "# Mostrar las primeras filas del DataFrame para verificar los cambios\n",
    "print(df.head())\n",
    "\n",
    "# Verificar el tipo de datos de la nueva columna 'year'\n",
    "print(\"\\nTipo de datos de 'year':\", df['year'].dtype)"
   ]
  },
  {
   "cell_type": "markdown",
   "id": "8f861ddf-796c-42ee-84ff-afc71f0c5118",
   "metadata": {},
   "source": [
    "### 29- Crear una nueva columna con el mes de \"storydate\""
   ]
  },
  {
   "cell_type": "code",
   "execution_count": 58,
   "id": "dc9570ed-549e-4061-b7e2-9aaafae5ce41",
   "metadata": {},
   "outputs": [
    {
     "name": "stdout",
     "output_type": "stream",
     "text": [
      "                                               title  \\\n",
      "0  Bloomberg cuts ties with company using prison ...   \n",
      "1  Democratic Candidates React to Michael Bloombe...   \n",
      "2                                                NaN   \n",
      "3  Sanders responds to de Blasio's invitation to ...   \n",
      "4  From Andrew Yang's 'No Tie' look to Bernie Buc...   \n",
      "\n",
      "                                                 url                   source  \\\n",
      "0  https://www.nbcnews.com/politics/2020-election...                 NBC News   \n",
      "1  https://www.townandcountrymag.com/society/poli...  Town & Country Magazine   \n",
      "2                                                NaN                      NaN   \n",
      "3  https://thehill.com/homenews/campaign/456579-s...                  TheHill   \n",
      "4  https://www.cnbc.com/2019/08/02/election-2020-...                 CNBC.com   \n",
      "\n",
      "           time           storydate              query  story_position  \\\n",
      "0  18 hours ago 2019-12-25 10:00:00  Michael Bloomberg             6.0   \n",
      "1  18 hours ago 2019-11-09 08:00:00      Amy Klobuchar             3.0   \n",
      "2           NaN 2019-09-11 18:00:00                NaN             NaN   \n",
      "3  15 hours ago 2019-08-08 06:00:00     Bernie Sanders             7.0   \n",
      "4     1 day ago 2019-08-04 10:00:00        Andrew Yang             2.0   \n",
      "\n",
      "   panel_position                     domain         reason category  year  \\\n",
      "0             1.0            www.nbcnews.com            NaN  Unknown  2019   \n",
      "1             1.0  www.townandcountrymag.com            NaN  Unknown  2019   \n",
      "2             NaN                        NaN  Not collected  Unknown  2019   \n",
      "3             1.0                thehill.com            NaN  Unknown  2019   \n",
      "4             1.0               www.cnbc.com            NaN  Unknown  2019   \n",
      "\n",
      "   month  \n",
      "0     12  \n",
      "1     11  \n",
      "2      9  \n",
      "3      8  \n",
      "4      8  \n",
      "\n",
      "Tipo de datos de 'month': int32\n"
     ]
    }
   ],
   "source": [
    "# Crear una nueva columna con el mes de 'storydate'\n",
    "df['month'] = df['storydate'].dt.month\n",
    "\n",
    "# Mostrar las primeras filas del DataFrame para verificar los cambios\n",
    "print(df.head())\n",
    "\n",
    "# Verificar el tipo de datos de la nueva columna 'month'\n",
    "print(\"\\nTipo de datos de 'month':\", df['month'].dtype)"
   ]
  },
  {
   "cell_type": "markdown",
   "id": "4ec88744-8cab-4dc9-bc9d-95024ad39ca0",
   "metadata": {},
   "source": [
    "### 30- Convertir el DataFrame filtrado de \"CNN.com\" a formato JSON"
   ]
  },
  {
   "cell_type": "code",
   "execution_count": 59,
   "id": "536ee3ba-d828-44cf-98f3-6e52eabd0484",
   "metadata": {},
   "outputs": [
    {
     "name": "stdout",
     "output_type": "stream",
     "text": [
      "{\"title\":\"Bernie Sanders stays on the stump after receiving stitches for head wound\",\"url\":\"https:\\/\\/www.cnn.com\\/2019\\/03\\/15\\/politics\\/bernie-sanders-stitches-south-carolina\\/index.html\",\"source\":\"CNN.com\",\"time\":\"1 hour ago\",\"storydate\":1552716000000,\"query\":\"Bernie Sanders\",\"story_position\":1.0,\"panel_position\":1.0,\"domain\":\"www.cnn.com\",\"reason\":null,\"category\":\"Unknown\",\"year\":2019,\"month\":3}\n",
      "{\"title\":\"Trump says he spoke with Putin about 'Russian hoax,' didn't warn him \\nagainst 2020 el\n"
     ]
    }
   ],
   "source": [
    "# Filtrar los artículos donde la fuente es \"CNN.com\"\n",
    "cnn_articles = df[df['source'] == 'CNN.com']\n",
    "\n",
    "# Convertir el DataFrame filtrado a formato JSON\n",
    "cnn_articles_json = cnn_articles.to_json(orient='records', lines=True)\n",
    "\n",
    "# Mostrar los primeros 500 caracteres del JSON resultante para verificar\n",
    "print(cnn_articles_json[:500])\n",
    "\n",
    "# Guardar el JSON resultante en un archivo (opcional)\n",
    "with open('cnn_articles.json', 'w') as file:\n",
    "    file.write(cnn_articles_json)"
   ]
  },
  {
   "cell_type": "markdown",
   "id": "b5d22747-ce83-4cfc-a685-264497d6a66d",
   "metadata": {},
   "source": [
    "### 31- Exportar el DataFrame filtrado de \"CNN.com\" a un archivo CSV"
   ]
  },
  {
   "cell_type": "code",
   "execution_count": 60,
   "id": "fbf617f9-eb4f-42c3-9052-014a6d5bbb36",
   "metadata": {},
   "outputs": [
    {
     "name": "stdout",
     "output_type": "stream",
     "text": [
      "El DataFrame filtrado se ha exportado a 'cnn_articles.csv'\n"
     ]
    }
   ],
   "source": [
    "# Filtrar los artículos donde la fuente es \"CNN.com\"\n",
    "cnn_articles = df[df['source'] == 'CNN.com']\n",
    "\n",
    "# Exportar el DataFrame filtrado a un archivo CSV\n",
    "cnn_articles.to_csv('cnn_articles.csv', index=False)\n",
    "\n",
    "# Confirmación de exportación\n",
    "print(\"El DataFrame filtrado se ha exportado a 'cnn_articles.csv'\")"
   ]
  },
  {
   "cell_type": "markdown",
   "id": "d89c2b86-c3ee-4e42-8659-d0e4a152739a",
   "metadata": {},
   "source": [
    "### 32- Mostrar los artículos con la mayor \"story_position\" por fuente"
   ]
  },
  {
   "cell_type": "code",
   "execution_count": 61,
   "id": "afd013c6-af64-4a81-a399-ed345d5c87d1",
   "metadata": {},
   "outputs": [
    {
     "name": "stdout",
     "output_type": "stream",
     "text": [
      "                                                   title  \\\n",
      "53436  The HillTrump boasts of bigger El Paso crowd t...   \n",
      "23520  On Palestine-Israel, Cory Booker and Kamala Ha...   \n",
      "1785   Mayor de Blasio launches new resources for hom...   \n",
      "11287  Starbucks CEO to appear Sept. 27 at the Univer...   \n",
      "15399  Starbucks CEO to appear Sept. 27 at the Univer...   \n",
      "...                                                  ...   \n",
      "11170  In a unique gesture, presidential candidate Ma...   \n",
      "47045  VIDEO EXCLUSIVE: Democratic 2020 Presidential ...   \n",
      "26333  Bernie Sanders’ spiritual supporter turns 2020...   \n",
      "7891   Rep. Seth Moulton Calls For Democratic Majorit...   \n",
      "3239   Insiders 10/27/19: Beto O’Rourke Says it is Re...   \n",
      "\n",
      "                                                     url  \\\n",
      "53436  https://thehill.com/homenews/administration/42...   \n",
      "23520  https://972mag.com/black-palestine-democratic-...   \n",
      "1785   https://1010wins.radio.com/articles/mayor-de-b...   \n",
      "11287  https://www.1011now.com/content/news/Starbucks...   \n",
      "15399  https://www.1011now.com/content/news/Starbucks...   \n",
      "...                                                  ...   \n",
      "11170  https://thegrio.com/2019/07/17/marianne-willia...   \n",
      "47045  https://upolitics.com/videos/video-exclusive-d...   \n",
      "26333  https://vtdigger.org/2019/03/24/bernie-sanders...   \n",
      "7891   https://www.wgbh.org/news/national-news/2019/0...   \n",
      "3239   https://whotv.com/2019/10/27/insiders-10-27-19...   \n",
      "\n",
      "                      source          time           storydate  \\\n",
      "53436                           1 hour ago 2019-02-12 00:00:00   \n",
      "23520          +972 Magazine    2 days ago 2019-04-28 12:00:00   \n",
      "1785   1010 Wins - Radio.com    2 days ago 2019-10-09 20:00:00   \n",
      "11287              1011 News    1 hour ago 2019-09-24 16:00:00   \n",
      "15399                1011Now  11 hours ago 2019-09-25 02:00:00   \n",
      "...                      ...           ...                 ...   \n",
      "11170                theGrio  22 hours ago 2019-07-18 08:00:00   \n",
      "47045              uPolitics    2 days ago 2019-06-06 18:00:00   \n",
      "26333           vtdigger.org  22 hours ago 2019-03-25 12:00:00   \n",
      "7891                wgbh.org     1 day ago 2019-01-05 06:00:00   \n",
      "3239               whotv.com     1 day ago 2019-10-29 16:00:00   \n",
      "\n",
      "                     query  story_position  panel_position  \\\n",
      "53436         Donald Trump             8.0             1.0   \n",
      "23520          Cory Booker             7.0             1.0   \n",
      "1785        Bill de Blasio            10.0             2.0   \n",
      "11287       Howard Schultz             2.0            10.0   \n",
      "15399       Howard Schultz             2.0            10.0   \n",
      "...                    ...             ...             ...   \n",
      "11170  Marianne Williamson            10.0             1.0   \n",
      "47045          Andrew Yang             9.0             1.0   \n",
      "26333  Marianne Williamson             1.0             2.0   \n",
      "7891          Seth Moulton             1.0             1.0   \n",
      "3239         Beto O Rourke            10.0             1.0   \n",
      "\n",
      "                   domain reason category  year  month  \n",
      "53436         thehill.com    NaN  Unknown  2019      2  \n",
      "23520          972mag.com    NaN  Unknown  2019      4  \n",
      "1785   1010wins.radio.com    NaN  Unknown  2019     10  \n",
      "11287     www.1011now.com    NaN  Unknown  2019      9  \n",
      "15399     www.1011now.com    NaN  Unknown  2019      9  \n",
      "...                   ...    ...      ...   ...    ...  \n",
      "11170         thegrio.com    NaN  Unknown  2019      7  \n",
      "47045       upolitics.com    NaN  Unknown  2019      6  \n",
      "26333        vtdigger.org    NaN  Unknown  2019      3  \n",
      "7891         www.wgbh.org    NaN  Unknown  2019      1  \n",
      "3239            whotv.com    NaN  Unknown  2019     10  \n",
      "\n",
      "[1724 rows x 13 columns]\n"
     ]
    }
   ],
   "source": [
    "# Encontrar los índices de las filas con la mayor 'story_position' por fuente\n",
    "idx = df.groupby('source')['story_position'].idxmax()\n",
    "\n",
    "# Seleccionar las filas correspondientes a esos índices\n",
    "max_story_position_articles = df.loc[idx]\n",
    "\n",
    "# Mostrar los artículos con la mayor 'story_position' por fuente\n",
    "print(max_story_position_articles)"
   ]
  },
  {
   "cell_type": "markdown",
   "id": "848ea42b-9866-4835-95f1-e19c37c40ee1",
   "metadata": {},
   "source": [
    "### 33- Calcular el resumen estadístico de la columna \"story_position\""
   ]
  },
  {
   "cell_type": "code",
   "execution_count": 62,
   "id": "1516d707-5111-4d2e-976f-5071290f9c00",
   "metadata": {},
   "outputs": [
    {
     "name": "stdout",
     "output_type": "stream",
     "text": [
      "count    57618.000000\n",
      "mean         5.249627\n",
      "std          2.889002\n",
      "min          1.000000\n",
      "25%          3.000000\n",
      "50%          5.000000\n",
      "75%          8.000000\n",
      "max         10.000000\n",
      "Name: story_position, dtype: float64\n"
     ]
    }
   ],
   "source": [
    "# Calcular el resumen estadístico de la columna 'story_position'\n",
    "summary_stats = df['story_position'].describe()\n",
    "\n",
    "# Mostrar el resumen estadístico\n",
    "print(summary_stats)"
   ]
  },
  {
   "cell_type": "markdown",
   "id": "c41302a7-4ec0-4d49-8be0-ce5e089912b6",
   "metadata": {},
   "source": [
    "### 34- Calcular el conteo de valores únicos en la columna \"query\""
   ]
  },
  {
   "cell_type": "code",
   "execution_count": 63,
   "id": "608be863-7dad-4da1-bfef-1ebedabf9081",
   "metadata": {},
   "outputs": [
    {
     "name": "stdout",
     "output_type": "stream",
     "text": [
      "El número de valores únicos en la columna 'query' es: 30\n"
     ]
    }
   ],
   "source": [
    "# Calcular el conteo de valores únicos en la columna 'query'\n",
    "unique_query_count = df['query'].nunique()\n",
    "\n",
    "# Mostrar el conteo de valores únicos\n",
    "print(\"El número de valores únicos en la columna 'query' es:\", unique_query_count)"
   ]
  },
  {
   "cell_type": "markdown",
   "id": "c80f167b-7c98-49e2-ad8f-e313e6e05dfe",
   "metadata": {},
   "source": [
    "### 35- Calcular o contar los valores faltantes de cada columna"
   ]
  },
  {
   "cell_type": "code",
   "execution_count": 64,
   "id": "e3926dea-8817-4d82-bac5-0c77ce32136c",
   "metadata": {},
   "outputs": [
    {
     "name": "stdout",
     "output_type": "stream",
     "text": [
      "Conteo de valores faltantes en cada columna:\n",
      "title              2382\n",
      "url                2382\n",
      "source             2382\n",
      "time               2382\n",
      "storydate             0\n",
      "query              2382\n",
      "story_position     2382\n",
      "panel_position     2415\n",
      "domain             2382\n",
      "reason            57618\n",
      "category              0\n",
      "year                  0\n",
      "month                 0\n",
      "dtype: int64\n"
     ]
    }
   ],
   "source": [
    "# Calcular el conteo de valores faltantes en cada columna\n",
    "missing_values_count = df.isnull().sum()\n",
    "\n",
    "# Mostrar el conteo de valores faltantes\n",
    "print(\"Conteo de valores faltantes en cada columna:\")\n",
    "print(missing_values_count)"
   ]
  },
  {
   "cell_type": "markdown",
   "id": "1b67425a-bc94-49d2-ac27-31f20d2bba40",
   "metadata": {},
   "source": [
    "### 36- Filtrar filas donde falta algún dato"
   ]
  },
  {
   "cell_type": "code",
   "execution_count": 65,
   "id": "4895a7d5-1180-4efd-88d3-45f1ad66e67c",
   "metadata": {},
   "outputs": [
    {
     "name": "stdout",
     "output_type": "stream",
     "text": [
      "Empty DataFrame\n",
      "Columns: [title, url, source, time, storydate, query, story_position, panel_position, domain, reason, category, year, month]\n",
      "Index: []\n",
      "\n",
      "Número de filas antes de filtrar: 60000\n",
      "Número de filas después de filtrar: 0\n"
     ]
    }
   ],
   "source": [
    "# Filtrar filas donde falta algún dato\n",
    "df_filtered = df.dropna(how='any')\n",
    "\n",
    "# Mostrar las primeras filas del DataFrame filtrado\n",
    "print(df_filtered.head())\n",
    "\n",
    "# Mostrar el número de filas antes y después de filtrar\n",
    "print(\"\\nNúmero de filas antes de filtrar:\", df.shape[0])\n",
    "print(\"Número de filas después de filtrar:\", df_filtered.shape[0])"
   ]
  },
  {
   "cell_type": "markdown",
   "id": "7ae5f300-8c3c-4d17-bcc8-61245127a551",
   "metadata": {},
   "source": [
    "### 37- Borrar la columna `category` del dataframe y guardarlo en otro dataframe"
   ]
  },
  {
   "cell_type": "code",
   "execution_count": 66,
   "id": "3d251c8c-15ef-4de9-bd70-27559ce4df78",
   "metadata": {},
   "outputs": [
    {
     "name": "stdout",
     "output_type": "stream",
     "text": [
      "                                               title  \\\n",
      "0  Bloomberg cuts ties with company using prison ...   \n",
      "1  Democratic Candidates React to Michael Bloombe...   \n",
      "2                                                NaN   \n",
      "3  Sanders responds to de Blasio's invitation to ...   \n",
      "4  From Andrew Yang's 'No Tie' look to Bernie Buc...   \n",
      "\n",
      "                                                 url                   source  \\\n",
      "0  https://www.nbcnews.com/politics/2020-election...                 NBC News   \n",
      "1  https://www.townandcountrymag.com/society/poli...  Town & Country Magazine   \n",
      "2                                                NaN                      NaN   \n",
      "3  https://thehill.com/homenews/campaign/456579-s...                  TheHill   \n",
      "4  https://www.cnbc.com/2019/08/02/election-2020-...                 CNBC.com   \n",
      "\n",
      "           time           storydate              query  story_position  \\\n",
      "0  18 hours ago 2019-12-25 10:00:00  Michael Bloomberg             6.0   \n",
      "1  18 hours ago 2019-11-09 08:00:00      Amy Klobuchar             3.0   \n",
      "2           NaN 2019-09-11 18:00:00                NaN             NaN   \n",
      "3  15 hours ago 2019-08-08 06:00:00     Bernie Sanders             7.0   \n",
      "4     1 day ago 2019-08-04 10:00:00        Andrew Yang             2.0   \n",
      "\n",
      "   panel_position                     domain         reason  year  month  \n",
      "0             1.0            www.nbcnews.com            NaN  2019     12  \n",
      "1             1.0  www.townandcountrymag.com            NaN  2019     11  \n",
      "2             NaN                        NaN  Not collected  2019      9  \n",
      "3             1.0                thehill.com            NaN  2019      8  \n",
      "4             1.0               www.cnbc.com            NaN  2019      8  \n",
      "\n",
      "Columnas del DataFrame sin la columna 'category':\n",
      "Index(['title', 'url', 'source', 'time', 'storydate', 'query',\n",
      "       'story_position', 'panel_position', 'domain', 'reason', 'year',\n",
      "       'month'],\n",
      "      dtype='object')\n"
     ]
    }
   ],
   "source": [
    "# Borrar la columna 'category' y guardar el resultado en otro DataFrame\n",
    "df_without_category = df.drop(columns=['category'])\n",
    "\n",
    "# Mostrar las primeras filas del nuevo DataFrame para verificar los cambios\n",
    "print(df_without_category.head())\n",
    "\n",
    "# Mostrar las columnas del nuevo DataFrame para confirmar la eliminación\n",
    "print(\"\\nColumnas del DataFrame sin la columna 'category':\")\n",
    "print(df_without_category.columns)"
   ]
  },
  {
   "cell_type": "markdown",
   "id": "6e2ef894-1402-472a-b9af-6bc6adf3ed40",
   "metadata": {},
   "source": [
    "### 38- Filtrar filas donde la columna 'source' está vacía o es nula"
   ]
  },
  {
   "cell_type": "code",
   "execution_count": 67,
   "id": "b140d033-22ab-47c7-b5e0-fece69099961",
   "metadata": {},
   "outputs": [
    {
     "name": "stdout",
     "output_type": "stream",
     "text": [
      "   title  url source time           storydate query  story_position  \\\n",
      "2    NaN  NaN    NaN  NaN 2019-09-11 18:00:00   NaN             NaN   \n",
      "45   NaN  NaN    NaN  NaN 2019-07-24 00:00:00   NaN             NaN   \n",
      "55   NaN  NaN    NaN  NaN 2019-08-19 20:00:00   NaN             NaN   \n",
      "60   NaN  NaN    NaN  NaN 2019-09-13 16:00:00   NaN             NaN   \n",
      "62   NaN  NaN    NaN  NaN 2019-10-16 20:00:00   NaN             NaN   \n",
      "\n",
      "    panel_position domain          reason category  year  month  \n",
      "2              NaN    NaN   Not collected  Unknown  2019      9  \n",
      "45             NaN    NaN  No Top stories  Unknown  2019      7  \n",
      "55             NaN    NaN   Not collected  Unknown  2019      8  \n",
      "60             NaN    NaN   Not collected  Unknown  2019      9  \n",
      "62             NaN    NaN  No Top stories  Unknown  2019     10  \n",
      "\n",
      "Número de filas antes de filtrar: 60000\n",
      "Número de filas después de filtrar: 2384\n"
     ]
    }
   ],
   "source": [
    "# Filtrar filas donde la columna 'source' está vacía o es nula\n",
    "filtered_df = df.loc[df['source'].isnull() | (df['source'] == '')]\n",
    "\n",
    "# Mostrar las primeras filas del DataFrame filtrado para verificar los cambios\n",
    "print(filtered_df.head())\n",
    "\n",
    "# Mostrar el número de filas antes y después de filtrar\n",
    "print(\"\\nNúmero de filas antes de filtrar:\", df.shape[0])\n",
    "print(\"Número de filas después de filtrar:\", filtered_df.shape[0])"
   ]
  },
  {
   "cell_type": "markdown",
   "id": "f1258def-67d2-4b91-b554-75c67311e75b",
   "metadata": {},
   "source": [
    "### 39-  Eliminar filas donde la columna 'source' está vacía o es nula"
   ]
  },
  {
   "cell_type": "code",
   "execution_count": 68,
   "id": "ef86fa6f-9397-46f3-b3da-dafb395f3d72",
   "metadata": {},
   "outputs": [
    {
     "name": "stdout",
     "output_type": "stream",
     "text": [
      "                                               title  \\\n",
      "0  Bloomberg cuts ties with company using prison ...   \n",
      "1  Democratic Candidates React to Michael Bloombe...   \n",
      "3  Sanders responds to de Blasio's invitation to ...   \n",
      "4  From Andrew Yang's 'No Tie' look to Bernie Buc...   \n",
      "5  Liberal billionaire Tom Steyer scolds Dems for...   \n",
      "\n",
      "                                                 url                   source  \\\n",
      "0  https://www.nbcnews.com/politics/2020-election...                 NBC News   \n",
      "1  https://www.townandcountrymag.com/society/poli...  Town & Country Magazine   \n",
      "3  https://thehill.com/homenews/campaign/456579-s...                  TheHill   \n",
      "4  https://www.cnbc.com/2019/08/02/election-2020-...                 CNBC.com   \n",
      "5  https://www.foxnews.com/politics/liberal-billi...                 Fox News   \n",
      "\n",
      "           time           storydate              query  story_position  \\\n",
      "0  18 hours ago 2019-12-25 10:00:00  Michael Bloomberg             6.0   \n",
      "1  18 hours ago 2019-11-09 08:00:00      Amy Klobuchar             3.0   \n",
      "3  15 hours ago 2019-08-08 06:00:00     Bernie Sanders             7.0   \n",
      "4     1 day ago 2019-08-04 10:00:00        Andrew Yang             2.0   \n",
      "5    1 week ago 2019-05-28 00:00:00         Tom Steyer             5.0   \n",
      "\n",
      "   panel_position                     domain reason category  year  month  \n",
      "0             1.0            www.nbcnews.com    NaN  Unknown  2019     12  \n",
      "1             1.0  www.townandcountrymag.com    NaN  Unknown  2019     11  \n",
      "3             1.0                thehill.com    NaN  Unknown  2019      8  \n",
      "4             1.0               www.cnbc.com    NaN  Unknown  2019      8  \n",
      "5             2.0            www.foxnews.com    NaN  Unknown  2019      5  \n",
      "\n",
      "Número de filas antes de limpiar: 60000\n",
      "Número de filas después de limpiar: 57616\n"
     ]
    }
   ],
   "source": [
    "\n",
    "# Eliminar filas donde la columna 'source' está vacía o es nula\n",
    "df_cleaned = df.dropna(subset=['source'])\n",
    "df_cleaned = df_cleaned[df_cleaned['source'] != '']\n",
    "\n",
    "# Mostrar las primeras filas del DataFrame limpio para verificar los cambios\n",
    "print(df_cleaned.head())\n",
    "\n",
    "# Mostrar el número de filas antes y después de limpiar\n",
    "print(\"\\nNúmero de filas antes de limpiar:\", df.shape[0])\n",
    "print(\"Número de filas después de limpiar:\", df_cleaned.shape[0])"
   ]
  },
  {
   "cell_type": "markdown",
   "id": "021aa80e-7df7-4c11-a651-988f6acb3251",
   "metadata": {},
   "source": [
    "### 40- Calcular la media de la columna story_position para cada query"
   ]
  },
  {
   "cell_type": "code",
   "execution_count": 69,
   "id": "a455d39d-4485-4c58-83dc-fbcd36eed609",
   "metadata": {},
   "outputs": [
    {
     "name": "stdout",
     "output_type": "stream",
     "text": [
      "query\n",
      "Amy Klobuchar          5.485017\n",
      "Andrew Yang            5.477004\n",
      "Bernie Sanders         5.456418\n",
      "Beto O Rourke          5.403399\n",
      "Bill Weld              4.728591\n",
      "Bill de Blasio         5.513235\n",
      "Cory Booker            5.460512\n",
      "Deval Patrick          5.191441\n",
      "Donald Trump           5.484837\n",
      "Elizabeth Warren       5.482407\n",
      "Eric Swalwell          5.214198\n",
      "Howard Schultz         4.776099\n",
      "Jay Inslee             4.954359\n",
      "Joe Biden              5.424632\n",
      "John Delaney           4.452242\n",
      "John Hickenlooper      4.911681\n",
      "Julian Castro          5.374422\n",
      "Kamala Harris          5.484781\n",
      "Kirsten Gillibrand     5.284419\n",
      "Marianne Williamson    5.144767\n",
      "Michael Bennet         4.760052\n",
      "Michael Bloomberg      4.865504\n",
      "Mike Gravel            4.976323\n",
      "Pete Buttigieg         5.392045\n",
      "Seth Moulton           4.917058\n",
      "Steve Bullock          5.042918\n",
      "Tim Ryan               4.932613\n",
      "Tom Steyer             5.032000\n",
      "Tulsi Gabbard          5.509031\n",
      "Wayne Messam           3.119266\n",
      "Name: story_position, dtype: float64\n"
     ]
    }
   ],
   "source": [
    "# Calcular la media de la columna 'story_position' para cada 'query'\n",
    "mean_story_position_per_query = df.groupby('query')['story_position'].mean()\n",
    "\n",
    "# Mostrar el resultado\n",
    "print(mean_story_position_per_query)"
   ]
  }
 ],
 "metadata": {
  "kernelspec": {
   "display_name": "Python 3 (ipykernel)",
   "language": "python",
   "name": "python3"
  },
  "language_info": {
   "codemirror_mode": {
    "name": "ipython",
    "version": 3
   },
   "file_extension": ".py",
   "mimetype": "text/x-python",
   "name": "python",
   "nbconvert_exporter": "python",
   "pygments_lexer": "ipython3",
   "version": "3.11.7"
  }
 },
 "nbformat": 4,
 "nbformat_minor": 5
}
