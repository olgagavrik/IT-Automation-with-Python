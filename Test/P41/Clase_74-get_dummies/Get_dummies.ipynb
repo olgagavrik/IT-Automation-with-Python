{
 "cells": [
  {
   "cell_type": "markdown",
   "metadata": {},
   "source": [
    "# Encoding with Pandas get_dummies\n",
    "\n",
    "En este notebook, exploraremos el uso de la función `get_dummies` de pandas para la codificación de variables categóricas. La codificación es un paso crucial en el procesamiento de datos para modelos de machine learning, ya que estos modelos requieren datos numéricos.\n",
    "\n",
    "Nos basaremos en el artículo [Encoding with Pandas get_dummies](https://medium.com) por Hasan Ersan YAĞCI.\n"
   ]
  },
  {
   "cell_type": "markdown",
   "metadata": {},
   "source": [
    "## Introducción a get_dummies\n",
    "\n",
    "La función `get_dummies` de pandas es una forma sencilla de implementar la codificación one-hot (one-hot encoding). Esta función transforma columnas categóricas en columnas binarias.\n",
    "\n",
    "Empezaremos aplicando `get_dummies` a la columna \"Body Color\" de un dataframe de ejemplo.\n"
   ]
  },
  {
   "cell_type": "code",
   "execution_count": 1,
   "metadata": {},
   "outputs": [
    {
     "name": "stdout",
     "output_type": "stream",
     "text": [
      "   Black   Blue    Red  White\n",
      "0   True  False  False  False\n",
      "1  False  False   True  False\n",
      "2  False   True  False  False\n",
      "3  False  False   True  False\n",
      "4   True  False  False  False\n",
      "5  False  False  False   True\n"
     ]
    }
   ],
   "source": [
    "import pandas as pd\n",
    "\n",
    "# Datos de ejemplo\n",
    "df = pd.DataFrame({\n",
    "    'Body Color': ['Black', 'Red', 'Blue', 'Red', 'Black', 'White'],\n",
    "    'Price': [20000, 25000, 27000, 30000, 22000, 21000]\n",
    "})\n",
    "\n",
    "# Aplicar get_dummies\n",
    "df_dummies = pd.get_dummies(df['Body Color'])\n",
    "\n",
    "print(df_dummies)\n"
   ]
  },
  {
   "cell_type": "markdown",
   "metadata": {},
   "source": [
    "## Uso del parámetro `drop_first`\n",
    "\n",
    "El parámetro `drop_first` se utiliza para eliminar la primera columna generada por `get_dummies`. Esto reduce la multicolinealidad en los modelos de regresión.\n"
   ]
  },
  {
   "cell_type": "code",
   "execution_count": 2,
   "metadata": {},
   "outputs": [
    {
     "name": "stdout",
     "output_type": "stream",
     "text": [
      "    Blue    Red  White\n",
      "0  False  False  False\n",
      "1  False   True  False\n",
      "2   True  False  False\n",
      "3  False   True  False\n",
      "4  False  False  False\n",
      "5  False  False   True\n"
     ]
    }
   ],
   "source": [
    "# Aplicar get_dummies con drop_first=True\n",
    "df_dummies_drop_first = pd.get_dummies(df['Body Color'], drop_first=True)\n",
    "\n",
    "print(df_dummies_drop_first)\n"
   ]
  },
  {
   "cell_type": "markdown",
   "metadata": {},
   "source": [
    "## Uso del parámetro `prefix`\n",
    "\n",
    "El parámetro `prefix` se usa para agregar un prefijo a las columnas generadas. Esto es útil cuando se aplican dummies a varias columnas para evitar conflictos de nombres.\n"
   ]
  },
  {
   "cell_type": "code",
   "execution_count": 3,
   "metadata": {},
   "outputs": [
    {
     "name": "stdout",
     "output_type": "stream",
     "text": [
      "   Color_Black  Color_Blue  Color_Red  Color_White\n",
      "0         True       False      False        False\n",
      "1        False       False       True        False\n",
      "2        False        True      False        False\n",
      "3        False       False       True        False\n",
      "4         True       False      False        False\n",
      "5        False       False      False         True\n"
     ]
    }
   ],
   "source": [
    "# Aplicar get_dummies con prefix\n",
    "df_dummies_prefix = pd.get_dummies(df['Body Color'], prefix='Color')\n",
    "\n",
    "print(df_dummies_prefix)\n"
   ]
  },
  {
   "cell_type": "markdown",
   "metadata": {},
   "source": [
    "## Aplicar get_dummies a múltiples columnas\n",
    "\n",
    "Podemos aplicar `get_dummies` directamente a todo el dataframe. Se recomienda usar el parámetro `columns` para especificar las columnas a codificar.\n"
   ]
  },
  {
   "cell_type": "code",
   "execution_count": 4,
   "metadata": {},
   "outputs": [
    {
     "name": "stdout",
     "output_type": "stream",
     "text": [
      "   Price  Make_Model_Ford_Focus  Make_Model_Honda_Civic  \\\n",
      "0  20000                  False                   False   \n",
      "1  25000                  False                    True   \n",
      "2  27000                   True                   False   \n",
      "3  30000                  False                   False   \n",
      "\n",
      "   Make_Model_Toyota_Corolla  Body Color_Black  Body Color_Blue  \\\n",
      "0                       True              True            False   \n",
      "1                      False             False            False   \n",
      "2                      False             False             True   \n",
      "3                       True             False            False   \n",
      "\n",
      "   Body Color_Red  Gear Type_Automatic  Gear Type_Manual  \n",
      "0           False                False              True  \n",
      "1            True                 True             False  \n",
      "2           False                False              True  \n",
      "3            True                 True             False  \n"
     ]
    }
   ],
   "source": [
    "# Datos de ejemplo con múltiples columnas categóricas\n",
    "df = pd.DataFrame({\n",
    "    'Make_Model': ['Toyota_Corolla', 'Honda_Civic', 'Ford_Focus', 'Toyota_Corolla'],\n",
    "    'Body Color': ['Black', 'Red', 'Blue', 'Red'],\n",
    "    'Gear Type': ['Manual', 'Automatic', 'Manual', 'Automatic'],\n",
    "    'Price': [20000, 25000, 27000, 30000]\n",
    "})\n",
    "\n",
    "# Aplicar get_dummies a columnas específicas\n",
    "df_dummies_multi = pd.get_dummies(df, columns=['Make_Model', 'Body Color', 'Gear Type'])\n",
    "\n",
    "print(df_dummies_multi)\n"
   ]
  },
  {
   "cell_type": "markdown",
   "metadata": {},
   "source": [
    "## Uso de `str.get_dummies` para columnas con múltiples categorías\n",
    "\n",
    "La función `str.get_dummies` se utiliza para columnas que contienen múltiples categorías en una sola celda, separadas por un delimitador.\n"
   ]
  },
  {
   "cell_type": "code",
   "execution_count": 5,
   "metadata": {},
   "outputs": [
    {
     "name": "stdout",
     "output_type": "stream",
     "text": [
      "   Alloy Wheels  Leather Seats  Sunroof\n",
      "0             1              0        1\n",
      "1             0              0        1\n",
      "2             1              1        0\n",
      "3             0              1        1\n"
     ]
    }
   ],
   "source": [
    "# Datos de ejemplo con una columna que contiene múltiples categorías\n",
    "df = pd.DataFrame({\n",
    "    'Extras': ['Alloy Wheels,Sunroof', 'Sunroof', 'Leather Seats,Alloy Wheels', 'Sunroof,Leather Seats'],\n",
    "    'Price': [20000, 25000, 27000, 30000]\n",
    "})\n",
    "\n",
    "# Aplicar str.get_dummies\n",
    "df_extras_dummies = df['Extras'].str.get_dummies(sep=',')\n",
    "\n",
    "print(df_extras_dummies)\n"
   ]
  },
  {
   "cell_type": "markdown",
   "metadata": {},
   "source": [
    "## Conclusión\n",
    "\n",
    "La función `get_dummies` de pandas es una herramienta poderosa y flexible para la codificación de variables categóricas. Nos permite convertir datos no numéricos en un formato adecuado para modelos de machine learning de manera sencilla y eficiente.\n"
   ]
  },
  {
   "cell_type": "markdown",
   "metadata": {},
   "source": [
    "## Diferencias entre `get_dummies` y One Hot Encoding\n",
    "\n",
    "**One Hot Encoding:**\n",
    "- One Hot Encoding es una técnica general utilizada para convertir variables categóricas en una forma que puede ser proporcionada a algoritmos de Machine Learning para mejorar las predicciones.\n",
    "- En One Hot Encoding, cada categoría en una característica categórica es representada por un vector binario.\n",
    "- En términos de implementación, One Hot Encoding se puede realizar utilizando varias bibliotecas como `pandas` (con `get_dummies`), `scikit-learn` (con `OneHotEncoder`), entre otras.\n",
    "\n",
    "**`pd.get_dummies`:**\n",
    "- `pd.get_dummies` es una implementación específica de One Hot Encoding en la biblioteca `pandas`.\n",
    "- Es fácil de usar y se integra bien con los dataframes de `pandas`.\n",
    "- Permite un control sencillo sobre las columnas generadas con parámetros como `prefix` y `drop_first`.\n",
    "- `pd.get_dummies` no maneja automáticamente el ajuste de datos de entrenamiento y prueba como lo hace `OneHotEncoder` de `scikit-learn`.\n",
    "\n",
    "**`OneHotEncoder` de `scikit-learn`:**\n",
    "- `OneHotEncoder` de `scikit-learn` ofrece una funcionalidad más robusta y es parte del pipeline de preprocesamiento de `scikit-learn`.\n",
    "- Puede manejar datos nuevos (test data) que no estaban presentes en el conjunto de entrenamiento, permitiendo transformaciones consistentes.\n",
    "- Permite la opción de manejar automáticamente la rareza de categorías, ignorar categorías desconocidas, y más configuraciones avanzadas.\n"
   ]
  }
 ],
 "metadata": {
  "kernelspec": {
   "display_name": "base",
   "language": "python",
   "name": "python3"
  },
  "language_info": {
   "codemirror_mode": {
    "name": "ipython",
    "version": 3
   },
   "file_extension": ".py",
   "mimetype": "text/x-python",
   "name": "python",
   "nbconvert_exporter": "python",
   "pygments_lexer": "ipython3",
   "version": "3.11.7"
  }
 },
 "nbformat": 4,
 "nbformat_minor": 2
}
