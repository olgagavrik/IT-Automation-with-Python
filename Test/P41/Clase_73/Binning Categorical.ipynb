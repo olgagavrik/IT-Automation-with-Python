{
 "cells": [
  {
   "cell_type": "markdown",
   "metadata": {},
   "source": [
    "# Feature Engineering Examples: Binning Categorical Features\n",
    "\n",
    "In this notebook, we will explore various techniques for binning categorical features as described in the article [Feature Engineering Examples: Binning Categorical Features](https://towardsdatascience.com/feature-engineering-examples-binning-categorical-features-9f8d582455da). Binning categorical features involves grouping categories together, which can be useful for reducing the dimensionality of the data and improving the performance of machine learning models.\n",
    "\n",
    "We will cover the following techniques:\n",
    "1. Frequency Binning\n",
    "2. Binning by Similarity\n",
    "3. Custom Binning\n"
   ]
  },
  {
   "cell_type": "markdown",
   "metadata": {},
   "source": [
    "## 1. Frequency Binning\n",
    "\n",
    "Frequency binning involves grouping categories based on their frequency of occurrence in the dataset. This method can help to reduce the number of categories by combining less frequent ones into a single group.\n"
   ]
  },
  {
   "cell_type": "code",
   "execution_count": 1,
   "metadata": {},
   "outputs": [
    {
     "name": "stdout",
     "output_type": "stream",
     "text": [
      "  Category  Frequency Binned\n",
      "0        A         50      A\n",
      "1        B         45      B\n",
      "2        C         40      C\n",
      "3        D         35      D\n",
      "4        E         30      E\n",
      "5        F         25      F\n",
      "6        G         20      G\n",
      "7        H         15  Other\n",
      "8        I         10  Other\n",
      "9        J          5  Other\n"
     ]
    }
   ],
   "source": [
    "import pandas as pd\n",
    "\n",
    "# Sample data\n",
    "data = pd.DataFrame({\n",
    "    'Category': ['A', 'B', 'C', 'D', 'E', 'F', 'G', 'H', 'I', 'J'],\n",
    "    'Frequency': [50, 45, 40, 35, 30, 25, 20, 15, 10, 5]\n",
    "})\n",
    "\n",
    "# Frequency binning\n",
    "threshold = 20\n",
    "data['Binned'] = data['Category'].apply(lambda x: x if data[data['Category'] == x]['Frequency'].values[0] >= threshold else 'Other')\n",
    "\n",
    "# Display the result\n",
    "print(data)\n"
   ]
  },
  {
   "cell_type": "markdown",
   "metadata": {},
   "source": [
    "## 2. Binning by Similarity\n",
    "\n",
    "Binning by similarity involves grouping categories based on some similarity metric. This could be domain knowledge, semantic similarity, or statistical similarity.\n"
   ]
  },
  {
   "cell_type": "code",
   "execution_count": 2,
   "metadata": {},
   "outputs": [
    {
     "name": "stdout",
     "output_type": "stream",
     "text": [
      "  Category  Similarity   Binned\n",
      "0        A           1  Group 1\n",
      "1        B           1  Group 1\n",
      "2        C           2  Group 2\n",
      "3        D           2  Group 2\n",
      "4        E           3  Group 3\n",
      "5        F           3  Group 3\n",
      "6        G           4  Group 4\n",
      "7        H           4  Group 4\n"
     ]
    }
   ],
   "source": [
    "# Sample data with similarity scores (for simplicity, using numeric values to represent similarity)\n",
    "similarity_data = pd.DataFrame({\n",
    "    'Category': ['A', 'B', 'C', 'D', 'E', 'F', 'G', 'H'],\n",
    "    'Similarity': [1, 1, 2, 2, 3, 3, 4, 4]\n",
    "})\n",
    "\n",
    "# Binning by similarity\n",
    "similarity_data['Binned'] = similarity_data['Similarity'].apply(lambda x: f'Group {x}')\n",
    "\n",
    "# Display the result\n",
    "print(similarity_data)\n"
   ]
  },
  {
   "cell_type": "markdown",
   "metadata": {},
   "source": [
    "## 3. Custom Binning\n",
    "\n",
    "Custom binning allows you to define your own rules for grouping categories based on domain knowledge or specific requirements.\n"
   ]
  },
  {
   "cell_type": "code",
   "execution_count": 3,
   "metadata": {},
   "outputs": [
    {
     "name": "stdout",
     "output_type": "stream",
     "text": [
      "  Category  Value  Binned\n",
      "0     Cat1     10     Low\n",
      "1     Cat2     15  Medium\n",
      "2     Cat3     10     Low\n",
      "3     Cat4     20  Medium\n",
      "4     Cat5     25    High\n",
      "5     Cat6     20  Medium\n",
      "6     Cat7     30    High\n",
      "7     Cat8     35    High\n"
     ]
    }
   ],
   "source": [
    "# Sample data\n",
    "custom_data = pd.DataFrame({\n",
    "    'Category': ['Cat1', 'Cat2', 'Cat3', 'Cat4', 'Cat5', 'Cat6', 'Cat7', 'Cat8'],\n",
    "    'Value': [10, 15, 10, 20, 25, 20, 30, 35]\n",
    "})\n",
    "\n",
    "# Custom binning based on domain knowledge\n",
    "bins = {\n",
    "    'Low': ['Cat1', 'Cat3'],\n",
    "    'Medium': ['Cat2', 'Cat4', 'Cat6'],\n",
    "    'High': ['Cat5', 'Cat7', 'Cat8']\n",
    "}\n",
    "\n",
    "def custom_bin(category):\n",
    "    for key, value in bins.items():\n",
    "        if category in value:\n",
    "            return key\n",
    "    return 'Other'\n",
    "\n",
    "custom_data['Binned'] = custom_data['Category'].apply(custom_bin)\n",
    "\n",
    "# Display the result\n",
    "print(custom_data)\n"
   ]
  }
 ],
 "metadata": {
  "kernelspec": {
   "display_name": "base",
   "language": "python",
   "name": "python3"
  },
  "language_info": {
   "codemirror_mode": {
    "name": "ipython",
    "version": 3
   },
   "file_extension": ".py",
   "mimetype": "text/x-python",
   "name": "python",
   "nbconvert_exporter": "python",
   "pygments_lexer": "ipython3",
   "version": "3.11.7"
  }
 },
 "nbformat": 4,
 "nbformat_minor": 2
}
