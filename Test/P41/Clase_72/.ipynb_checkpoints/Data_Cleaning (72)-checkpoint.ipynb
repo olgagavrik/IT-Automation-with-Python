{
 "cells": [
  {
   "cell_type": "markdown",
   "id": "f426c096",
   "metadata": {
    "slideshow": {
     "slide_type": "slide"
    }
   },
   "source": [
    "# Limpieza y preparación de datos"
   ]
  },
  {
   "cell_type": "markdown",
   "id": "6acc7dbb-c345-4ce3-8141-94eb771833ee",
   "metadata": {},
   "source": [
    "# Inicio Clase 72"
   ]
  },
  {
   "cell_type": "markdown",
   "id": "35668dfe",
   "metadata": {
    "slideshow": {
     "slide_type": "slide"
    }
   },
   "source": [
    "## 2.1 Tratamiento de los datos que faltan"
   ]
  },
  {
   "cell_type": "markdown",
   "id": "bf93f8b5",
   "metadata": {},
   "source": [
    "### En muchas aplicaciones de análisis de datos es habitual que falten datos. Uno de los objetivos de pandas es hacer que trabajar con datos perdidos sea lo menos doloroso posible. Por ejemplo, todas las estadísticas descriptivas de los objetos de pandas excluyen por defecto los datos que faltan."
   ]
  },
  {
   "cell_type": "markdown",
   "id": "18d7e1f4",
   "metadata": {
    "slideshow": {
     "slide_type": "slide"
    }
   },
   "source": [
    "### La forma en que se representan los datos que faltan en los objetos de pandas es algo imperfecta, pero es suficiente para la mayoría de los usos en el mundo real. Para datos con dtype float64, pandas utiliza el valor de coma flotante NaN (`Not a Number`) para representar los datos que faltan."
   ]
  },
  {
   "cell_type": "markdown",
   "id": "dddd97d7",
   "metadata": {},
   "source": [
    "Lo llamamos valor centinela (sentinel value): cuando está presente, indica un valor ausente (o nulo):"
   ]
  },
  {
   "cell_type": "code",
   "execution_count": 1,
   "id": "2acec2f6",
   "metadata": {
    "slideshow": {
     "slide_type": "slide"
    }
   },
   "outputs": [],
   "source": [
    "import pandas as pd\n",
    "import numpy as np\n",
    "float_data = pd.Series([1.8, -3.5, np.nan, 0])"
   ]
  },
  {
   "cell_type": "code",
   "execution_count": 2,
   "id": "f8221898",
   "metadata": {},
   "outputs": [
    {
     "data": {
      "text/plain": [
       "0    1.8\n",
       "1   -3.5\n",
       "2    NaN\n",
       "3    0.0\n",
       "dtype: float64"
      ]
     },
     "execution_count": 2,
     "metadata": {},
     "output_type": "execute_result"
    }
   ],
   "source": [
    "float_data"
   ]
  },
  {
   "cell_type": "markdown",
   "id": "5d6e522e",
   "metadata": {
    "slideshow": {
     "slide_type": "slide"
    }
   },
   "source": [
    "El método `isna` nos da una Serie Booleana con `True` donde los valores son 'nulos':"
   ]
  },
  {
   "cell_type": "code",
   "execution_count": 3,
   "id": "8f642842",
   "metadata": {},
   "outputs": [
    {
     "data": {
      "text/plain": [
       "0    False\n",
       "1    False\n",
       "2     True\n",
       "3    False\n",
       "dtype: bool"
      ]
     },
     "execution_count": 3,
     "metadata": {},
     "output_type": "execute_result"
    }
   ],
   "source": [
    "float_data.isna()"
   ]
  },
  {
   "cell_type": "markdown",
   "id": "83ac8723",
   "metadata": {
    "slideshow": {
     "slide_type": "slide"
    }
   },
   "source": [
    "En pandas, hemos adoptado una convención utilizada en el lenguaje de programación R refiriéndonos a los datos perdidos como `NA`, que significa no disponible (`Not Available`). "
   ]
  },
  {
   "cell_type": "markdown",
   "id": "0f641407",
   "metadata": {
    "slideshow": {
     "slide_type": "slide"
    }
   },
   "source": [
    "El valor `None` (ausencia de un valor o un valor nulo) incorporado en Python también se trata como `NA`:"
   ]
  },
  {
   "cell_type": "code",
   "execution_count": 4,
   "id": "32fc5765",
   "metadata": {},
   "outputs": [
    {
     "data": {
      "text/plain": [
       "0    abcd\n",
       "1     NaN\n",
       "2    None\n",
       "3    dfeg\n",
       "dtype: object"
      ]
     },
     "execution_count": 4,
     "metadata": {},
     "output_type": "execute_result"
    }
   ],
   "source": [
    "string_data = pd.Series(['abcd', np.nan, None, 'dfeg'])\n",
    "\n",
    "string_data"
   ]
  },
  {
   "cell_type": "code",
   "execution_count": 5,
   "id": "86111bf1",
   "metadata": {
    "slideshow": {
     "slide_type": "slide"
    }
   },
   "outputs": [
    {
     "data": {
      "text/plain": [
       "0    False\n",
       "1     True\n",
       "2     True\n",
       "3    False\n",
       "dtype: bool"
      ]
     },
     "execution_count": 5,
     "metadata": {},
     "output_type": "execute_result"
    }
   ],
   "source": [
    "string_data.isna()"
   ]
  },
  {
   "cell_type": "markdown",
   "id": "fcae94e1-dc6f-4f9d-8d6e-cf45dec1ad94",
   "metadata": {},
   "source": [
    "El método `isna` nos da una Serie Booleana con `True` donde los valores son 'nulos':"
   ]
  },
  {
   "cell_type": "code",
   "execution_count": 6,
   "id": "c0aa58d8",
   "metadata": {
    "slideshow": {
     "slide_type": "slide"
    }
   },
   "outputs": [
    {
     "data": {
      "text/plain": [
       "0    1.0\n",
       "1    2.0\n",
       "2    NaN\n",
       "dtype: float64"
      ]
     },
     "execution_count": 6,
     "metadata": {},
     "output_type": "execute_result"
    }
   ],
   "source": [
    "float_data = pd.Series([1, 2, None], dtype='float64')\n",
    "float_data"
   ]
  },
  {
   "cell_type": "code",
   "execution_count": 7,
   "id": "a99d981f",
   "metadata": {
    "slideshow": {
     "slide_type": "slide"
    }
   },
   "outputs": [
    {
     "data": {
      "text/plain": [
       "0    False\n",
       "1    False\n",
       "2     True\n",
       "dtype: bool"
      ]
     },
     "execution_count": 7,
     "metadata": {},
     "output_type": "execute_result"
    }
   ],
   "source": [
    "float_data.isna()"
   ]
  },
  {
   "cell_type": "markdown",
   "id": "e512e237",
   "metadata": {
    "slideshow": {
     "slide_type": "slide"
    }
   },
   "source": [
    "**Otros metodos**\n",
    "\n",
    "\n",
    "`dropna()`: es un método utilizado para eliminar filas o columnas que contienen valores nulos (NaN).  \n",
    "\n",
    "`fillna`: Rellena los datos que faltan con algún valor o utilizando un método de interpolación como `ffill` o `bfill`.\n",
    "\n",
    "`ìsna()`: Devuelve valores booleanos que indican qué valores faltan `NA`. \n",
    "\n",
    "`notna`: Negación de `isna`, devuelve `True` para valores no `NA` y False para valores `NA`."
   ]
  },
  {
   "cell_type": "markdown",
   "id": "89d8f485",
   "metadata": {
    "slideshow": {
     "slide_type": "slide"
    }
   },
   "source": [
    "### Filtrar los datos que faltan"
   ]
  },
  {
   "cell_type": "markdown",
   "id": "4386985b",
   "metadata": {
    "slideshow": {
     "slide_type": "slide"
    }
   },
   "source": [
    "Hay algunas formas de filtrar los datos que faltan. Aunque siempre se tiene la opción de hacerlo a mano usando `pandas.isna()` y la indexación booleana, `dropna()` puede ser útil. En una Serie, devuelve la Serie con sólo los datos no nulos y los valores de índice:"
   ]
  },
  {
   "cell_type": "code",
   "execution_count": 8,
   "id": "fe62beda",
   "metadata": {},
   "outputs": [
    {
     "data": {
      "text/plain": [
       "0    1.0\n",
       "2    3.5\n",
       "4    7.0\n",
       "dtype: float64"
      ]
     },
     "execution_count": 8,
     "metadata": {},
     "output_type": "execute_result"
    }
   ],
   "source": [
    "data = pd.Series([1, np.nan, 3.5, np.nan, 7])\n",
    "data.dropna()"
   ]
  },
  {
   "cell_type": "markdown",
   "id": "9401408b",
   "metadata": {
    "slideshow": {
     "slide_type": "slide"
    }
   },
   "source": [
    "Esto es lo mismo que hacer:"
   ]
  },
  {
   "cell_type": "code",
   "execution_count": 9,
   "id": "247e345f",
   "metadata": {},
   "outputs": [
    {
     "data": {
      "text/plain": [
       "0    1.0\n",
       "2    3.5\n",
       "4    7.0\n",
       "dtype: float64"
      ]
     },
     "execution_count": 9,
     "metadata": {},
     "output_type": "execute_result"
    }
   ],
   "source": [
    "data[data.notna()]"
   ]
  },
  {
   "cell_type": "markdown",
   "id": "dfbee4cc",
   "metadata": {
    "slideshow": {
     "slide_type": "slide"
    }
   },
   "source": [
    "Con los objetos DataFrame, hay diferentes formas de eliminar los datos que faltan. Es posible que desee eliminar las filas o columnas que son todas NA, o sólo las filas o columnas que contienen cualquier NA en absoluto. `dropna()` por defecto elimina cualquier fila que contenga un valor perdido:"
   ]
  },
  {
   "cell_type": "code",
   "execution_count": 10,
   "id": "fd5a3341",
   "metadata": {},
   "outputs": [
    {
     "data": {
      "text/html": [
       "<div>\n",
       "<style scoped>\n",
       "    .dataframe tbody tr th:only-of-type {\n",
       "        vertical-align: middle;\n",
       "    }\n",
       "\n",
       "    .dataframe tbody tr th {\n",
       "        vertical-align: top;\n",
       "    }\n",
       "\n",
       "    .dataframe thead th {\n",
       "        text-align: right;\n",
       "    }\n",
       "</style>\n",
       "<table border=\"1\" class=\"dataframe\">\n",
       "  <thead>\n",
       "    <tr style=\"text-align: right;\">\n",
       "      <th></th>\n",
       "      <th>0</th>\n",
       "      <th>1</th>\n",
       "      <th>2</th>\n",
       "    </tr>\n",
       "  </thead>\n",
       "  <tbody>\n",
       "    <tr>\n",
       "      <th>0</th>\n",
       "      <td>1.0</td>\n",
       "      <td>6.5</td>\n",
       "      <td>3.0</td>\n",
       "    </tr>\n",
       "    <tr>\n",
       "      <th>1</th>\n",
       "      <td>1.0</td>\n",
       "      <td>NaN</td>\n",
       "      <td>NaN</td>\n",
       "    </tr>\n",
       "    <tr>\n",
       "      <th>2</th>\n",
       "      <td>NaN</td>\n",
       "      <td>NaN</td>\n",
       "      <td>NaN</td>\n",
       "    </tr>\n",
       "    <tr>\n",
       "      <th>3</th>\n",
       "      <td>NaN</td>\n",
       "      <td>6.5</td>\n",
       "      <td>3.0</td>\n",
       "    </tr>\n",
       "  </tbody>\n",
       "</table>\n",
       "</div>"
      ],
      "text/plain": [
       "     0    1    2\n",
       "0  1.0  6.5  3.0\n",
       "1  1.0  NaN  NaN\n",
       "2  NaN  NaN  NaN\n",
       "3  NaN  6.5  3.0"
      ]
     },
     "execution_count": 10,
     "metadata": {},
     "output_type": "execute_result"
    }
   ],
   "source": [
    "data = pd.DataFrame([[1., 6.5, 3.], [1., np.nan, np.nan],\n",
    "             [np.nan, np.nan, np.nan],\n",
    "             [np.nan, 6.5, 3.]])\n",
    "\n",
    "data"
   ]
  },
  {
   "cell_type": "code",
   "execution_count": 11,
   "id": "16d5374e",
   "metadata": {
    "slideshow": {
     "slide_type": "slide"
    }
   },
   "outputs": [
    {
     "data": {
      "text/html": [
       "<div>\n",
       "<style scoped>\n",
       "    .dataframe tbody tr th:only-of-type {\n",
       "        vertical-align: middle;\n",
       "    }\n",
       "\n",
       "    .dataframe tbody tr th {\n",
       "        vertical-align: top;\n",
       "    }\n",
       "\n",
       "    .dataframe thead th {\n",
       "        text-align: right;\n",
       "    }\n",
       "</style>\n",
       "<table border=\"1\" class=\"dataframe\">\n",
       "  <thead>\n",
       "    <tr style=\"text-align: right;\">\n",
       "      <th></th>\n",
       "      <th>0</th>\n",
       "      <th>1</th>\n",
       "      <th>2</th>\n",
       "    </tr>\n",
       "  </thead>\n",
       "  <tbody>\n",
       "    <tr>\n",
       "      <th>0</th>\n",
       "      <td>1.0</td>\n",
       "      <td>6.5</td>\n",
       "      <td>3.0</td>\n",
       "    </tr>\n",
       "  </tbody>\n",
       "</table>\n",
       "</div>"
      ],
      "text/plain": [
       "     0    1    2\n",
       "0  1.0  6.5  3.0"
      ]
     },
     "execution_count": 11,
     "metadata": {},
     "output_type": "execute_result"
    }
   ],
   "source": [
    " data.dropna()"
   ]
  },
  {
   "cell_type": "markdown",
   "id": "5f7baa20",
   "metadata": {
    "slideshow": {
     "slide_type": "slide"
    }
   },
   "source": [
    "Si se pasa `how=\"all\"`, sólo se eliminarán las filas que sean todas NA:"
   ]
  },
  {
   "cell_type": "code",
   "execution_count": 12,
   "id": "6375e3c0",
   "metadata": {},
   "outputs": [
    {
     "data": {
      "text/html": [
       "<div>\n",
       "<style scoped>\n",
       "    .dataframe tbody tr th:only-of-type {\n",
       "        vertical-align: middle;\n",
       "    }\n",
       "\n",
       "    .dataframe tbody tr th {\n",
       "        vertical-align: top;\n",
       "    }\n",
       "\n",
       "    .dataframe thead th {\n",
       "        text-align: right;\n",
       "    }\n",
       "</style>\n",
       "<table border=\"1\" class=\"dataframe\">\n",
       "  <thead>\n",
       "    <tr style=\"text-align: right;\">\n",
       "      <th></th>\n",
       "      <th>0</th>\n",
       "      <th>1</th>\n",
       "      <th>2</th>\n",
       "    </tr>\n",
       "  </thead>\n",
       "  <tbody>\n",
       "    <tr>\n",
       "      <th>0</th>\n",
       "      <td>1.0</td>\n",
       "      <td>6.5</td>\n",
       "      <td>3.0</td>\n",
       "    </tr>\n",
       "    <tr>\n",
       "      <th>1</th>\n",
       "      <td>1.0</td>\n",
       "      <td>NaN</td>\n",
       "      <td>NaN</td>\n",
       "    </tr>\n",
       "    <tr>\n",
       "      <th>3</th>\n",
       "      <td>NaN</td>\n",
       "      <td>6.5</td>\n",
       "      <td>3.0</td>\n",
       "    </tr>\n",
       "  </tbody>\n",
       "</table>\n",
       "</div>"
      ],
      "text/plain": [
       "     0    1    2\n",
       "0  1.0  6.5  3.0\n",
       "1  1.0  NaN  NaN\n",
       "3  NaN  6.5  3.0"
      ]
     },
     "execution_count": 12,
     "metadata": {},
     "output_type": "execute_result"
    }
   ],
   "source": [
    "data.dropna(how=\"all\")"
   ]
  },
  {
   "cell_type": "markdown",
   "id": "e7ad93a8",
   "metadata": {
    "slideshow": {
     "slide_type": "slide"
    }
   },
   "source": [
    "Tenga en cuenta que estas funciones devuelven nuevos objetos por defecto y no modifican el contenido del objeto original.\n",
    "\n",
    "Para soltar (drop) columnas del mismo modo, pase `axis=\"columns\"`:\n"
   ]
  },
  {
   "cell_type": "code",
   "execution_count": 13,
   "id": "805cac59",
   "metadata": {},
   "outputs": [
    {
     "data": {
      "text/html": [
       "<div>\n",
       "<style scoped>\n",
       "    .dataframe tbody tr th:only-of-type {\n",
       "        vertical-align: middle;\n",
       "    }\n",
       "\n",
       "    .dataframe tbody tr th {\n",
       "        vertical-align: top;\n",
       "    }\n",
       "\n",
       "    .dataframe thead th {\n",
       "        text-align: right;\n",
       "    }\n",
       "</style>\n",
       "<table border=\"1\" class=\"dataframe\">\n",
       "  <thead>\n",
       "    <tr style=\"text-align: right;\">\n",
       "      <th></th>\n",
       "      <th>0</th>\n",
       "      <th>1</th>\n",
       "      <th>2</th>\n",
       "      <th>4</th>\n",
       "    </tr>\n",
       "  </thead>\n",
       "  <tbody>\n",
       "    <tr>\n",
       "      <th>0</th>\n",
       "      <td>1.0</td>\n",
       "      <td>6.5</td>\n",
       "      <td>3.0</td>\n",
       "      <td>NaN</td>\n",
       "    </tr>\n",
       "    <tr>\n",
       "      <th>1</th>\n",
       "      <td>1.0</td>\n",
       "      <td>NaN</td>\n",
       "      <td>NaN</td>\n",
       "      <td>NaN</td>\n",
       "    </tr>\n",
       "    <tr>\n",
       "      <th>2</th>\n",
       "      <td>NaN</td>\n",
       "      <td>NaN</td>\n",
       "      <td>NaN</td>\n",
       "      <td>NaN</td>\n",
       "    </tr>\n",
       "    <tr>\n",
       "      <th>3</th>\n",
       "      <td>NaN</td>\n",
       "      <td>6.5</td>\n",
       "      <td>3.0</td>\n",
       "      <td>NaN</td>\n",
       "    </tr>\n",
       "  </tbody>\n",
       "</table>\n",
       "</div>"
      ],
      "text/plain": [
       "     0    1    2   4\n",
       "0  1.0  6.5  3.0 NaN\n",
       "1  1.0  NaN  NaN NaN\n",
       "2  NaN  NaN  NaN NaN\n",
       "3  NaN  6.5  3.0 NaN"
      ]
     },
     "execution_count": 13,
     "metadata": {},
     "output_type": "execute_result"
    }
   ],
   "source": [
    "data[4] = np.nan\n",
    "data"
   ]
  },
  {
   "cell_type": "code",
   "execution_count": 14,
   "id": "60dc7053",
   "metadata": {
    "slideshow": {
     "slide_type": "slide"
    }
   },
   "outputs": [
    {
     "data": {
      "text/html": [
       "<div>\n",
       "<style scoped>\n",
       "    .dataframe tbody tr th:only-of-type {\n",
       "        vertical-align: middle;\n",
       "    }\n",
       "\n",
       "    .dataframe tbody tr th {\n",
       "        vertical-align: top;\n",
       "    }\n",
       "\n",
       "    .dataframe thead th {\n",
       "        text-align: right;\n",
       "    }\n",
       "</style>\n",
       "<table border=\"1\" class=\"dataframe\">\n",
       "  <thead>\n",
       "    <tr style=\"text-align: right;\">\n",
       "      <th></th>\n",
       "      <th>0</th>\n",
       "      <th>1</th>\n",
       "      <th>2</th>\n",
       "    </tr>\n",
       "  </thead>\n",
       "  <tbody>\n",
       "    <tr>\n",
       "      <th>0</th>\n",
       "      <td>1.0</td>\n",
       "      <td>6.5</td>\n",
       "      <td>3.0</td>\n",
       "    </tr>\n",
       "    <tr>\n",
       "      <th>1</th>\n",
       "      <td>1.0</td>\n",
       "      <td>NaN</td>\n",
       "      <td>NaN</td>\n",
       "    </tr>\n",
       "    <tr>\n",
       "      <th>2</th>\n",
       "      <td>NaN</td>\n",
       "      <td>NaN</td>\n",
       "      <td>NaN</td>\n",
       "    </tr>\n",
       "    <tr>\n",
       "      <th>3</th>\n",
       "      <td>NaN</td>\n",
       "      <td>6.5</td>\n",
       "      <td>3.0</td>\n",
       "    </tr>\n",
       "  </tbody>\n",
       "</table>\n",
       "</div>"
      ],
      "text/plain": [
       "     0    1    2\n",
       "0  1.0  6.5  3.0\n",
       "1  1.0  NaN  NaN\n",
       "2  NaN  NaN  NaN\n",
       "3  NaN  6.5  3.0"
      ]
     },
     "execution_count": 14,
     "metadata": {},
     "output_type": "execute_result"
    }
   ],
   "source": [
    "data.dropna(axis=\"columns\", how=\"all\")"
   ]
  },
  {
   "cell_type": "markdown",
   "id": "5e9af624",
   "metadata": {
    "slideshow": {
     "slide_type": "slide"
    }
   },
   "source": [
    "Supongamos que desea conservar sólo las filas que contengan como máximo un determinado número de observaciones omitidas.  \n",
    "Puede indicarlo con el argumento `thresh`, el cual especifica el número mínimo de valores no nulos que deben estar presentes en una fila o columna para que no sea eliminada.  \n",
    "Si una fila o columna no cumple con este umbral mínimo de valores no nulos, será eliminada del DataFrame."
   ]
  },
  {
   "cell_type": "code",
   "execution_count": 15,
   "id": "50c52525",
   "metadata": {
    "slideshow": {
     "slide_type": "-"
    }
   },
   "outputs": [],
   "source": [
    " df = pd.DataFrame(np.random.standard_normal((7, 3)))"
   ]
  },
  {
   "cell_type": "code",
   "execution_count": 16,
   "id": "35c692d5",
   "metadata": {
    "slideshow": {
     "slide_type": "slide"
    }
   },
   "outputs": [
    {
     "data": {
      "text/html": [
       "<div>\n",
       "<style scoped>\n",
       "    .dataframe tbody tr th:only-of-type {\n",
       "        vertical-align: middle;\n",
       "    }\n",
       "\n",
       "    .dataframe tbody tr th {\n",
       "        vertical-align: top;\n",
       "    }\n",
       "\n",
       "    .dataframe thead th {\n",
       "        text-align: right;\n",
       "    }\n",
       "</style>\n",
       "<table border=\"1\" class=\"dataframe\">\n",
       "  <thead>\n",
       "    <tr style=\"text-align: right;\">\n",
       "      <th></th>\n",
       "      <th>0</th>\n",
       "      <th>1</th>\n",
       "      <th>2</th>\n",
       "    </tr>\n",
       "  </thead>\n",
       "  <tbody>\n",
       "    <tr>\n",
       "      <th>0</th>\n",
       "      <td>-0.350195</td>\n",
       "      <td>0.184925</td>\n",
       "      <td>-0.666579</td>\n",
       "    </tr>\n",
       "    <tr>\n",
       "      <th>1</th>\n",
       "      <td>-1.603950</td>\n",
       "      <td>0.516483</td>\n",
       "      <td>-0.190964</td>\n",
       "    </tr>\n",
       "    <tr>\n",
       "      <th>2</th>\n",
       "      <td>0.064977</td>\n",
       "      <td>0.140970</td>\n",
       "      <td>-0.807149</td>\n",
       "    </tr>\n",
       "    <tr>\n",
       "      <th>3</th>\n",
       "      <td>0.205999</td>\n",
       "      <td>0.668086</td>\n",
       "      <td>0.333218</td>\n",
       "    </tr>\n",
       "    <tr>\n",
       "      <th>4</th>\n",
       "      <td>0.193293</td>\n",
       "      <td>-1.670206</td>\n",
       "      <td>-0.590758</td>\n",
       "    </tr>\n",
       "    <tr>\n",
       "      <th>5</th>\n",
       "      <td>0.496036</td>\n",
       "      <td>-0.706883</td>\n",
       "      <td>0.392845</td>\n",
       "    </tr>\n",
       "    <tr>\n",
       "      <th>6</th>\n",
       "      <td>1.310755</td>\n",
       "      <td>1.240568</td>\n",
       "      <td>-1.256120</td>\n",
       "    </tr>\n",
       "  </tbody>\n",
       "</table>\n",
       "</div>"
      ],
      "text/plain": [
       "          0         1         2\n",
       "0 -0.350195  0.184925 -0.666579\n",
       "1 -1.603950  0.516483 -0.190964\n",
       "2  0.064977  0.140970 -0.807149\n",
       "3  0.205999  0.668086  0.333218\n",
       "4  0.193293 -1.670206 -0.590758\n",
       "5  0.496036 -0.706883  0.392845\n",
       "6  1.310755  1.240568 -1.256120"
      ]
     },
     "execution_count": 16,
     "metadata": {},
     "output_type": "execute_result"
    }
   ],
   "source": [
    "df"
   ]
  },
  {
   "cell_type": "code",
   "execution_count": 17,
   "id": "40eb8b4c",
   "metadata": {
    "slideshow": {
     "slide_type": "slide"
    }
   },
   "outputs": [],
   "source": [
    "df.iloc[:4, 1] = np.nan\n",
    "df.iloc[:2, 2] = np.nan"
   ]
  },
  {
   "cell_type": "code",
   "execution_count": 18,
   "id": "fe53aa86",
   "metadata": {},
   "outputs": [
    {
     "data": {
      "text/html": [
       "<div>\n",
       "<style scoped>\n",
       "    .dataframe tbody tr th:only-of-type {\n",
       "        vertical-align: middle;\n",
       "    }\n",
       "\n",
       "    .dataframe tbody tr th {\n",
       "        vertical-align: top;\n",
       "    }\n",
       "\n",
       "    .dataframe thead th {\n",
       "        text-align: right;\n",
       "    }\n",
       "</style>\n",
       "<table border=\"1\" class=\"dataframe\">\n",
       "  <thead>\n",
       "    <tr style=\"text-align: right;\">\n",
       "      <th></th>\n",
       "      <th>0</th>\n",
       "      <th>1</th>\n",
       "      <th>2</th>\n",
       "    </tr>\n",
       "  </thead>\n",
       "  <tbody>\n",
       "    <tr>\n",
       "      <th>0</th>\n",
       "      <td>-0.350195</td>\n",
       "      <td>NaN</td>\n",
       "      <td>NaN</td>\n",
       "    </tr>\n",
       "    <tr>\n",
       "      <th>1</th>\n",
       "      <td>-1.603950</td>\n",
       "      <td>NaN</td>\n",
       "      <td>NaN</td>\n",
       "    </tr>\n",
       "    <tr>\n",
       "      <th>2</th>\n",
       "      <td>0.064977</td>\n",
       "      <td>NaN</td>\n",
       "      <td>-0.807149</td>\n",
       "    </tr>\n",
       "    <tr>\n",
       "      <th>3</th>\n",
       "      <td>0.205999</td>\n",
       "      <td>NaN</td>\n",
       "      <td>0.333218</td>\n",
       "    </tr>\n",
       "    <tr>\n",
       "      <th>4</th>\n",
       "      <td>0.193293</td>\n",
       "      <td>-1.670206</td>\n",
       "      <td>-0.590758</td>\n",
       "    </tr>\n",
       "    <tr>\n",
       "      <th>5</th>\n",
       "      <td>0.496036</td>\n",
       "      <td>-0.706883</td>\n",
       "      <td>0.392845</td>\n",
       "    </tr>\n",
       "    <tr>\n",
       "      <th>6</th>\n",
       "      <td>1.310755</td>\n",
       "      <td>1.240568</td>\n",
       "      <td>-1.256120</td>\n",
       "    </tr>\n",
       "  </tbody>\n",
       "</table>\n",
       "</div>"
      ],
      "text/plain": [
       "          0         1         2\n",
       "0 -0.350195       NaN       NaN\n",
       "1 -1.603950       NaN       NaN\n",
       "2  0.064977       NaN -0.807149\n",
       "3  0.205999       NaN  0.333218\n",
       "4  0.193293 -1.670206 -0.590758\n",
       "5  0.496036 -0.706883  0.392845\n",
       "6  1.310755  1.240568 -1.256120"
      ]
     },
     "execution_count": 18,
     "metadata": {},
     "output_type": "execute_result"
    }
   ],
   "source": [
    "df"
   ]
  },
  {
   "cell_type": "code",
   "execution_count": 19,
   "id": "7132de74",
   "metadata": {
    "slideshow": {
     "slide_type": "slide"
    }
   },
   "outputs": [
    {
     "data": {
      "text/html": [
       "<div>\n",
       "<style scoped>\n",
       "    .dataframe tbody tr th:only-of-type {\n",
       "        vertical-align: middle;\n",
       "    }\n",
       "\n",
       "    .dataframe tbody tr th {\n",
       "        vertical-align: top;\n",
       "    }\n",
       "\n",
       "    .dataframe thead th {\n",
       "        text-align: right;\n",
       "    }\n",
       "</style>\n",
       "<table border=\"1\" class=\"dataframe\">\n",
       "  <thead>\n",
       "    <tr style=\"text-align: right;\">\n",
       "      <th></th>\n",
       "      <th>0</th>\n",
       "      <th>1</th>\n",
       "      <th>2</th>\n",
       "    </tr>\n",
       "  </thead>\n",
       "  <tbody>\n",
       "    <tr>\n",
       "      <th>4</th>\n",
       "      <td>0.193293</td>\n",
       "      <td>-1.670206</td>\n",
       "      <td>-0.590758</td>\n",
       "    </tr>\n",
       "    <tr>\n",
       "      <th>5</th>\n",
       "      <td>0.496036</td>\n",
       "      <td>-0.706883</td>\n",
       "      <td>0.392845</td>\n",
       "    </tr>\n",
       "    <tr>\n",
       "      <th>6</th>\n",
       "      <td>1.310755</td>\n",
       "      <td>1.240568</td>\n",
       "      <td>-1.256120</td>\n",
       "    </tr>\n",
       "  </tbody>\n",
       "</table>\n",
       "</div>"
      ],
      "text/plain": [
       "          0         1         2\n",
       "4  0.193293 -1.670206 -0.590758\n",
       "5  0.496036 -0.706883  0.392845\n",
       "6  1.310755  1.240568 -1.256120"
      ]
     },
     "execution_count": 19,
     "metadata": {},
     "output_type": "execute_result"
    }
   ],
   "source": [
    "df.dropna()"
   ]
  },
  {
   "cell_type": "code",
   "execution_count": 20,
   "id": "b3b0f144",
   "metadata": {
    "slideshow": {
     "slide_type": "slide"
    }
   },
   "outputs": [
    {
     "data": {
      "text/html": [
       "<div>\n",
       "<style scoped>\n",
       "    .dataframe tbody tr th:only-of-type {\n",
       "        vertical-align: middle;\n",
       "    }\n",
       "\n",
       "    .dataframe tbody tr th {\n",
       "        vertical-align: top;\n",
       "    }\n",
       "\n",
       "    .dataframe thead th {\n",
       "        text-align: right;\n",
       "    }\n",
       "</style>\n",
       "<table border=\"1\" class=\"dataframe\">\n",
       "  <thead>\n",
       "    <tr style=\"text-align: right;\">\n",
       "      <th></th>\n",
       "      <th>0</th>\n",
       "      <th>1</th>\n",
       "      <th>2</th>\n",
       "    </tr>\n",
       "  </thead>\n",
       "  <tbody>\n",
       "    <tr>\n",
       "      <th>2</th>\n",
       "      <td>0.064977</td>\n",
       "      <td>NaN</td>\n",
       "      <td>-0.807149</td>\n",
       "    </tr>\n",
       "    <tr>\n",
       "      <th>3</th>\n",
       "      <td>0.205999</td>\n",
       "      <td>NaN</td>\n",
       "      <td>0.333218</td>\n",
       "    </tr>\n",
       "    <tr>\n",
       "      <th>4</th>\n",
       "      <td>0.193293</td>\n",
       "      <td>-1.670206</td>\n",
       "      <td>-0.590758</td>\n",
       "    </tr>\n",
       "    <tr>\n",
       "      <th>5</th>\n",
       "      <td>0.496036</td>\n",
       "      <td>-0.706883</td>\n",
       "      <td>0.392845</td>\n",
       "    </tr>\n",
       "    <tr>\n",
       "      <th>6</th>\n",
       "      <td>1.310755</td>\n",
       "      <td>1.240568</td>\n",
       "      <td>-1.256120</td>\n",
       "    </tr>\n",
       "  </tbody>\n",
       "</table>\n",
       "</div>"
      ],
      "text/plain": [
       "          0         1         2\n",
       "2  0.064977       NaN -0.807149\n",
       "3  0.205999       NaN  0.333218\n",
       "4  0.193293 -1.670206 -0.590758\n",
       "5  0.496036 -0.706883  0.392845\n",
       "6  1.310755  1.240568 -1.256120"
      ]
     },
     "execution_count": 20,
     "metadata": {},
     "output_type": "execute_result"
    }
   ],
   "source": [
    "df.dropna(thresh=2)"
   ]
  },
  {
   "cell_type": "markdown",
   "id": "dddf0605",
   "metadata": {
    "slideshow": {
     "slide_type": "slide"
    }
   },
   "source": [
    "### Rellenar los datos que faltan"
   ]
  },
  {
   "cell_type": "markdown",
   "id": "fa10ace8",
   "metadata": {},
   "source": [
    "En lugar de filtrar los datos que faltan (y potencialmente descartar otros datos junto con ellos), es posible que desee rellenar los \"huecos\" de varias maneras. Para la mayoría de los propósitos, el método `fillna()` es la función a utilizar. Llamar a `fillna()` con una constante sustituye los valores que faltan por ese valor:"
   ]
  },
  {
   "cell_type": "code",
   "execution_count": 21,
   "id": "7e08146e-138f-4b2f-8f8a-643eb59ea827",
   "metadata": {},
   "outputs": [
    {
     "data": {
      "text/html": [
       "<div>\n",
       "<style scoped>\n",
       "    .dataframe tbody tr th:only-of-type {\n",
       "        vertical-align: middle;\n",
       "    }\n",
       "\n",
       "    .dataframe tbody tr th {\n",
       "        vertical-align: top;\n",
       "    }\n",
       "\n",
       "    .dataframe thead th {\n",
       "        text-align: right;\n",
       "    }\n",
       "</style>\n",
       "<table border=\"1\" class=\"dataframe\">\n",
       "  <thead>\n",
       "    <tr style=\"text-align: right;\">\n",
       "      <th></th>\n",
       "      <th>0</th>\n",
       "      <th>1</th>\n",
       "      <th>2</th>\n",
       "    </tr>\n",
       "  </thead>\n",
       "  <tbody>\n",
       "    <tr>\n",
       "      <th>0</th>\n",
       "      <td>-0.350195</td>\n",
       "      <td>NaN</td>\n",
       "      <td>NaN</td>\n",
       "    </tr>\n",
       "    <tr>\n",
       "      <th>1</th>\n",
       "      <td>-1.603950</td>\n",
       "      <td>NaN</td>\n",
       "      <td>NaN</td>\n",
       "    </tr>\n",
       "    <tr>\n",
       "      <th>2</th>\n",
       "      <td>0.064977</td>\n",
       "      <td>NaN</td>\n",
       "      <td>-0.807149</td>\n",
       "    </tr>\n",
       "    <tr>\n",
       "      <th>3</th>\n",
       "      <td>0.205999</td>\n",
       "      <td>NaN</td>\n",
       "      <td>0.333218</td>\n",
       "    </tr>\n",
       "    <tr>\n",
       "      <th>4</th>\n",
       "      <td>0.193293</td>\n",
       "      <td>-1.670206</td>\n",
       "      <td>-0.590758</td>\n",
       "    </tr>\n",
       "    <tr>\n",
       "      <th>5</th>\n",
       "      <td>0.496036</td>\n",
       "      <td>-0.706883</td>\n",
       "      <td>0.392845</td>\n",
       "    </tr>\n",
       "    <tr>\n",
       "      <th>6</th>\n",
       "      <td>1.310755</td>\n",
       "      <td>1.240568</td>\n",
       "      <td>-1.256120</td>\n",
       "    </tr>\n",
       "  </tbody>\n",
       "</table>\n",
       "</div>"
      ],
      "text/plain": [
       "          0         1         2\n",
       "0 -0.350195       NaN       NaN\n",
       "1 -1.603950       NaN       NaN\n",
       "2  0.064977       NaN -0.807149\n",
       "3  0.205999       NaN  0.333218\n",
       "4  0.193293 -1.670206 -0.590758\n",
       "5  0.496036 -0.706883  0.392845\n",
       "6  1.310755  1.240568 -1.256120"
      ]
     },
     "execution_count": 21,
     "metadata": {},
     "output_type": "execute_result"
    }
   ],
   "source": [
    "df"
   ]
  },
  {
   "cell_type": "code",
   "execution_count": 22,
   "id": "b2966f30",
   "metadata": {
    "slideshow": {
     "slide_type": "slide"
    }
   },
   "outputs": [
    {
     "data": {
      "text/html": [
       "<div>\n",
       "<style scoped>\n",
       "    .dataframe tbody tr th:only-of-type {\n",
       "        vertical-align: middle;\n",
       "    }\n",
       "\n",
       "    .dataframe tbody tr th {\n",
       "        vertical-align: top;\n",
       "    }\n",
       "\n",
       "    .dataframe thead th {\n",
       "        text-align: right;\n",
       "    }\n",
       "</style>\n",
       "<table border=\"1\" class=\"dataframe\">\n",
       "  <thead>\n",
       "    <tr style=\"text-align: right;\">\n",
       "      <th></th>\n",
       "      <th>0</th>\n",
       "      <th>1</th>\n",
       "      <th>2</th>\n",
       "    </tr>\n",
       "  </thead>\n",
       "  <tbody>\n",
       "    <tr>\n",
       "      <th>0</th>\n",
       "      <td>-0.350195</td>\n",
       "      <td>0.000000</td>\n",
       "      <td>0.000000</td>\n",
       "    </tr>\n",
       "    <tr>\n",
       "      <th>1</th>\n",
       "      <td>-1.603950</td>\n",
       "      <td>0.000000</td>\n",
       "      <td>0.000000</td>\n",
       "    </tr>\n",
       "    <tr>\n",
       "      <th>2</th>\n",
       "      <td>0.064977</td>\n",
       "      <td>0.000000</td>\n",
       "      <td>-0.807149</td>\n",
       "    </tr>\n",
       "    <tr>\n",
       "      <th>3</th>\n",
       "      <td>0.205999</td>\n",
       "      <td>0.000000</td>\n",
       "      <td>0.333218</td>\n",
       "    </tr>\n",
       "    <tr>\n",
       "      <th>4</th>\n",
       "      <td>0.193293</td>\n",
       "      <td>-1.670206</td>\n",
       "      <td>-0.590758</td>\n",
       "    </tr>\n",
       "    <tr>\n",
       "      <th>5</th>\n",
       "      <td>0.496036</td>\n",
       "      <td>-0.706883</td>\n",
       "      <td>0.392845</td>\n",
       "    </tr>\n",
       "    <tr>\n",
       "      <th>6</th>\n",
       "      <td>1.310755</td>\n",
       "      <td>1.240568</td>\n",
       "      <td>-1.256120</td>\n",
       "    </tr>\n",
       "  </tbody>\n",
       "</table>\n",
       "</div>"
      ],
      "text/plain": [
       "          0         1         2\n",
       "0 -0.350195  0.000000  0.000000\n",
       "1 -1.603950  0.000000  0.000000\n",
       "2  0.064977  0.000000 -0.807149\n",
       "3  0.205999  0.000000  0.333218\n",
       "4  0.193293 -1.670206 -0.590758\n",
       "5  0.496036 -0.706883  0.392845\n",
       "6  1.310755  1.240568 -1.256120"
      ]
     },
     "execution_count": 22,
     "metadata": {},
     "output_type": "execute_result"
    }
   ],
   "source": [
    "df.fillna(0)"
   ]
  },
  {
   "cell_type": "markdown",
   "id": "23202be6",
   "metadata": {
    "slideshow": {
     "slide_type": "slide"
    }
   },
   "source": [
    "Llamando a `fillna()` con un diccionario, puede utilizar un valor de relleno diferente para cada columna:"
   ]
  },
  {
   "cell_type": "code",
   "execution_count": 23,
   "id": "e52707d5",
   "metadata": {},
   "outputs": [
    {
     "data": {
      "text/html": [
       "<div>\n",
       "<style scoped>\n",
       "    .dataframe tbody tr th:only-of-type {\n",
       "        vertical-align: middle;\n",
       "    }\n",
       "\n",
       "    .dataframe tbody tr th {\n",
       "        vertical-align: top;\n",
       "    }\n",
       "\n",
       "    .dataframe thead th {\n",
       "        text-align: right;\n",
       "    }\n",
       "</style>\n",
       "<table border=\"1\" class=\"dataframe\">\n",
       "  <thead>\n",
       "    <tr style=\"text-align: right;\">\n",
       "      <th></th>\n",
       "      <th>0</th>\n",
       "      <th>1</th>\n",
       "      <th>2</th>\n",
       "    </tr>\n",
       "  </thead>\n",
       "  <tbody>\n",
       "    <tr>\n",
       "      <th>0</th>\n",
       "      <td>-0.350195</td>\n",
       "      <td>0.500000</td>\n",
       "      <td>0.000000</td>\n",
       "    </tr>\n",
       "    <tr>\n",
       "      <th>1</th>\n",
       "      <td>-1.603950</td>\n",
       "      <td>0.500000</td>\n",
       "      <td>0.000000</td>\n",
       "    </tr>\n",
       "    <tr>\n",
       "      <th>2</th>\n",
       "      <td>0.064977</td>\n",
       "      <td>0.500000</td>\n",
       "      <td>-0.807149</td>\n",
       "    </tr>\n",
       "    <tr>\n",
       "      <th>3</th>\n",
       "      <td>0.205999</td>\n",
       "      <td>0.500000</td>\n",
       "      <td>0.333218</td>\n",
       "    </tr>\n",
       "    <tr>\n",
       "      <th>4</th>\n",
       "      <td>0.193293</td>\n",
       "      <td>-1.670206</td>\n",
       "      <td>-0.590758</td>\n",
       "    </tr>\n",
       "    <tr>\n",
       "      <th>5</th>\n",
       "      <td>0.496036</td>\n",
       "      <td>-0.706883</td>\n",
       "      <td>0.392845</td>\n",
       "    </tr>\n",
       "    <tr>\n",
       "      <th>6</th>\n",
       "      <td>1.310755</td>\n",
       "      <td>1.240568</td>\n",
       "      <td>-1.256120</td>\n",
       "    </tr>\n",
       "  </tbody>\n",
       "</table>\n",
       "</div>"
      ],
      "text/plain": [
       "          0         1         2\n",
       "0 -0.350195  0.500000  0.000000\n",
       "1 -1.603950  0.500000  0.000000\n",
       "2  0.064977  0.500000 -0.807149\n",
       "3  0.205999  0.500000  0.333218\n",
       "4  0.193293 -1.670206 -0.590758\n",
       "5  0.496036 -0.706883  0.392845\n",
       "6  1.310755  1.240568 -1.256120"
      ]
     },
     "execution_count": 23,
     "metadata": {},
     "output_type": "execute_result"
    }
   ],
   "source": [
    "df.fillna({1: 0.5, 2: 0})"
   ]
  },
  {
   "cell_type": "markdown",
   "id": "48fa124e",
   "metadata": {
    "slideshow": {
     "slide_type": "slide"
    }
   },
   "source": [
    "Los mismos métodos de interpolación disponibles para la reindexación pueden utilizarse con `fillna()`:"
   ]
  },
  {
   "cell_type": "code",
   "execution_count": 24,
   "id": "d4762cdd",
   "metadata": {},
   "outputs": [],
   "source": [
    "df = pd.DataFrame(np.random.standard_normal((6, 3)))"
   ]
  },
  {
   "cell_type": "code",
   "execution_count": 25,
   "id": "24d67c3a",
   "metadata": {
    "slideshow": {
     "slide_type": "slide"
    }
   },
   "outputs": [
    {
     "data": {
      "text/html": [
       "<div>\n",
       "<style scoped>\n",
       "    .dataframe tbody tr th:only-of-type {\n",
       "        vertical-align: middle;\n",
       "    }\n",
       "\n",
       "    .dataframe tbody tr th {\n",
       "        vertical-align: top;\n",
       "    }\n",
       "\n",
       "    .dataframe thead th {\n",
       "        text-align: right;\n",
       "    }\n",
       "</style>\n",
       "<table border=\"1\" class=\"dataframe\">\n",
       "  <thead>\n",
       "    <tr style=\"text-align: right;\">\n",
       "      <th></th>\n",
       "      <th>0</th>\n",
       "      <th>1</th>\n",
       "      <th>2</th>\n",
       "    </tr>\n",
       "  </thead>\n",
       "  <tbody>\n",
       "    <tr>\n",
       "      <th>0</th>\n",
       "      <td>-1.722007</td>\n",
       "      <td>-1.895035</td>\n",
       "      <td>-0.090413</td>\n",
       "    </tr>\n",
       "    <tr>\n",
       "      <th>1</th>\n",
       "      <td>-1.634339</td>\n",
       "      <td>-1.782433</td>\n",
       "      <td>-0.950678</td>\n",
       "    </tr>\n",
       "    <tr>\n",
       "      <th>2</th>\n",
       "      <td>-1.004879</td>\n",
       "      <td>NaN</td>\n",
       "      <td>0.732767</td>\n",
       "    </tr>\n",
       "    <tr>\n",
       "      <th>3</th>\n",
       "      <td>1.611951</td>\n",
       "      <td>NaN</td>\n",
       "      <td>-0.385819</td>\n",
       "    </tr>\n",
       "    <tr>\n",
       "      <th>4</th>\n",
       "      <td>2.559992</td>\n",
       "      <td>NaN</td>\n",
       "      <td>NaN</td>\n",
       "    </tr>\n",
       "    <tr>\n",
       "      <th>5</th>\n",
       "      <td>0.803963</td>\n",
       "      <td>NaN</td>\n",
       "      <td>NaN</td>\n",
       "    </tr>\n",
       "  </tbody>\n",
       "</table>\n",
       "</div>"
      ],
      "text/plain": [
       "          0         1         2\n",
       "0 -1.722007 -1.895035 -0.090413\n",
       "1 -1.634339 -1.782433 -0.950678\n",
       "2 -1.004879       NaN  0.732767\n",
       "3  1.611951       NaN -0.385819\n",
       "4  2.559992       NaN       NaN\n",
       "5  0.803963       NaN       NaN"
      ]
     },
     "execution_count": 25,
     "metadata": {},
     "output_type": "execute_result"
    }
   ],
   "source": [
    "df.iloc[2:, 1] = np.nan\n",
    "df.iloc[4:, 2] = np.nan\n",
    "df"
   ]
  },
  {
   "cell_type": "code",
   "execution_count": 26,
   "id": "70734613",
   "metadata": {
    "slideshow": {
     "slide_type": "slide"
    }
   },
   "outputs": [
    {
     "name": "stderr",
     "output_type": "stream",
     "text": [
      "C:\\Users\\juanj\\AppData\\Local\\Temp\\ipykernel_24584\\4205080046.py:1: FutureWarning: DataFrame.fillna with 'method' is deprecated and will raise in a future version. Use obj.ffill() or obj.bfill() instead.\n",
      "  df.fillna(method=\"ffill\")\n"
     ]
    },
    {
     "data": {
      "text/html": [
       "<div>\n",
       "<style scoped>\n",
       "    .dataframe tbody tr th:only-of-type {\n",
       "        vertical-align: middle;\n",
       "    }\n",
       "\n",
       "    .dataframe tbody tr th {\n",
       "        vertical-align: top;\n",
       "    }\n",
       "\n",
       "    .dataframe thead th {\n",
       "        text-align: right;\n",
       "    }\n",
       "</style>\n",
       "<table border=\"1\" class=\"dataframe\">\n",
       "  <thead>\n",
       "    <tr style=\"text-align: right;\">\n",
       "      <th></th>\n",
       "      <th>0</th>\n",
       "      <th>1</th>\n",
       "      <th>2</th>\n",
       "    </tr>\n",
       "  </thead>\n",
       "  <tbody>\n",
       "    <tr>\n",
       "      <th>0</th>\n",
       "      <td>-1.722007</td>\n",
       "      <td>-1.895035</td>\n",
       "      <td>-0.090413</td>\n",
       "    </tr>\n",
       "    <tr>\n",
       "      <th>1</th>\n",
       "      <td>-1.634339</td>\n",
       "      <td>-1.782433</td>\n",
       "      <td>-0.950678</td>\n",
       "    </tr>\n",
       "    <tr>\n",
       "      <th>2</th>\n",
       "      <td>-1.004879</td>\n",
       "      <td>-1.782433</td>\n",
       "      <td>0.732767</td>\n",
       "    </tr>\n",
       "    <tr>\n",
       "      <th>3</th>\n",
       "      <td>1.611951</td>\n",
       "      <td>-1.782433</td>\n",
       "      <td>-0.385819</td>\n",
       "    </tr>\n",
       "    <tr>\n",
       "      <th>4</th>\n",
       "      <td>2.559992</td>\n",
       "      <td>-1.782433</td>\n",
       "      <td>-0.385819</td>\n",
       "    </tr>\n",
       "    <tr>\n",
       "      <th>5</th>\n",
       "      <td>0.803963</td>\n",
       "      <td>-1.782433</td>\n",
       "      <td>-0.385819</td>\n",
       "    </tr>\n",
       "  </tbody>\n",
       "</table>\n",
       "</div>"
      ],
      "text/plain": [
       "          0         1         2\n",
       "0 -1.722007 -1.895035 -0.090413\n",
       "1 -1.634339 -1.782433 -0.950678\n",
       "2 -1.004879 -1.782433  0.732767\n",
       "3  1.611951 -1.782433 -0.385819\n",
       "4  2.559992 -1.782433 -0.385819\n",
       "5  0.803963 -1.782433 -0.385819"
      ]
     },
     "execution_count": 26,
     "metadata": {},
     "output_type": "execute_result"
    }
   ],
   "source": [
    " df.fillna(method=\"ffill\")"
   ]
  },
  {
   "cell_type": "code",
   "execution_count": 27,
   "id": "0af4c4fc",
   "metadata": {
    "slideshow": {
     "slide_type": "slide"
    }
   },
   "outputs": [
    {
     "name": "stderr",
     "output_type": "stream",
     "text": [
      "C:\\Users\\juanj\\AppData\\Local\\Temp\\ipykernel_24584\\1627181726.py:1: FutureWarning: DataFrame.fillna with 'method' is deprecated and will raise in a future version. Use obj.ffill() or obj.bfill() instead.\n",
      "  df.fillna(method=\"ffill\", limit=2)\n"
     ]
    },
    {
     "data": {
      "text/html": [
       "<div>\n",
       "<style scoped>\n",
       "    .dataframe tbody tr th:only-of-type {\n",
       "        vertical-align: middle;\n",
       "    }\n",
       "\n",
       "    .dataframe tbody tr th {\n",
       "        vertical-align: top;\n",
       "    }\n",
       "\n",
       "    .dataframe thead th {\n",
       "        text-align: right;\n",
       "    }\n",
       "</style>\n",
       "<table border=\"1\" class=\"dataframe\">\n",
       "  <thead>\n",
       "    <tr style=\"text-align: right;\">\n",
       "      <th></th>\n",
       "      <th>0</th>\n",
       "      <th>1</th>\n",
       "      <th>2</th>\n",
       "    </tr>\n",
       "  </thead>\n",
       "  <tbody>\n",
       "    <tr>\n",
       "      <th>0</th>\n",
       "      <td>-1.722007</td>\n",
       "      <td>-1.895035</td>\n",
       "      <td>-0.090413</td>\n",
       "    </tr>\n",
       "    <tr>\n",
       "      <th>1</th>\n",
       "      <td>-1.634339</td>\n",
       "      <td>-1.782433</td>\n",
       "      <td>-0.950678</td>\n",
       "    </tr>\n",
       "    <tr>\n",
       "      <th>2</th>\n",
       "      <td>-1.004879</td>\n",
       "      <td>-1.782433</td>\n",
       "      <td>0.732767</td>\n",
       "    </tr>\n",
       "    <tr>\n",
       "      <th>3</th>\n",
       "      <td>1.611951</td>\n",
       "      <td>-1.782433</td>\n",
       "      <td>-0.385819</td>\n",
       "    </tr>\n",
       "    <tr>\n",
       "      <th>4</th>\n",
       "      <td>2.559992</td>\n",
       "      <td>NaN</td>\n",
       "      <td>-0.385819</td>\n",
       "    </tr>\n",
       "    <tr>\n",
       "      <th>5</th>\n",
       "      <td>0.803963</td>\n",
       "      <td>NaN</td>\n",
       "      <td>-0.385819</td>\n",
       "    </tr>\n",
       "  </tbody>\n",
       "</table>\n",
       "</div>"
      ],
      "text/plain": [
       "          0         1         2\n",
       "0 -1.722007 -1.895035 -0.090413\n",
       "1 -1.634339 -1.782433 -0.950678\n",
       "2 -1.004879 -1.782433  0.732767\n",
       "3  1.611951 -1.782433 -0.385819\n",
       "4  2.559992       NaN -0.385819\n",
       "5  0.803963       NaN -0.385819"
      ]
     },
     "execution_count": 27,
     "metadata": {},
     "output_type": "execute_result"
    }
   ],
   "source": [
    "df.fillna(method=\"ffill\", limit=2)"
   ]
  },
  {
   "cell_type": "markdown",
   "id": "c0d3fddb",
   "metadata": {
    "slideshow": {
     "slide_type": "slide"
    }
   },
   "source": [
    "Con `fillna()` puede hacer muchas otras cosas, como la imputación simple de datos utilizando la mediana o la media estadística:"
   ]
  },
  {
   "cell_type": "code",
   "execution_count": 28,
   "id": "b1ddf7bd",
   "metadata": {},
   "outputs": [
    {
     "data": {
      "text/plain": [
       "0    1.0\n",
       "1    NaN\n",
       "2    3.5\n",
       "3    NaN\n",
       "4    7.0\n",
       "dtype: float64"
      ]
     },
     "execution_count": 28,
     "metadata": {},
     "output_type": "execute_result"
    }
   ],
   "source": [
    "data = pd.Series([1., np.nan, 3.5, np.nan, 7])\n",
    "data"
   ]
  },
  {
   "cell_type": "code",
   "execution_count": 29,
   "id": "3909395f-ab48-42aa-aa78-b191c70fde3a",
   "metadata": {},
   "outputs": [
    {
     "data": {
      "text/plain": [
       "0    1.000000\n",
       "1    3.833333\n",
       "2    3.500000\n",
       "3    3.833333\n",
       "4    7.000000\n",
       "dtype: float64"
      ]
     },
     "execution_count": 29,
     "metadata": {},
     "output_type": "execute_result"
    }
   ],
   "source": [
    "data.fillna(data.mean())"
   ]
  },
  {
   "cell_type": "markdown",
   "id": "cbfebee6",
   "metadata": {
    "slideshow": {
     "slide_type": "slide"
    }
   },
   "source": [
    "**Funciones de argumento para `fillna`**\n",
    "\n",
    "`value`: Valor escalar u objeto tipo diccionario que se utilizará para rellenar los valores que faltan.\n",
    "\n",
    "`method`: Método de interpolación: uno de \"bfill\" (relleno hacia atrás) o \"ffill\" (relleno hacia delante); por defecto es None\n",
    "\n",
    "`axis`: Eje de relleno (\"index\" o \"columns\"); por defecto axis=\"index\".\n",
    "\n",
    "`limit`: Para el llenado hacia delante y hacia atrás, número máximo de periodos consecutivos a llenar"
   ]
  },
  {
   "cell_type": "markdown",
   "id": "7b7e3e23",
   "metadata": {
    "slideshow": {
     "slide_type": "slide"
    }
   },
   "source": [
    "## Transformación de datos"
   ]
  },
  {
   "cell_type": "markdown",
   "id": "5279922c",
   "metadata": {},
   "source": [
    "Hasta ahora nos hemos ocupado de la gestión de los datos que faltan. El filtrado, la limpieza y otras transformaciones son otra clase de operaciones importantes."
   ]
  },
  {
   "cell_type": "markdown",
   "id": "a1275d31",
   "metadata": {
    "slideshow": {
     "slide_type": "slide"
    }
   },
   "source": [
    "### Remover duplicados"
   ]
  },
  {
   "cell_type": "markdown",
   "id": "2cd9a09a",
   "metadata": {},
   "source": [
    "Pueden encontrarse filas duplicadas en un DataFrame por cualquier número de razones. He aquí un ejemplo:"
   ]
  },
  {
   "cell_type": "code",
   "execution_count": 30,
   "id": "ff7fa13c",
   "metadata": {
    "slideshow": {
     "slide_type": "slide"
    }
   },
   "outputs": [],
   "source": [
    "data = pd.DataFrame({\"k1\": [\"one\", \"two\"] * 3 + [\"two\"],\n",
    "                     \"k2\":[1, 1, 2, 3, 3, 4, 4]})"
   ]
  },
  {
   "cell_type": "code",
   "execution_count": 31,
   "id": "80bc42d4",
   "metadata": {},
   "outputs": [
    {
     "data": {
      "text/html": [
       "<div>\n",
       "<style scoped>\n",
       "    .dataframe tbody tr th:only-of-type {\n",
       "        vertical-align: middle;\n",
       "    }\n",
       "\n",
       "    .dataframe tbody tr th {\n",
       "        vertical-align: top;\n",
       "    }\n",
       "\n",
       "    .dataframe thead th {\n",
       "        text-align: right;\n",
       "    }\n",
       "</style>\n",
       "<table border=\"1\" class=\"dataframe\">\n",
       "  <thead>\n",
       "    <tr style=\"text-align: right;\">\n",
       "      <th></th>\n",
       "      <th>k1</th>\n",
       "      <th>k2</th>\n",
       "    </tr>\n",
       "  </thead>\n",
       "  <tbody>\n",
       "    <tr>\n",
       "      <th>0</th>\n",
       "      <td>one</td>\n",
       "      <td>1</td>\n",
       "    </tr>\n",
       "    <tr>\n",
       "      <th>1</th>\n",
       "      <td>two</td>\n",
       "      <td>1</td>\n",
       "    </tr>\n",
       "    <tr>\n",
       "      <th>2</th>\n",
       "      <td>one</td>\n",
       "      <td>2</td>\n",
       "    </tr>\n",
       "    <tr>\n",
       "      <th>3</th>\n",
       "      <td>two</td>\n",
       "      <td>3</td>\n",
       "    </tr>\n",
       "    <tr>\n",
       "      <th>4</th>\n",
       "      <td>one</td>\n",
       "      <td>3</td>\n",
       "    </tr>\n",
       "    <tr>\n",
       "      <th>5</th>\n",
       "      <td>two</td>\n",
       "      <td>4</td>\n",
       "    </tr>\n",
       "    <tr>\n",
       "      <th>6</th>\n",
       "      <td>two</td>\n",
       "      <td>4</td>\n",
       "    </tr>\n",
       "  </tbody>\n",
       "</table>\n",
       "</div>"
      ],
      "text/plain": [
       "    k1  k2\n",
       "0  one   1\n",
       "1  two   1\n",
       "2  one   2\n",
       "3  two   3\n",
       "4  one   3\n",
       "5  two   4\n",
       "6  two   4"
      ]
     },
     "execution_count": 31,
     "metadata": {},
     "output_type": "execute_result"
    }
   ],
   "source": [
    "data"
   ]
  },
  {
   "cell_type": "markdown",
   "id": "86b0e37d",
   "metadata": {
    "slideshow": {
     "slide_type": "slide"
    }
   },
   "source": [
    "El método DataFrame `duplicated` devuelve una serie booleana que indica si cada fila es un duplicado (sus valores de columna son exactamente iguales a los de una fila anterior) o no:"
   ]
  },
  {
   "cell_type": "code",
   "execution_count": 32,
   "id": "6a344d4d",
   "metadata": {},
   "outputs": [
    {
     "data": {
      "text/plain": [
       "0    False\n",
       "1    False\n",
       "2    False\n",
       "3    False\n",
       "4    False\n",
       "5    False\n",
       "6     True\n",
       "dtype: bool"
      ]
     },
     "execution_count": 32,
     "metadata": {},
     "output_type": "execute_result"
    }
   ],
   "source": [
    "data.duplicated()"
   ]
  },
  {
   "cell_type": "markdown",
   "id": "2c5737c0",
   "metadata": {
    "slideshow": {
     "slide_type": "slide"
    }
   },
   "source": [
    "En relación con esto, `drop_duplicates` devuelve un DataFrame con filas en las que se ha filtrado False el array duplicado:"
   ]
  },
  {
   "cell_type": "code",
   "execution_count": 33,
   "id": "b6f56a7b",
   "metadata": {},
   "outputs": [
    {
     "data": {
      "text/html": [
       "<div>\n",
       "<style scoped>\n",
       "    .dataframe tbody tr th:only-of-type {\n",
       "        vertical-align: middle;\n",
       "    }\n",
       "\n",
       "    .dataframe tbody tr th {\n",
       "        vertical-align: top;\n",
       "    }\n",
       "\n",
       "    .dataframe thead th {\n",
       "        text-align: right;\n",
       "    }\n",
       "</style>\n",
       "<table border=\"1\" class=\"dataframe\">\n",
       "  <thead>\n",
       "    <tr style=\"text-align: right;\">\n",
       "      <th></th>\n",
       "      <th>k1</th>\n",
       "      <th>k2</th>\n",
       "    </tr>\n",
       "  </thead>\n",
       "  <tbody>\n",
       "    <tr>\n",
       "      <th>0</th>\n",
       "      <td>one</td>\n",
       "      <td>1</td>\n",
       "    </tr>\n",
       "    <tr>\n",
       "      <th>1</th>\n",
       "      <td>two</td>\n",
       "      <td>1</td>\n",
       "    </tr>\n",
       "    <tr>\n",
       "      <th>2</th>\n",
       "      <td>one</td>\n",
       "      <td>2</td>\n",
       "    </tr>\n",
       "    <tr>\n",
       "      <th>3</th>\n",
       "      <td>two</td>\n",
       "      <td>3</td>\n",
       "    </tr>\n",
       "    <tr>\n",
       "      <th>4</th>\n",
       "      <td>one</td>\n",
       "      <td>3</td>\n",
       "    </tr>\n",
       "    <tr>\n",
       "      <th>5</th>\n",
       "      <td>two</td>\n",
       "      <td>4</td>\n",
       "    </tr>\n",
       "  </tbody>\n",
       "</table>\n",
       "</div>"
      ],
      "text/plain": [
       "    k1  k2\n",
       "0  one   1\n",
       "1  two   1\n",
       "2  one   2\n",
       "3  two   3\n",
       "4  one   3\n",
       "5  two   4"
      ]
     },
     "execution_count": 33,
     "metadata": {},
     "output_type": "execute_result"
    }
   ],
   "source": [
    "data.drop_duplicates()"
   ]
  },
  {
   "cell_type": "markdown",
   "id": "60f1c4b3",
   "metadata": {
    "slideshow": {
     "slide_type": "slide"
    }
   },
   "source": [
    "Ambos métodos consideran por defecto todas las columnas; alternativamente, puede especificar cualquier subconjunto de ellas para detectar duplicados. Supongamos que tenemos una columna adicional de valores y queremos filtrar los duplicados basándonos sólo en la columna \"k1\":"
   ]
  },
  {
   "cell_type": "code",
   "execution_count": 34,
   "id": "c3f02963-6593-4a30-8a84-d4b3194e3db5",
   "metadata": {},
   "outputs": [
    {
     "data": {
      "text/html": [
       "<div>\n",
       "<style scoped>\n",
       "    .dataframe tbody tr th:only-of-type {\n",
       "        vertical-align: middle;\n",
       "    }\n",
       "\n",
       "    .dataframe tbody tr th {\n",
       "        vertical-align: top;\n",
       "    }\n",
       "\n",
       "    .dataframe thead th {\n",
       "        text-align: right;\n",
       "    }\n",
       "</style>\n",
       "<table border=\"1\" class=\"dataframe\">\n",
       "  <thead>\n",
       "    <tr style=\"text-align: right;\">\n",
       "      <th></th>\n",
       "      <th>k1</th>\n",
       "      <th>k2</th>\n",
       "    </tr>\n",
       "  </thead>\n",
       "  <tbody>\n",
       "    <tr>\n",
       "      <th>0</th>\n",
       "      <td>one</td>\n",
       "      <td>1</td>\n",
       "    </tr>\n",
       "    <tr>\n",
       "      <th>1</th>\n",
       "      <td>two</td>\n",
       "      <td>1</td>\n",
       "    </tr>\n",
       "    <tr>\n",
       "      <th>2</th>\n",
       "      <td>one</td>\n",
       "      <td>2</td>\n",
       "    </tr>\n",
       "    <tr>\n",
       "      <th>3</th>\n",
       "      <td>two</td>\n",
       "      <td>3</td>\n",
       "    </tr>\n",
       "    <tr>\n",
       "      <th>4</th>\n",
       "      <td>one</td>\n",
       "      <td>3</td>\n",
       "    </tr>\n",
       "    <tr>\n",
       "      <th>5</th>\n",
       "      <td>two</td>\n",
       "      <td>4</td>\n",
       "    </tr>\n",
       "    <tr>\n",
       "      <th>6</th>\n",
       "      <td>two</td>\n",
       "      <td>4</td>\n",
       "    </tr>\n",
       "  </tbody>\n",
       "</table>\n",
       "</div>"
      ],
      "text/plain": [
       "    k1  k2\n",
       "0  one   1\n",
       "1  two   1\n",
       "2  one   2\n",
       "3  two   3\n",
       "4  one   3\n",
       "5  two   4\n",
       "6  two   4"
      ]
     },
     "execution_count": 34,
     "metadata": {},
     "output_type": "execute_result"
    }
   ],
   "source": [
    "data"
   ]
  },
  {
   "cell_type": "code",
   "execution_count": 35,
   "id": "2f4723e7",
   "metadata": {},
   "outputs": [
    {
     "data": {
      "text/html": [
       "<div>\n",
       "<style scoped>\n",
       "    .dataframe tbody tr th:only-of-type {\n",
       "        vertical-align: middle;\n",
       "    }\n",
       "\n",
       "    .dataframe tbody tr th {\n",
       "        vertical-align: top;\n",
       "    }\n",
       "\n",
       "    .dataframe thead th {\n",
       "        text-align: right;\n",
       "    }\n",
       "</style>\n",
       "<table border=\"1\" class=\"dataframe\">\n",
       "  <thead>\n",
       "    <tr style=\"text-align: right;\">\n",
       "      <th></th>\n",
       "      <th>k1</th>\n",
       "      <th>k2</th>\n",
       "      <th>v1</th>\n",
       "    </tr>\n",
       "  </thead>\n",
       "  <tbody>\n",
       "    <tr>\n",
       "      <th>0</th>\n",
       "      <td>one</td>\n",
       "      <td>1</td>\n",
       "      <td>0</td>\n",
       "    </tr>\n",
       "    <tr>\n",
       "      <th>1</th>\n",
       "      <td>two</td>\n",
       "      <td>1</td>\n",
       "      <td>1</td>\n",
       "    </tr>\n",
       "    <tr>\n",
       "      <th>2</th>\n",
       "      <td>one</td>\n",
       "      <td>2</td>\n",
       "      <td>2</td>\n",
       "    </tr>\n",
       "    <tr>\n",
       "      <th>3</th>\n",
       "      <td>two</td>\n",
       "      <td>3</td>\n",
       "      <td>3</td>\n",
       "    </tr>\n",
       "    <tr>\n",
       "      <th>4</th>\n",
       "      <td>one</td>\n",
       "      <td>3</td>\n",
       "      <td>4</td>\n",
       "    </tr>\n",
       "    <tr>\n",
       "      <th>5</th>\n",
       "      <td>two</td>\n",
       "      <td>4</td>\n",
       "      <td>5</td>\n",
       "    </tr>\n",
       "    <tr>\n",
       "      <th>6</th>\n",
       "      <td>two</td>\n",
       "      <td>4</td>\n",
       "      <td>6</td>\n",
       "    </tr>\n",
       "  </tbody>\n",
       "</table>\n",
       "</div>"
      ],
      "text/plain": [
       "    k1  k2  v1\n",
       "0  one   1   0\n",
       "1  two   1   1\n",
       "2  one   2   2\n",
       "3  two   3   3\n",
       "4  one   3   4\n",
       "5  two   4   5\n",
       "6  two   4   6"
      ]
     },
     "execution_count": 35,
     "metadata": {},
     "output_type": "execute_result"
    }
   ],
   "source": [
    "# Añadimos una tercera columna\n",
    "data[\"v1\"] = range(7)\n",
    "data"
   ]
  },
  {
   "cell_type": "code",
   "execution_count": 36,
   "id": "400f99f1",
   "metadata": {
    "slideshow": {
     "slide_type": "slide"
    }
   },
   "outputs": [
    {
     "data": {
      "text/html": [
       "<div>\n",
       "<style scoped>\n",
       "    .dataframe tbody tr th:only-of-type {\n",
       "        vertical-align: middle;\n",
       "    }\n",
       "\n",
       "    .dataframe tbody tr th {\n",
       "        vertical-align: top;\n",
       "    }\n",
       "\n",
       "    .dataframe thead th {\n",
       "        text-align: right;\n",
       "    }\n",
       "</style>\n",
       "<table border=\"1\" class=\"dataframe\">\n",
       "  <thead>\n",
       "    <tr style=\"text-align: right;\">\n",
       "      <th></th>\n",
       "      <th>k1</th>\n",
       "      <th>k2</th>\n",
       "      <th>v1</th>\n",
       "    </tr>\n",
       "  </thead>\n",
       "  <tbody>\n",
       "    <tr>\n",
       "      <th>0</th>\n",
       "      <td>one</td>\n",
       "      <td>1</td>\n",
       "      <td>0</td>\n",
       "    </tr>\n",
       "    <tr>\n",
       "      <th>1</th>\n",
       "      <td>two</td>\n",
       "      <td>1</td>\n",
       "      <td>1</td>\n",
       "    </tr>\n",
       "  </tbody>\n",
       "</table>\n",
       "</div>"
      ],
      "text/plain": [
       "    k1  k2  v1\n",
       "0  one   1   0\n",
       "1  two   1   1"
      ]
     },
     "execution_count": 36,
     "metadata": {},
     "output_type": "execute_result"
    }
   ],
   "source": [
    "data.drop_duplicates(subset=[\"k1\"])"
   ]
  },
  {
   "cell_type": "markdown",
   "id": "6fd3e710",
   "metadata": {
    "slideshow": {
     "slide_type": "slide"
    }
   },
   "source": [
    "`duplicated` y `drop_duplicates` mantienen por defecto la primera combinación de valores observada. Si se pasa `keep=\"last\"` se devolverá la última.  \n",
    "El argumento `keep` puede tomar tres valores:\n",
    "\n",
    "`\"first\"`: (por defecto) Mantiene la primera aparición de una fila duplicada y elimina las subsecuentes.  \n",
    "\n",
    "`\"last\"`: Mantiene la última aparición de una fila duplicada y elimina las anteriores.  \n",
    "\n",
    "`\"False\"`: Elimina todas las filas duplicadas, no conservando ninguna."
   ]
  },
  {
   "cell_type": "code",
   "execution_count": 37,
   "id": "1f7a07aa-4903-4f3e-abd7-22d42dc5e94c",
   "metadata": {},
   "outputs": [
    {
     "data": {
      "text/html": [
       "<div>\n",
       "<style scoped>\n",
       "    .dataframe tbody tr th:only-of-type {\n",
       "        vertical-align: middle;\n",
       "    }\n",
       "\n",
       "    .dataframe tbody tr th {\n",
       "        vertical-align: top;\n",
       "    }\n",
       "\n",
       "    .dataframe thead th {\n",
       "        text-align: right;\n",
       "    }\n",
       "</style>\n",
       "<table border=\"1\" class=\"dataframe\">\n",
       "  <thead>\n",
       "    <tr style=\"text-align: right;\">\n",
       "      <th></th>\n",
       "      <th>k1</th>\n",
       "      <th>k2</th>\n",
       "      <th>v1</th>\n",
       "    </tr>\n",
       "  </thead>\n",
       "  <tbody>\n",
       "    <tr>\n",
       "      <th>0</th>\n",
       "      <td>one</td>\n",
       "      <td>1</td>\n",
       "      <td>0</td>\n",
       "    </tr>\n",
       "    <tr>\n",
       "      <th>1</th>\n",
       "      <td>two</td>\n",
       "      <td>1</td>\n",
       "      <td>1</td>\n",
       "    </tr>\n",
       "    <tr>\n",
       "      <th>2</th>\n",
       "      <td>one</td>\n",
       "      <td>2</td>\n",
       "      <td>2</td>\n",
       "    </tr>\n",
       "    <tr>\n",
       "      <th>3</th>\n",
       "      <td>two</td>\n",
       "      <td>3</td>\n",
       "      <td>3</td>\n",
       "    </tr>\n",
       "    <tr>\n",
       "      <th>4</th>\n",
       "      <td>one</td>\n",
       "      <td>3</td>\n",
       "      <td>4</td>\n",
       "    </tr>\n",
       "    <tr>\n",
       "      <th>5</th>\n",
       "      <td>two</td>\n",
       "      <td>4</td>\n",
       "      <td>5</td>\n",
       "    </tr>\n",
       "    <tr>\n",
       "      <th>6</th>\n",
       "      <td>two</td>\n",
       "      <td>4</td>\n",
       "      <td>6</td>\n",
       "    </tr>\n",
       "  </tbody>\n",
       "</table>\n",
       "</div>"
      ],
      "text/plain": [
       "    k1  k2  v1\n",
       "0  one   1   0\n",
       "1  two   1   1\n",
       "2  one   2   2\n",
       "3  two   3   3\n",
       "4  one   3   4\n",
       "5  two   4   5\n",
       "6  two   4   6"
      ]
     },
     "execution_count": 37,
     "metadata": {},
     "output_type": "execute_result"
    }
   ],
   "source": [
    "data"
   ]
  },
  {
   "cell_type": "code",
   "execution_count": 38,
   "id": "1cecd476",
   "metadata": {},
   "outputs": [
    {
     "data": {
      "text/html": [
       "<div>\n",
       "<style scoped>\n",
       "    .dataframe tbody tr th:only-of-type {\n",
       "        vertical-align: middle;\n",
       "    }\n",
       "\n",
       "    .dataframe tbody tr th {\n",
       "        vertical-align: top;\n",
       "    }\n",
       "\n",
       "    .dataframe thead th {\n",
       "        text-align: right;\n",
       "    }\n",
       "</style>\n",
       "<table border=\"1\" class=\"dataframe\">\n",
       "  <thead>\n",
       "    <tr style=\"text-align: right;\">\n",
       "      <th></th>\n",
       "      <th>k1</th>\n",
       "      <th>k2</th>\n",
       "      <th>v1</th>\n",
       "    </tr>\n",
       "  </thead>\n",
       "  <tbody>\n",
       "    <tr>\n",
       "      <th>0</th>\n",
       "      <td>one</td>\n",
       "      <td>1</td>\n",
       "      <td>0</td>\n",
       "    </tr>\n",
       "    <tr>\n",
       "      <th>1</th>\n",
       "      <td>two</td>\n",
       "      <td>1</td>\n",
       "      <td>1</td>\n",
       "    </tr>\n",
       "    <tr>\n",
       "      <th>2</th>\n",
       "      <td>one</td>\n",
       "      <td>2</td>\n",
       "      <td>2</td>\n",
       "    </tr>\n",
       "    <tr>\n",
       "      <th>3</th>\n",
       "      <td>two</td>\n",
       "      <td>3</td>\n",
       "      <td>3</td>\n",
       "    </tr>\n",
       "    <tr>\n",
       "      <th>4</th>\n",
       "      <td>one</td>\n",
       "      <td>3</td>\n",
       "      <td>4</td>\n",
       "    </tr>\n",
       "    <tr>\n",
       "      <th>6</th>\n",
       "      <td>two</td>\n",
       "      <td>4</td>\n",
       "      <td>6</td>\n",
       "    </tr>\n",
       "  </tbody>\n",
       "</table>\n",
       "</div>"
      ],
      "text/plain": [
       "    k1  k2  v1\n",
       "0  one   1   0\n",
       "1  two   1   1\n",
       "2  one   2   2\n",
       "3  two   3   3\n",
       "4  one   3   4\n",
       "6  two   4   6"
      ]
     },
     "execution_count": 38,
     "metadata": {},
     "output_type": "execute_result"
    }
   ],
   "source": [
    "data.drop_duplicates([\"k1\", \"k2\"], keep=\"last\")"
   ]
  },
  {
   "cell_type": "markdown",
   "id": "94f899d4",
   "metadata": {
    "slideshow": {
     "slide_type": "slide"
    }
   },
   "source": [
    "### Transformación de datos mediante una `Function` o `Mapping`"
   ]
  },
  {
   "cell_type": "markdown",
   "id": "d22a459b",
   "metadata": {},
   "source": [
    "Para muchos conjuntos de datos, es posible que desee realizar alguna transformación basada en los valores de un array, Serie o columna de un DataFrame. Considere los siguientes datos hipotéticos recogidos sobre varios tipos de jamón:"
   ]
  },
  {
   "cell_type": "code",
   "execution_count": 39,
   "id": "1c76dd2f",
   "metadata": {
    "slideshow": {
     "slide_type": "slide"
    }
   },
   "outputs": [
    {
     "data": {
      "text/html": [
       "<div>\n",
       "<style scoped>\n",
       "    .dataframe tbody tr th:only-of-type {\n",
       "        vertical-align: middle;\n",
       "    }\n",
       "\n",
       "    .dataframe tbody tr th {\n",
       "        vertical-align: top;\n",
       "    }\n",
       "\n",
       "    .dataframe thead th {\n",
       "        text-align: right;\n",
       "    }\n",
       "</style>\n",
       "<table border=\"1\" class=\"dataframe\">\n",
       "  <thead>\n",
       "    <tr style=\"text-align: right;\">\n",
       "      <th></th>\n",
       "      <th>food</th>\n",
       "      <th>ounces</th>\n",
       "    </tr>\n",
       "  </thead>\n",
       "  <tbody>\n",
       "    <tr>\n",
       "      <th>0</th>\n",
       "      <td>bacon</td>\n",
       "      <td>4.0</td>\n",
       "    </tr>\n",
       "    <tr>\n",
       "      <th>1</th>\n",
       "      <td>pulled pork</td>\n",
       "      <td>3.0</td>\n",
       "    </tr>\n",
       "    <tr>\n",
       "      <th>2</th>\n",
       "      <td>bacon</td>\n",
       "      <td>12.0</td>\n",
       "    </tr>\n",
       "    <tr>\n",
       "      <th>3</th>\n",
       "      <td>pastrami</td>\n",
       "      <td>6.0</td>\n",
       "    </tr>\n",
       "    <tr>\n",
       "      <th>4</th>\n",
       "      <td>corned beef</td>\n",
       "      <td>7.5</td>\n",
       "    </tr>\n",
       "    <tr>\n",
       "      <th>5</th>\n",
       "      <td>bacon</td>\n",
       "      <td>8.0</td>\n",
       "    </tr>\n",
       "    <tr>\n",
       "      <th>6</th>\n",
       "      <td>pastrami</td>\n",
       "      <td>3.0</td>\n",
       "    </tr>\n",
       "    <tr>\n",
       "      <th>7</th>\n",
       "      <td>honey ham</td>\n",
       "      <td>5.0</td>\n",
       "    </tr>\n",
       "    <tr>\n",
       "      <th>8</th>\n",
       "      <td>nova lox</td>\n",
       "      <td>6.0</td>\n",
       "    </tr>\n",
       "  </tbody>\n",
       "</table>\n",
       "</div>"
      ],
      "text/plain": [
       "          food  ounces\n",
       "0        bacon     4.0\n",
       "1  pulled pork     3.0\n",
       "2        bacon    12.0\n",
       "3     pastrami     6.0\n",
       "4  corned beef     7.5\n",
       "5        bacon     8.0\n",
       "6     pastrami     3.0\n",
       "7    honey ham     5.0\n",
       "8     nova lox     6.0"
      ]
     },
     "execution_count": 39,
     "metadata": {},
     "output_type": "execute_result"
    }
   ],
   "source": [
    "data = pd.DataFrame({\"food\": [\"bacon\", \"pulled pork\",\n",
    "                              \"bacon\",\"pastrami\", \"corned beef\",\n",
    "                              \"bacon\", \"pastrami\", \"honey ham\",\n",
    "                              \"nova lox\"],\n",
    "                     \"ounces\": [4, 3, 12, 6, 7.5, 8, 3, 5, 6]})\n",
    "data"
   ]
  },
  {
   "cell_type": "markdown",
   "id": "a76d43b6",
   "metadata": {
    "slideshow": {
     "slide_type": "slide"
    }
   },
   "source": [
    "Supongamos que queremos añadir una columna que indique el tipo de animal del que procede cada alimento. Escribamos una correspondencia entre cada tipo de carne y el tipo de animal:"
   ]
  },
  {
   "cell_type": "code",
   "execution_count": 40,
   "id": "cb6723a0",
   "metadata": {},
   "outputs": [],
   "source": [
    "meat_to_animal = {\n",
    "  \"bacon\": \"pig\",\n",
    "  \"pulled pork\": \"pig\",\n",
    "  \"pastrami\": \"cow\",\n",
    "  \"corned beef\": \"cow\",\n",
    "  \"honey ham\": \"pig\",\n",
    "  \"nova lox\": \"salmon\"\n",
    "}"
   ]
  },
  {
   "cell_type": "markdown",
   "id": "a3357a6a",
   "metadata": {
    "slideshow": {
     "slide_type": "slide"
    }
   },
   "source": [
    "El método `map` de una serie acepta una función u objeto de tipo diccionario que contenga un mapeo para realizar la transformación de los valores:"
   ]
  },
  {
   "cell_type": "code",
   "execution_count": 41,
   "id": "ffde4341",
   "metadata": {},
   "outputs": [
    {
     "data": {
      "text/html": [
       "<div>\n",
       "<style scoped>\n",
       "    .dataframe tbody tr th:only-of-type {\n",
       "        vertical-align: middle;\n",
       "    }\n",
       "\n",
       "    .dataframe tbody tr th {\n",
       "        vertical-align: top;\n",
       "    }\n",
       "\n",
       "    .dataframe thead th {\n",
       "        text-align: right;\n",
       "    }\n",
       "</style>\n",
       "<table border=\"1\" class=\"dataframe\">\n",
       "  <thead>\n",
       "    <tr style=\"text-align: right;\">\n",
       "      <th></th>\n",
       "      <th>food</th>\n",
       "      <th>ounces</th>\n",
       "      <th>animal</th>\n",
       "    </tr>\n",
       "  </thead>\n",
       "  <tbody>\n",
       "    <tr>\n",
       "      <th>0</th>\n",
       "      <td>bacon</td>\n",
       "      <td>4.0</td>\n",
       "      <td>pig</td>\n",
       "    </tr>\n",
       "    <tr>\n",
       "      <th>1</th>\n",
       "      <td>pulled pork</td>\n",
       "      <td>3.0</td>\n",
       "      <td>pig</td>\n",
       "    </tr>\n",
       "    <tr>\n",
       "      <th>2</th>\n",
       "      <td>bacon</td>\n",
       "      <td>12.0</td>\n",
       "      <td>pig</td>\n",
       "    </tr>\n",
       "    <tr>\n",
       "      <th>3</th>\n",
       "      <td>pastrami</td>\n",
       "      <td>6.0</td>\n",
       "      <td>cow</td>\n",
       "    </tr>\n",
       "    <tr>\n",
       "      <th>4</th>\n",
       "      <td>corned beef</td>\n",
       "      <td>7.5</td>\n",
       "      <td>cow</td>\n",
       "    </tr>\n",
       "    <tr>\n",
       "      <th>5</th>\n",
       "      <td>bacon</td>\n",
       "      <td>8.0</td>\n",
       "      <td>pig</td>\n",
       "    </tr>\n",
       "    <tr>\n",
       "      <th>6</th>\n",
       "      <td>pastrami</td>\n",
       "      <td>3.0</td>\n",
       "      <td>cow</td>\n",
       "    </tr>\n",
       "    <tr>\n",
       "      <th>7</th>\n",
       "      <td>honey ham</td>\n",
       "      <td>5.0</td>\n",
       "      <td>pig</td>\n",
       "    </tr>\n",
       "    <tr>\n",
       "      <th>8</th>\n",
       "      <td>nova lox</td>\n",
       "      <td>6.0</td>\n",
       "      <td>salmon</td>\n",
       "    </tr>\n",
       "  </tbody>\n",
       "</table>\n",
       "</div>"
      ],
      "text/plain": [
       "          food  ounces  animal\n",
       "0        bacon     4.0     pig\n",
       "1  pulled pork     3.0     pig\n",
       "2        bacon    12.0     pig\n",
       "3     pastrami     6.0     cow\n",
       "4  corned beef     7.5     cow\n",
       "5        bacon     8.0     pig\n",
       "6     pastrami     3.0     cow\n",
       "7    honey ham     5.0     pig\n",
       "8     nova lox     6.0  salmon"
      ]
     },
     "execution_count": 41,
     "metadata": {},
     "output_type": "execute_result"
    }
   ],
   "source": [
    "data[\"animal\"] = data[\"food\"].map(meat_to_animal)\n",
    "data"
   ]
  },
  {
   "cell_type": "markdown",
   "id": "62fdc91c",
   "metadata": {
    "slideshow": {
     "slide_type": "slide"
    }
   },
   "source": [
    "También podríamos haber pasado una función que haga todo el trabajo:"
   ]
  },
  {
   "cell_type": "code",
   "execution_count": 42,
   "id": "4c20aa34",
   "metadata": {},
   "outputs": [
    {
     "data": {
      "text/html": [
       "<div>\n",
       "<style scoped>\n",
       "    .dataframe tbody tr th:only-of-type {\n",
       "        vertical-align: middle;\n",
       "    }\n",
       "\n",
       "    .dataframe tbody tr th {\n",
       "        vertical-align: top;\n",
       "    }\n",
       "\n",
       "    .dataframe thead th {\n",
       "        text-align: right;\n",
       "    }\n",
       "</style>\n",
       "<table border=\"1\" class=\"dataframe\">\n",
       "  <thead>\n",
       "    <tr style=\"text-align: right;\">\n",
       "      <th></th>\n",
       "      <th>food</th>\n",
       "      <th>ounces</th>\n",
       "      <th>animal</th>\n",
       "    </tr>\n",
       "  </thead>\n",
       "  <tbody>\n",
       "    <tr>\n",
       "      <th>0</th>\n",
       "      <td>bacon</td>\n",
       "      <td>4.0</td>\n",
       "      <td>pig</td>\n",
       "    </tr>\n",
       "    <tr>\n",
       "      <th>1</th>\n",
       "      <td>pulled pork</td>\n",
       "      <td>3.0</td>\n",
       "      <td>pig</td>\n",
       "    </tr>\n",
       "    <tr>\n",
       "      <th>2</th>\n",
       "      <td>bacon</td>\n",
       "      <td>12.0</td>\n",
       "      <td>pig</td>\n",
       "    </tr>\n",
       "    <tr>\n",
       "      <th>3</th>\n",
       "      <td>pastrami</td>\n",
       "      <td>6.0</td>\n",
       "      <td>cow</td>\n",
       "    </tr>\n",
       "    <tr>\n",
       "      <th>4</th>\n",
       "      <td>corned beef</td>\n",
       "      <td>7.5</td>\n",
       "      <td>cow</td>\n",
       "    </tr>\n",
       "    <tr>\n",
       "      <th>5</th>\n",
       "      <td>bacon</td>\n",
       "      <td>8.0</td>\n",
       "      <td>pig</td>\n",
       "    </tr>\n",
       "    <tr>\n",
       "      <th>6</th>\n",
       "      <td>pastrami</td>\n",
       "      <td>3.0</td>\n",
       "      <td>cow</td>\n",
       "    </tr>\n",
       "    <tr>\n",
       "      <th>7</th>\n",
       "      <td>honey ham</td>\n",
       "      <td>5.0</td>\n",
       "      <td>pig</td>\n",
       "    </tr>\n",
       "    <tr>\n",
       "      <th>8</th>\n",
       "      <td>nova lox</td>\n",
       "      <td>6.0</td>\n",
       "      <td>salmon</td>\n",
       "    </tr>\n",
       "  </tbody>\n",
       "</table>\n",
       "</div>"
      ],
      "text/plain": [
       "          food  ounces  animal\n",
       "0        bacon     4.0     pig\n",
       "1  pulled pork     3.0     pig\n",
       "2        bacon    12.0     pig\n",
       "3     pastrami     6.0     cow\n",
       "4  corned beef     7.5     cow\n",
       "5        bacon     8.0     pig\n",
       "6     pastrami     3.0     cow\n",
       "7    honey ham     5.0     pig\n",
       "8     nova lox     6.0  salmon"
      ]
     },
     "execution_count": 42,
     "metadata": {},
     "output_type": "execute_result"
    }
   ],
   "source": [
    "def get_animal(x):\n",
    "    return meat_to_animal[x]\n",
    "\n",
    "data[\"animal\"] = data[\"food\"].map(get_animal)\n",
    "data"
   ]
  },
  {
   "cell_type": "markdown",
   "id": "22882206",
   "metadata": {
    "slideshow": {
     "slide_type": "slide"
    }
   },
   "source": [
    "### Sustitución de valores"
   ]
  },
  {
   "cell_type": "markdown",
   "id": "6f501af1",
   "metadata": {},
   "source": [
    "Rellenar los datos que faltan con el método `fillna` es un caso especial de sustitución de valores más general. Como ya se ha visto, `map` puede utilizarse para modificar un subconjunto de valores de un objeto, tambien `replace` proporciona una forma más sencilla y flexible de hacerlo. Consideremos esta serie:"
   ]
  },
  {
   "cell_type": "code",
   "execution_count": 43,
   "id": "1c0038e4",
   "metadata": {
    "slideshow": {
     "slide_type": "slide"
    }
   },
   "outputs": [
    {
     "data": {
      "text/plain": [
       "0       1.0\n",
       "1    -999.0\n",
       "2       2.0\n",
       "3    -999.0\n",
       "4   -1000.0\n",
       "5       3.0\n",
       "dtype: float64"
      ]
     },
     "execution_count": 43,
     "metadata": {},
     "output_type": "execute_result"
    }
   ],
   "source": [
    "data = pd.Series([1., -999., 2., -999., -1000., 3.])\n",
    "data"
   ]
  },
  {
   "cell_type": "markdown",
   "id": "b5ea227b",
   "metadata": {
    "slideshow": {
     "slide_type": "slide"
    }
   },
   "source": [
    "Los valores `-999` podrían ser valores centinela de datos perdidos. Para reemplazarlos por valores `NA` que pandas entienda, podemos usar `replace`, produciendo una nueva Serie:"
   ]
  },
  {
   "cell_type": "code",
   "execution_count": 44,
   "id": "b3bc7f20",
   "metadata": {},
   "outputs": [
    {
     "data": {
      "text/plain": [
       "0       1.0\n",
       "1       NaN\n",
       "2       2.0\n",
       "3       NaN\n",
       "4   -1000.0\n",
       "5       3.0\n",
       "dtype: float64"
      ]
     },
     "execution_count": 44,
     "metadata": {},
     "output_type": "execute_result"
    }
   ],
   "source": [
    "data.replace(-999, np.nan)"
   ]
  },
  {
   "cell_type": "markdown",
   "id": "c8443f96",
   "metadata": {
    "slideshow": {
     "slide_type": "slide"
    }
   },
   "source": [
    "Si desea sustituir varios valores a la vez, debe pasar una lista y, a continuación, el valor sustituido:"
   ]
  },
  {
   "cell_type": "code",
   "execution_count": 45,
   "id": "4020a035",
   "metadata": {},
   "outputs": [
    {
     "data": {
      "text/plain": [
       "0    1.0\n",
       "1    NaN\n",
       "2    2.0\n",
       "3    NaN\n",
       "4    NaN\n",
       "5    3.0\n",
       "dtype: float64"
      ]
     },
     "execution_count": 45,
     "metadata": {},
     "output_type": "execute_result"
    }
   ],
   "source": [
    "data.replace([-999, -1000], np.nan)"
   ]
  },
  {
   "cell_type": "markdown",
   "id": "cb8e3568",
   "metadata": {
    "slideshow": {
     "slide_type": "slide"
    }
   },
   "source": [
    "Para utilizar un sustituto diferente para cada valor, pase una lista de sustitutos:"
   ]
  },
  {
   "cell_type": "code",
   "execution_count": 46,
   "id": "b7c5cfd1",
   "metadata": {},
   "outputs": [
    {
     "data": {
      "text/plain": [
       "0    1.0\n",
       "1    NaN\n",
       "2    2.0\n",
       "3    NaN\n",
       "4    0.0\n",
       "5    3.0\n",
       "dtype: float64"
      ]
     },
     "execution_count": 46,
     "metadata": {},
     "output_type": "execute_result"
    }
   ],
   "source": [
    " data.replace([-999, -1000], [np.nan, 0])"
   ]
  },
  {
   "cell_type": "markdown",
   "id": "6efc9455",
   "metadata": {
    "slideshow": {
     "slide_type": "slide"
    }
   },
   "source": [
    "El argumento pasado también puede ser un diccionario:"
   ]
  },
  {
   "cell_type": "code",
   "execution_count": 47,
   "id": "fac8ce64",
   "metadata": {},
   "outputs": [
    {
     "data": {
      "text/plain": [
       "0    1.0\n",
       "1    NaN\n",
       "2    2.0\n",
       "3    NaN\n",
       "4    0.0\n",
       "5    3.0\n",
       "dtype: float64"
      ]
     },
     "execution_count": 47,
     "metadata": {},
     "output_type": "execute_result"
    }
   ],
   "source": [
    "data.replace({-999: np.nan, -1000: 0})"
   ]
  },
  {
   "cell_type": "markdown",
   "id": "2ae92fc7",
   "metadata": {
    "slideshow": {
     "slide_type": "slide"
    }
   },
   "source": [
    "El método `data.replace()` es distinto de `data.str.replace`, que realiza la sustitución de cadenas por elementos. Veremos estos métodos de cadena en Series más adelante."
   ]
  },
  {
   "cell_type": "markdown",
   "id": "c85a5f58",
   "metadata": {
    "slideshow": {
     "slide_type": "slide"
    }
   },
   "source": [
    "### Renombrar índices de ejes"
   ]
  },
  {
   "cell_type": "markdown",
   "id": "9b569f7c",
   "metadata": {},
   "source": [
    "Al igual que los valores de una Serie, las etiquetas de los ejes pueden transformarse de forma similar mediante una función o un mapeo (`mapping`) de algún tipo para producir nuevos objetos etiquetados de forma diferente. También puede modificar los ejes in situ sin crear una nueva estructura de datos. He aquí un ejemplo sencillo:"
   ]
  },
  {
   "cell_type": "code",
   "execution_count": 48,
   "id": "7a793a5f",
   "metadata": {
    "slideshow": {
     "slide_type": "slide"
    }
   },
   "outputs": [
    {
     "data": {
      "text/html": [
       "<div>\n",
       "<style scoped>\n",
       "    .dataframe tbody tr th:only-of-type {\n",
       "        vertical-align: middle;\n",
       "    }\n",
       "\n",
       "    .dataframe tbody tr th {\n",
       "        vertical-align: top;\n",
       "    }\n",
       "\n",
       "    .dataframe thead th {\n",
       "        text-align: right;\n",
       "    }\n",
       "</style>\n",
       "<table border=\"1\" class=\"dataframe\">\n",
       "  <thead>\n",
       "    <tr style=\"text-align: right;\">\n",
       "      <th></th>\n",
       "      <th>one</th>\n",
       "      <th>two</th>\n",
       "      <th>three</th>\n",
       "      <th>four</th>\n",
       "    </tr>\n",
       "  </thead>\n",
       "  <tbody>\n",
       "    <tr>\n",
       "      <th>Ohio</th>\n",
       "      <td>0</td>\n",
       "      <td>1</td>\n",
       "      <td>2</td>\n",
       "      <td>3</td>\n",
       "    </tr>\n",
       "    <tr>\n",
       "      <th>Colorado</th>\n",
       "      <td>4</td>\n",
       "      <td>5</td>\n",
       "      <td>6</td>\n",
       "      <td>7</td>\n",
       "    </tr>\n",
       "    <tr>\n",
       "      <th>New York</th>\n",
       "      <td>8</td>\n",
       "      <td>9</td>\n",
       "      <td>10</td>\n",
       "      <td>11</td>\n",
       "    </tr>\n",
       "  </tbody>\n",
       "</table>\n",
       "</div>"
      ],
      "text/plain": [
       "          one  two  three  four\n",
       "Ohio        0    1      2     3\n",
       "Colorado    4    5      6     7\n",
       "New York    8    9     10    11"
      ]
     },
     "execution_count": 48,
     "metadata": {},
     "output_type": "execute_result"
    }
   ],
   "source": [
    "data = pd.DataFrame(np.arange(12).reshape((3, 4)),\n",
    "                    index=[\"Ohio\", \"Colorado\", \"New York\"],\n",
    "                    columns=[\"one\", \"two\", \"three\", \"four\"])\n",
    "                    \n",
    "data"
   ]
  },
  {
   "cell_type": "markdown",
   "id": "72e3b4e2",
   "metadata": {
    "slideshow": {
     "slide_type": "slide"
    }
   },
   "source": [
    "Al igual que una Serie, los índices de eje tienen un método `map`:"
   ]
  },
  {
   "cell_type": "code",
   "execution_count": 49,
   "id": "5c06f4ee",
   "metadata": {},
   "outputs": [
    {
     "data": {
      "text/plain": [
       "Index(['OHIO', 'COLO', 'NEW '], dtype='object')"
      ]
     },
     "execution_count": 49,
     "metadata": {},
     "output_type": "execute_result"
    }
   ],
   "source": [
    "def transform(x):\n",
    "    return x[:4].upper()\n",
    "\n",
    "data.index.map(transform)\n",
    "#Index(['OHIO', 'COLO', 'NEW '], dtype='object')"
   ]
  },
  {
   "cell_type": "code",
   "execution_count": 50,
   "id": "fbbcd845-e27c-49f9-994f-11886013a701",
   "metadata": {},
   "outputs": [
    {
     "data": {
      "text/html": [
       "<div>\n",
       "<style scoped>\n",
       "    .dataframe tbody tr th:only-of-type {\n",
       "        vertical-align: middle;\n",
       "    }\n",
       "\n",
       "    .dataframe tbody tr th {\n",
       "        vertical-align: top;\n",
       "    }\n",
       "\n",
       "    .dataframe thead th {\n",
       "        text-align: right;\n",
       "    }\n",
       "</style>\n",
       "<table border=\"1\" class=\"dataframe\">\n",
       "  <thead>\n",
       "    <tr style=\"text-align: right;\">\n",
       "      <th></th>\n",
       "      <th>one</th>\n",
       "      <th>two</th>\n",
       "      <th>three</th>\n",
       "      <th>four</th>\n",
       "    </tr>\n",
       "  </thead>\n",
       "  <tbody>\n",
       "    <tr>\n",
       "      <th>Ohio</th>\n",
       "      <td>0</td>\n",
       "      <td>1</td>\n",
       "      <td>2</td>\n",
       "      <td>3</td>\n",
       "    </tr>\n",
       "    <tr>\n",
       "      <th>Colorado</th>\n",
       "      <td>4</td>\n",
       "      <td>5</td>\n",
       "      <td>6</td>\n",
       "      <td>7</td>\n",
       "    </tr>\n",
       "    <tr>\n",
       "      <th>New York</th>\n",
       "      <td>8</td>\n",
       "      <td>9</td>\n",
       "      <td>10</td>\n",
       "      <td>11</td>\n",
       "    </tr>\n",
       "  </tbody>\n",
       "</table>\n",
       "</div>"
      ],
      "text/plain": [
       "          one  two  three  four\n",
       "Ohio        0    1      2     3\n",
       "Colorado    4    5      6     7\n",
       "New York    8    9     10    11"
      ]
     },
     "execution_count": 50,
     "metadata": {},
     "output_type": "execute_result"
    }
   ],
   "source": [
    "data"
   ]
  },
  {
   "cell_type": "markdown",
   "id": "bee8d15e",
   "metadata": {
    "slideshow": {
     "slide_type": "slide"
    }
   },
   "source": [
    "You can assign to the `index` attribute, modifying the DataFrame in place:"
   ]
  },
  {
   "cell_type": "code",
   "execution_count": 51,
   "id": "6bc3cb76",
   "metadata": {},
   "outputs": [
    {
     "data": {
      "text/html": [
       "<div>\n",
       "<style scoped>\n",
       "    .dataframe tbody tr th:only-of-type {\n",
       "        vertical-align: middle;\n",
       "    }\n",
       "\n",
       "    .dataframe tbody tr th {\n",
       "        vertical-align: top;\n",
       "    }\n",
       "\n",
       "    .dataframe thead th {\n",
       "        text-align: right;\n",
       "    }\n",
       "</style>\n",
       "<table border=\"1\" class=\"dataframe\">\n",
       "  <thead>\n",
       "    <tr style=\"text-align: right;\">\n",
       "      <th></th>\n",
       "      <th>one</th>\n",
       "      <th>two</th>\n",
       "      <th>three</th>\n",
       "      <th>four</th>\n",
       "    </tr>\n",
       "  </thead>\n",
       "  <tbody>\n",
       "    <tr>\n",
       "      <th>OHIO</th>\n",
       "      <td>0</td>\n",
       "      <td>1</td>\n",
       "      <td>2</td>\n",
       "      <td>3</td>\n",
       "    </tr>\n",
       "    <tr>\n",
       "      <th>COLO</th>\n",
       "      <td>4</td>\n",
       "      <td>5</td>\n",
       "      <td>6</td>\n",
       "      <td>7</td>\n",
       "    </tr>\n",
       "    <tr>\n",
       "      <th>NEW</th>\n",
       "      <td>8</td>\n",
       "      <td>9</td>\n",
       "      <td>10</td>\n",
       "      <td>11</td>\n",
       "    </tr>\n",
       "  </tbody>\n",
       "</table>\n",
       "</div>"
      ],
      "text/plain": [
       "      one  two  three  four\n",
       "OHIO    0    1      2     3\n",
       "COLO    4    5      6     7\n",
       "NEW     8    9     10    11"
      ]
     },
     "execution_count": 51,
     "metadata": {},
     "output_type": "execute_result"
    }
   ],
   "source": [
    "data.index = data.index.map(transform)\n",
    "data"
   ]
  },
  {
   "cell_type": "markdown",
   "id": "d42a10de",
   "metadata": {
    "slideshow": {
     "slide_type": "slide"
    }
   },
   "source": [
    "Si desea crear una versión transformada de un conjunto de datos sin modificar el original, un método útil es `rename`:\n"
   ]
  },
  {
   "cell_type": "code",
   "execution_count": 52,
   "id": "2cbfcb2d",
   "metadata": {},
   "outputs": [
    {
     "data": {
      "text/html": [
       "<div>\n",
       "<style scoped>\n",
       "    .dataframe tbody tr th:only-of-type {\n",
       "        vertical-align: middle;\n",
       "    }\n",
       "\n",
       "    .dataframe tbody tr th {\n",
       "        vertical-align: top;\n",
       "    }\n",
       "\n",
       "    .dataframe thead th {\n",
       "        text-align: right;\n",
       "    }\n",
       "</style>\n",
       "<table border=\"1\" class=\"dataframe\">\n",
       "  <thead>\n",
       "    <tr style=\"text-align: right;\">\n",
       "      <th></th>\n",
       "      <th>ONE</th>\n",
       "      <th>TWO</th>\n",
       "      <th>THREE</th>\n",
       "      <th>FOUR</th>\n",
       "    </tr>\n",
       "  </thead>\n",
       "  <tbody>\n",
       "    <tr>\n",
       "      <th>Ohio</th>\n",
       "      <td>0</td>\n",
       "      <td>1</td>\n",
       "      <td>2</td>\n",
       "      <td>3</td>\n",
       "    </tr>\n",
       "    <tr>\n",
       "      <th>Colo</th>\n",
       "      <td>4</td>\n",
       "      <td>5</td>\n",
       "      <td>6</td>\n",
       "      <td>7</td>\n",
       "    </tr>\n",
       "    <tr>\n",
       "      <th>New</th>\n",
       "      <td>8</td>\n",
       "      <td>9</td>\n",
       "      <td>10</td>\n",
       "      <td>11</td>\n",
       "    </tr>\n",
       "  </tbody>\n",
       "</table>\n",
       "</div>"
      ],
      "text/plain": [
       "      ONE  TWO  THREE  FOUR\n",
       "Ohio    0    1      2     3\n",
       "Colo    4    5      6     7\n",
       "New     8    9     10    11"
      ]
     },
     "execution_count": 52,
     "metadata": {},
     "output_type": "execute_result"
    }
   ],
   "source": [
    "data.rename(index=str.title, columns=str.upper)"
   ]
  },
  {
   "cell_type": "markdown",
   "id": "0343f119",
   "metadata": {
    "slideshow": {
     "slide_type": "slide"
    }
   },
   "source": [
    "En particular, renombrar puede utilizarse junto con un objeto tipo diccionario, proporcionando nuevos valores para un subconjunto de las etiquetas de los ejes:"
   ]
  },
  {
   "cell_type": "code",
   "execution_count": 53,
   "id": "4b4fe752",
   "metadata": {},
   "outputs": [
    {
     "data": {
      "text/html": [
       "<div>\n",
       "<style scoped>\n",
       "    .dataframe tbody tr th:only-of-type {\n",
       "        vertical-align: middle;\n",
       "    }\n",
       "\n",
       "    .dataframe tbody tr th {\n",
       "        vertical-align: top;\n",
       "    }\n",
       "\n",
       "    .dataframe thead th {\n",
       "        text-align: right;\n",
       "    }\n",
       "</style>\n",
       "<table border=\"1\" class=\"dataframe\">\n",
       "  <thead>\n",
       "    <tr style=\"text-align: right;\">\n",
       "      <th></th>\n",
       "      <th>one</th>\n",
       "      <th>two</th>\n",
       "      <th>tres</th>\n",
       "      <th>four</th>\n",
       "    </tr>\n",
       "  </thead>\n",
       "  <tbody>\n",
       "    <tr>\n",
       "      <th>Madrid</th>\n",
       "      <td>0</td>\n",
       "      <td>1</td>\n",
       "      <td>2</td>\n",
       "      <td>3</td>\n",
       "    </tr>\n",
       "    <tr>\n",
       "      <th>COLO</th>\n",
       "      <td>4</td>\n",
       "      <td>5</td>\n",
       "      <td>6</td>\n",
       "      <td>7</td>\n",
       "    </tr>\n",
       "    <tr>\n",
       "      <th>NEW</th>\n",
       "      <td>8</td>\n",
       "      <td>9</td>\n",
       "      <td>10</td>\n",
       "      <td>11</td>\n",
       "    </tr>\n",
       "  </tbody>\n",
       "</table>\n",
       "</div>"
      ],
      "text/plain": [
       "        one  two  tres  four\n",
       "Madrid    0    1     2     3\n",
       "COLO      4    5     6     7\n",
       "NEW       8    9    10    11"
      ]
     },
     "execution_count": 53,
     "metadata": {},
     "output_type": "execute_result"
    }
   ],
   "source": [
    "data.rename(index={\"OHIO\": \"Madrid\"},\n",
    "            columns={\"three\": \"tres\"})\n",
    "            "
   ]
  },
  {
   "cell_type": "markdown",
   "id": "b84960f9",
   "metadata": {
    "slideshow": {
     "slide_type": "slide"
    }
   },
   "source": [
    "### Discretización y `binning`"
   ]
  },
  {
   "cell_type": "markdown",
   "id": "01e7beb4-43d7-4603-9ac6-e0ad85f3ace4",
   "metadata": {},
   "source": [
    "La discretización y el binning son técnicas utilizadas en la preprocesamiento de datos para convertir datos continuos en discretos. Estas técnicas son útiles para reducir la variabilidad, agrupar datos similares y mejorar el rendimiento de algunos algoritmos de aprendizaje automático"
   ]
  },
  {
   "cell_type": "markdown",
   "id": "fb55d593-05fd-4b6c-a39c-79893c2ff476",
   "metadata": {},
   "source": [
    "### Discretización.  \n",
    "\n",
    "Es el proceso de convertir datos continuos en datos categóricos dividiendo el rango de valores continuos en intervalos (bins)."
   ]
  },
  {
   "cell_type": "markdown",
   "id": "6ac77705-ab94-427a-96f0-a85629e895f8",
   "metadata": {},
   "source": [
    "### Binning (Agrupación por intervalos)\n",
    "El `binning` es una técnica de discretización que agrupa los datos en intervalos, o `\"bins\"`.  \n",
    "Hay varios métodos para hacer `binning` en pandas, como el binning por frecuencia, el binning por longitud de intervalo y el binning basado en la cuantilación (por ejemplo Cuartil)."
   ]
  },
  {
   "cell_type": "markdown",
   "id": "199ee9bf",
   "metadata": {},
   "source": [
    "Los datos continuos suelen discretizarse o separarse en \"intervalos\" (bins) para su análisis. Supongamos que se dispone de datos sobre un grupo de personas en un estudio y desea agruparlas en grupos de edad discretos:"
   ]
  },
  {
   "cell_type": "code",
   "execution_count": 54,
   "id": "a8a77593",
   "metadata": {
    "slideshow": {
     "slide_type": "slide"
    }
   },
   "outputs": [],
   "source": [
    "ages = [20, 22, 25, 27, 21, 23, 37, 31, 61, 45, 41, 32]"
   ]
  },
  {
   "cell_type": "markdown",
   "id": "0b89cfbf",
   "metadata": {},
   "source": [
    "Vamos a dividirlos en franjas (bins) de 18 a 25, de 26 a 35, de 36 a 60 y, por último, de 61 años en adelante. Para ello, hay que utilizar `pandas.cut`:"
   ]
  },
  {
   "cell_type": "code",
   "execution_count": 55,
   "id": "933a5fe8",
   "metadata": {
    "slideshow": {
     "slide_type": "slide"
    }
   },
   "outputs": [],
   "source": [
    "bins = [18, 25, 35, 60, 100]"
   ]
  },
  {
   "cell_type": "code",
   "execution_count": 56,
   "id": "77f76b44",
   "metadata": {},
   "outputs": [],
   "source": [
    "age_categories = pd.cut(ages, bins)"
   ]
  },
  {
   "cell_type": "code",
   "execution_count": 57,
   "id": "738fa65f",
   "metadata": {
    "slideshow": {
     "slide_type": "slide"
    }
   },
   "outputs": [
    {
     "data": {
      "text/plain": [
       "[(18, 25], (18, 25], (18, 25], (25, 35], (18, 25], ..., (25, 35], (60, 100], (35, 60], (35, 60], (25, 35]]\n",
       "Length: 12\n",
       "Categories (4, interval[int64, right]): [(18, 25] < (25, 35] < (35, 60] < (60, 100]]"
      ]
     },
     "execution_count": 57,
     "metadata": {},
     "output_type": "execute_result"
    }
   ],
   "source": [
    "age_categories"
   ]
  },
  {
   "cell_type": "markdown",
   "id": "ff4ad42a",
   "metadata": {
    "slideshow": {
     "slide_type": "slide"
    }
   },
   "source": [
    "El objeto que pandas devuelve es un objeto `Categorical` especial. La salida que se ve describe los bins calculados por `pandas.cut`. Cada bin se identifica por un tipo de valor de intervalo especial (único en pandas) que contiene el límite inferior y superior de cada bin:"
   ]
  },
  {
   "cell_type": "code",
   "execution_count": 58,
   "id": "5b3b4561",
   "metadata": {
    "slideshow": {
     "slide_type": "slide"
    }
   },
   "outputs": [
    {
     "data": {
      "text/plain": [
       "array([0, 0, 0, 1, 0, 0, 2, 1, 3, 2, 2, 1], dtype=int8)"
      ]
     },
     "execution_count": 58,
     "metadata": {},
     "output_type": "execute_result"
    }
   ],
   "source": [
    "age_categories.codes"
   ]
  },
  {
   "cell_type": "code",
   "execution_count": 59,
   "id": "ed733027",
   "metadata": {
    "slideshow": {
     "slide_type": "slide"
    }
   },
   "outputs": [
    {
     "data": {
      "text/plain": [
       "IntervalIndex([(18, 25], (25, 35], (35, 60], (60, 100]], dtype='interval[int64, right]')"
      ]
     },
     "execution_count": 59,
     "metadata": {},
     "output_type": "execute_result"
    }
   ],
   "source": [
    "age_categories.categories"
   ]
  },
  {
   "cell_type": "code",
   "execution_count": 60,
   "id": "16c7489a",
   "metadata": {
    "slideshow": {
     "slide_type": "slide"
    }
   },
   "outputs": [
    {
     "data": {
      "text/plain": [
       "Interval(18, 25, closed='right')"
      ]
     },
     "execution_count": 60,
     "metadata": {},
     "output_type": "execute_result"
    }
   ],
   "source": [
    "age_categories.categories[0]"
   ]
  },
  {
   "cell_type": "code",
   "execution_count": 61,
   "id": "7d76801a",
   "metadata": {
    "slideshow": {
     "slide_type": "slide"
    }
   },
   "outputs": [
    {
     "name": "stderr",
     "output_type": "stream",
     "text": [
      "C:\\Users\\juanj\\AppData\\Local\\Temp\\ipykernel_24584\\3010498523.py:1: FutureWarning: pandas.value_counts is deprecated and will be removed in a future version. Use pd.Series(obj).value_counts() instead.\n",
      "  pd.value_counts(age_categories)\n"
     ]
    },
    {
     "data": {
      "text/plain": [
       "(18, 25]     5\n",
       "(25, 35]     3\n",
       "(35, 60]     3\n",
       "(60, 100]    1\n",
       "Name: count, dtype: int64"
      ]
     },
     "execution_count": 61,
     "metadata": {},
     "output_type": "execute_result"
    }
   ],
   "source": [
    "pd.value_counts(age_categories)"
   ]
  },
  {
   "cell_type": "markdown",
   "id": "f93d8e0b",
   "metadata": {
    "slideshow": {
     "slide_type": "slide"
    }
   },
   "source": [
    "Tenga en cuenta que `pd.value_counts(categories)` son los recuentos bin del resultado de `pandas.cut`.\n",
    "\n",
    "En la representación de cadena de un intervalo, un paréntesis significa que el lado está abierto (excluyente), mientras que el corchete significa que está cerrado (incluyente). Puede cambiar el lado cerrado pasando `right=False`"
   ]
  },
  {
   "cell_type": "code",
   "execution_count": 62,
   "id": "8c73c08e",
   "metadata": {
    "slideshow": {
     "slide_type": "slide"
    }
   },
   "outputs": [
    {
     "data": {
      "text/plain": [
       "[[18, 25), [18, 25), [25, 35), [25, 35), [18, 25), ..., [25, 35), [60, 100), [35, 60), [35, 60), [25, 35)]\n",
       "Length: 12\n",
       "Categories (4, interval[int64, left]): [[18, 25) < [25, 35) < [35, 60) < [60, 100)]"
      ]
     },
     "execution_count": 62,
     "metadata": {},
     "output_type": "execute_result"
    }
   ],
   "source": [
    "pd.cut(ages, bins, right=False)"
   ]
  },
  {
   "cell_type": "markdown",
   "id": "8f3fe71b",
   "metadata": {
    "slideshow": {
     "slide_type": "slide"
    }
   },
   "source": [
    "Puede anular el etiquetado de contenedores por defecto basado en intervalos pasando una lista o array a la opción `labels`:"
   ]
  },
  {
   "cell_type": "code",
   "execution_count": 63,
   "id": "e7db305e",
   "metadata": {},
   "outputs": [
    {
     "data": {
      "text/plain": [
       "['Youth', 'Youth', 'Youth', 'YoungAdult', 'Youth', ..., 'YoungAdult', 'Senior', 'MiddleAged', 'MiddleAged', 'YoungAdult']\n",
       "Length: 12\n",
       "Categories (4, object): ['Youth' < 'YoungAdult' < 'MiddleAged' < 'Senior']"
      ]
     },
     "execution_count": 63,
     "metadata": {},
     "output_type": "execute_result"
    }
   ],
   "source": [
    "group_names = [\"Youth\", \"YoungAdult\", \"MiddleAged\", \"Senior\"]\n",
    "pd.cut(ages, bins, labels=group_names)"
   ]
  },
  {
   "cell_type": "markdown",
   "id": "27343225",
   "metadata": {
    "slideshow": {
     "slide_type": "slide"
    }
   },
   "source": [
    "Consideremos el caso de unos datos distribuidos uniformemente y cortados en cuartos:"
   ]
  },
  {
   "cell_type": "code",
   "execution_count": 64,
   "id": "8af197a7",
   "metadata": {
    "slideshow": {
     "slide_type": "slide"
    }
   },
   "outputs": [
    {
     "data": {
      "text/plain": [
       "array([0.19834812, 0.53076273, 0.35208551, 0.80617213, 0.07788087,\n",
       "       0.93115619, 0.32682571, 0.73751538, 0.41027641, 0.61318939,\n",
       "       0.07088802, 0.24386108, 0.16731792, 0.64121504, 0.44593581,\n",
       "       0.82643679, 0.2275916 , 0.538186  , 0.73839418, 0.8404235 ])"
      ]
     },
     "execution_count": 64,
     "metadata": {},
     "output_type": "execute_result"
    }
   ],
   "source": [
    "data = np.random.uniform(size=20)\n",
    "data"
   ]
  },
  {
   "cell_type": "code",
   "execution_count": 65,
   "id": "65d57ed2",
   "metadata": {
    "slideshow": {
     "slide_type": "slide"
    }
   },
   "outputs": [
    {
     "data": {
      "text/plain": [
       "[(0.07, 0.29], (0.5, 0.72], (0.29, 0.5], (0.72, 0.93], (0.07, 0.29], ..., (0.72, 0.93], (0.07, 0.29], (0.5, 0.72], (0.72, 0.93], (0.72, 0.93]]\n",
       "Length: 20\n",
       "Categories (4, interval[float64, right]): [(0.07, 0.29] < (0.29, 0.5] < (0.5, 0.72] < (0.72, 0.93]]"
      ]
     },
     "execution_count": 65,
     "metadata": {},
     "output_type": "execute_result"
    }
   ],
   "source": [
    "pd.cut(data, 4, precision=2)"
   ]
  },
  {
   "cell_type": "markdown",
   "id": "a7eb5a45",
   "metadata": {
    "slideshow": {
     "slide_type": "slide"
    }
   },
   "source": [
    "La opción `precision=2` limita la precisión decimal a dos dígitos distintos de cero."
   ]
  },
  {
   "cell_type": "markdown",
   "id": "0f87101c",
   "metadata": {
    "slideshow": {
     "slide_type": "slide"
    }
   },
   "source": [
    "Una función estrechamente relacionada, `pandas.qcut`, separa los datos basándose en los cuantiles de la muestra. Dependiendo de la distribución de los datos, el uso de `pandas.cut` no siempre resultará en que cada contenedor tenga el mismo número de puntos de datos. Dado que `pandas.qcut` utiliza los cuantiles de la muestra en su lugar, obtendrá intervalos de tamaño más o menos igual:"
   ]
  },
  {
   "cell_type": "code",
   "execution_count": 66,
   "id": "f0fba8be",
   "metadata": {
    "slideshow": {
     "slide_type": "slide"
    }
   },
   "outputs": [
    {
     "data": {
      "text/plain": [
       "array([-3.09268346e-01,  8.60592035e-01, -1.85165971e-01, -4.71546927e-01,\n",
       "        3.18580942e-01, -2.06018529e+00,  3.72494003e-01, -5.69119202e-01,\n",
       "       -5.04604078e-01, -5.87250433e-01, -2.37701074e-01, -2.92980763e-01,\n",
       "        2.41436268e+00,  2.18157475e-01, -3.98198873e-01,  1.04274608e+00,\n",
       "        1.76838058e+00,  1.35027966e+00,  2.46026619e-02,  5.25024303e-01,\n",
       "        6.71442706e-01, -7.35708038e-01, -1.00038276e+00, -5.18769871e-01,\n",
       "       -8.88890755e-02,  4.39346501e-01, -1.59845881e-02, -1.61451172e+00,\n",
       "        9.94131773e-01,  7.00355220e-01,  8.15292370e-01, -5.23127661e-02,\n",
       "        8.46694004e-01,  5.06151274e-01,  9.69795320e-01,  6.10639750e-02,\n",
       "       -8.07918762e-01,  6.57095397e-01, -1.20144435e+00,  8.21814785e-01,\n",
       "       -3.51248424e-01, -6.72352785e-01,  7.86341241e-01,  3.56367869e-02,\n",
       "        1.92860011e+00,  4.57564391e-01, -6.18631735e-01,  6.32390262e-01,\n",
       "        7.26868265e-01,  4.10636040e-02, -3.15152220e-02,  1.19819443e+00,\n",
       "       -8.01919336e-01,  2.79278217e+00, -2.47234652e+00, -4.78204188e-01,\n",
       "       -2.19958371e-01, -2.73530584e-02,  3.90029787e-01,  3.81031740e-01,\n",
       "        1.27537811e+00, -1.05800150e-01, -2.48855624e-03, -1.36257456e-02,\n",
       "       -2.27636009e+00,  2.07158691e+00, -1.38691465e+00, -1.17082324e+00,\n",
       "       -2.04800602e-01, -2.21489729e-01, -1.03700893e+00, -1.66312304e+00,\n",
       "       -9.61340329e-01, -2.74095406e-01, -8.82248913e-01,  9.32496885e-01,\n",
       "        1.64419914e+00, -4.35269089e-01, -1.52656795e+00,  5.23257697e-01,\n",
       "       -1.44980007e+00,  5.01329837e-01,  4.80890515e-01,  5.37898682e-01,\n",
       "       -6.89481161e-01, -8.97477336e-01,  8.28645977e-01,  1.13103556e+00,\n",
       "        1.05551220e-01, -1.45713356e+00,  4.99436546e-01, -1.86124920e-03,\n",
       "       -2.75678452e-01, -1.85692110e-01,  1.09534827e+00, -2.56469495e-01,\n",
       "        9.38507094e-01, -7.45412024e-01, -1.11466974e+00,  4.01996108e-01,\n",
       "       -1.83961532e+00,  1.36919511e+00, -5.01201700e-01, -1.11893851e+00,\n",
       "        8.62499570e-02,  3.54041404e-01, -1.29071919e+00,  5.04660890e-01,\n",
       "        2.80471016e-01, -1.03417018e+00,  3.75831688e-01, -2.04531061e-01,\n",
       "        9.85776916e-01, -3.27398788e-01,  6.62295265e-01, -9.60964031e-01,\n",
       "        2.58043209e-01,  7.82707346e-01, -1.08165438e-01, -9.03340188e-01,\n",
       "       -9.52868686e-01,  3.02278562e-01,  1.43142997e+00, -1.79218247e+00,\n",
       "        8.60728954e-01, -1.10607226e-01, -1.32284236e+00, -2.02886214e-01,\n",
       "       -2.12914526e-01,  2.03061056e+00, -9.40222998e-02,  6.42632115e-01,\n",
       "       -7.51072723e-01,  1.99098525e-01,  1.13887845e-02, -1.20669636e+00,\n",
       "        9.82088223e-01, -8.28629631e-01,  5.61758509e-01,  1.01555767e+00,\n",
       "        4.87769968e-01,  1.58313251e+00,  2.17235983e+00,  1.65139780e-01,\n",
       "        3.28140724e-01,  6.35500047e-01,  1.10406647e+00, -1.04331025e+00,\n",
       "        1.46497723e+00, -7.71639287e-01,  1.43230266e-01,  2.17681350e-01,\n",
       "        1.99273490e+00,  7.68368223e-01, -6.62703376e-01,  6.15931139e-02,\n",
       "       -8.60695071e-01,  1.95431355e-02,  3.78399446e-01, -1.58542875e+00,\n",
       "       -1.36503953e+00, -1.41242102e+00,  1.63034652e+00,  9.84878855e-01,\n",
       "        1.84947319e+00, -4.05646408e-01, -3.59958343e-01, -1.97047605e+00,\n",
       "       -7.20915804e-01,  3.15693647e-01,  1.23773815e+00,  3.49312896e-01,\n",
       "       -1.67805856e-01,  1.87940811e+00, -4.65651715e-01,  1.72917051e-01,\n",
       "       -6.42506858e-01,  1.31637356e+00, -1.41662495e-01,  2.00193915e-02,\n",
       "        8.79818270e-01, -9.71976179e-01, -1.30810972e+00,  1.82740694e-01,\n",
       "        1.00268301e+00,  1.92848133e+00,  6.34402226e-01, -6.76159099e-01,\n",
       "        5.47130966e-01,  1.27006164e+00,  6.04867269e-01, -3.09941657e-01,\n",
       "        5.72835382e-01, -4.05216138e-02,  5.85229475e-01, -1.58054945e+00,\n",
       "       -1.57017369e+00,  1.88908884e+00, -1.63729771e-02,  2.44898058e-01,\n",
       "        9.28828149e-01,  5.90418502e-01, -1.04040898e+00, -6.94530247e-02,\n",
       "       -4.96856877e-01,  2.26498287e-01,  5.29231065e-01,  2.01466071e+00,\n",
       "        4.66826914e-01, -2.57697963e+00, -4.98666939e-01, -1.19265084e+00,\n",
       "        5.36416553e-01,  6.45701642e-01, -9.70058077e-01, -5.52599163e-01,\n",
       "        1.37463377e+00,  1.15421082e-01, -2.19660132e-01, -3.43490238e-01,\n",
       "       -9.17016411e-01,  4.11622469e-01,  6.91630121e-01,  1.16758005e-01,\n",
       "       -1.32488973e+00,  1.25063751e+00, -3.00180387e-01, -1.20829833e+00,\n",
       "        1.06078862e+00,  8.10201535e-02, -1.67108340e+00,  7.94338828e-02,\n",
       "       -6.09442860e-01, -1.45872335e+00, -3.18240168e-01, -7.92146436e-01,\n",
       "       -3.17531058e-01, -1.25797782e+00, -1.69583479e-02,  6.25189052e-01,\n",
       "        2.08475044e+00, -5.75298222e-01,  2.14991175e-01,  6.41937159e-01,\n",
       "        1.02694092e+00, -6.96705310e-01, -2.01579435e+00, -9.44239730e-01,\n",
       "       -8.32938464e-01, -1.24438280e+00,  7.22077763e-01, -2.38651479e-01,\n",
       "        5.95701647e-01,  1.05309887e+00,  3.32137642e-01, -5.08979232e-01,\n",
       "       -8.90438991e-01,  2.10529008e-02, -1.94999210e+00,  8.26862050e-01,\n",
       "       -1.09375330e+00, -4.09497098e-01,  6.08942513e-01, -1.07929028e+00,\n",
       "       -6.43112956e-01,  1.89010017e+00,  4.26287262e-01, -1.29077637e+00,\n",
       "        1.08376394e+00, -1.98769310e+00, -7.44649731e-01, -6.22797481e-01,\n",
       "        9.52168127e-01,  7.37701688e-01, -7.67021474e-01, -7.70042499e-02,\n",
       "        1.18174642e+00, -2.59427172e-01,  7.40687072e-01,  5.15772019e-01,\n",
       "        5.03492024e-03, -8.27717732e-01,  1.30987942e+00, -6.29675175e-01,\n",
       "        8.85833056e-01, -1.05617479e+00,  3.32521837e-02,  9.51440480e-01,\n",
       "        1.67452997e-01, -9.52075347e-01,  3.31819014e-02,  1.52270706e+00,\n",
       "        2.63494114e-01,  1.02686647e+00, -7.82192281e-01,  1.20849176e+00,\n",
       "        1.16804856e+00, -8.45907507e-01, -1.22802233e+00, -1.06726216e-01,\n",
       "        6.34083930e-02,  3.02383878e+00, -1.78639223e-02,  3.51167669e-01,\n",
       "        2.27386586e+00,  4.88431238e-01, -5.26203287e-01, -2.24649857e-01,\n",
       "       -2.09789453e-01,  9.49802584e-01, -7.81449367e-01,  1.77704544e-01,\n",
       "        1.19751765e+00,  1.14082949e+00, -3.53561929e-01, -1.29532774e+00,\n",
       "       -1.78337764e+00, -3.15620334e-01, -5.10438195e-01, -3.50879648e-01,\n",
       "        5.63479724e-01, -9.70153431e-01,  1.41530682e+00,  1.08389901e+00,\n",
       "        1.37449947e+00, -1.04136087e+00,  4.69189512e-01, -1.36137467e-01,\n",
       "       -1.93223075e-01,  9.26028168e-01,  7.31726402e-01,  1.33694055e+00,\n",
       "        7.27480945e-01, -1.56671220e-01, -9.60218493e-01, -1.22499800e+00,\n",
       "        1.09879100e+00, -1.81982331e-01, -1.19687893e+00,  7.10613854e-01,\n",
       "        4.68212433e-01, -8.42740836e-01, -9.61867790e-01,  1.02495206e+00,\n",
       "       -1.64659994e+00,  6.44906673e-01,  8.48592767e-01,  1.09545370e+00,\n",
       "       -5.16284047e-01,  2.23414663e+00, -2.24447702e+00,  1.26323827e+00,\n",
       "       -1.07232496e+00,  7.21080781e-01,  1.89544644e+00, -1.57204687e+00,\n",
       "        2.06676934e-01,  1.06517316e+00,  8.03710561e-01, -1.84885185e+00,\n",
       "       -1.33946884e+00,  7.02907255e-02, -3.85017852e-01, -1.28560694e-01,\n",
       "       -6.74026256e-01, -9.38571665e-01, -8.51443466e-01,  1.20551487e+00,\n",
       "       -9.98953962e-01, -1.91774602e-01, -9.00602169e-01, -5.34630348e-01,\n",
       "       -6.09207403e-01, -1.13114158e+00, -1.09227010e+00,  5.84027992e-01,\n",
       "       -9.76956447e-01, -3.13222630e-01, -8.45920015e-01, -8.48023294e-02,\n",
       "        2.56718825e+00, -1.50126830e+00, -3.64824561e-01,  4.09719897e-01,\n",
       "        1.01094782e+00, -4.78464347e-01,  1.54524631e-01, -5.24441033e-01,\n",
       "       -9.61864349e-01, -7.42235359e-01, -5.56126590e-01,  1.12912398e+00,\n",
       "       -7.09268964e-01,  2.73315864e-01,  1.07714166e+00, -3.61084276e-01,\n",
       "       -1.08439007e+00,  3.01363420e-01, -5.08475020e-01, -1.05829110e+00,\n",
       "       -6.45381682e-01, -4.50839654e-01,  1.18024009e+00,  1.66147634e-01,\n",
       "        2.25629171e+00,  1.12640729e+00,  5.07941947e-01, -1.87756808e+00,\n",
       "        1.53663884e+00,  5.26011114e-01,  2.79754991e-01,  6.79758897e-01,\n",
       "        4.44232000e-01, -1.14072897e-01, -5.02873995e-01, -3.08843739e-01,\n",
       "        1.81798564e+00,  1.29944290e+00,  1.23727390e+00, -7.49682420e-01,\n",
       "       -1.05829214e+00, -5.11205273e-01, -1.43174805e+00, -6.27862270e-01,\n",
       "       -2.77835811e+00,  2.54382471e+00, -1.72046084e+00,  3.35483005e-01,\n",
       "        1.01202712e-01,  1.64207547e+00,  8.14255656e-01, -1.16790531e+00,\n",
       "        6.31435234e-01,  4.21685315e-01,  1.03204133e+00, -2.14145004e+00,\n",
       "        7.04937795e-01,  8.74993007e-01,  5.08208534e-01, -1.14159534e+00,\n",
       "       -1.05254367e+00, -5.53387611e-01,  3.75875597e-01,  2.48809299e-01,\n",
       "       -6.67896063e-02,  3.46877478e-01, -4.60435790e-01, -7.74156897e-01,\n",
       "        2.96484411e-01,  2.46397224e-01,  1.69279734e+00,  9.79951611e-02,\n",
       "       -9.17033645e-01,  1.37886402e-01,  3.93931825e-01,  1.33883476e+00,\n",
       "        2.26413442e+00, -1.31072402e+00, -8.40048565e-01,  3.95243454e-01,\n",
       "        2.43305487e+00, -8.81022990e-01,  6.19582954e-01,  1.12155094e+00,\n",
       "       -5.17472391e-01, -2.89437307e-01, -3.32125501e-01, -4.07937355e-02,\n",
       "        4.62444035e-01,  2.51077456e-01,  1.06189834e-01, -6.11502344e-01,\n",
       "       -1.13913939e+00,  9.59961946e-01,  9.08121762e-03,  2.09343808e-01,\n",
       "       -1.25652260e+00, -6.59700135e-01,  1.56301160e+00, -6.29778691e-01,\n",
       "       -7.15063888e-01,  6.04512005e-01, -1.90535437e+00, -1.44883249e+00,\n",
       "        8.14990357e-01, -6.66500714e-01, -1.14464360e+00,  2.27483749e+00,\n",
       "       -1.68274321e+00,  6.81008608e-01,  2.55383519e-01,  3.45071565e-02,\n",
       "       -1.16916333e+00, -1.14426740e+00, -3.96180424e-01, -1.75299737e+00,\n",
       "       -1.12912911e+00,  5.93111721e-02, -9.77834528e-01,  1.28412137e-01,\n",
       "        5.10342484e-01,  7.12188832e-01,  8.18563086e-01,  1.12613290e+00,\n",
       "        1.09710281e+00, -1.29128541e+00,  1.22065493e+00,  4.92222266e-01,\n",
       "       -9.86541551e-01,  7.12507441e-01, -1.35981310e+00,  1.49323818e+00,\n",
       "        7.77845602e-01,  9.41578260e-01, -1.48393373e+00, -9.04695232e-01,\n",
       "        1.36381687e+00,  5.37648814e-01, -5.00003208e-01,  1.78358506e+00,\n",
       "       -1.15879832e+00,  8.20496519e-01, -4.94364596e-01,  2.17837658e+00,\n",
       "        1.41977464e+00, -1.76228037e-01, -3.30814262e-01,  5.15190090e-01,\n",
       "       -2.40400528e+00, -4.95161556e-01, -3.56187149e-01,  5.73522489e-02,\n",
       "        1.46270843e+00,  7.11375491e-01, -7.48127219e-02, -3.83232450e-02,\n",
       "        4.78722590e-02, -1.01895564e+00,  1.75977623e+00, -1.24034525e+00,\n",
       "       -1.84184422e+00,  4.53491738e-01,  1.00775589e+00, -2.34025047e-01,\n",
       "       -1.20237228e-01, -1.15564996e+00, -2.27881982e-01, -2.42047447e+00,\n",
       "       -5.59621487e-01, -1.10079534e+00, -1.27141187e+00,  8.69693706e-01,\n",
       "       -1.19290203e+00, -1.61128941e+00,  4.11793831e-01, -1.67709830e+00,\n",
       "        4.27736551e-01, -2.43852504e-01,  4.45785625e-01, -5.49069413e-01,\n",
       "       -7.00621729e-01, -4.78621612e-01, -4.86101610e-02, -1.91599751e+00,\n",
       "        3.87937683e-01, -3.82247536e-01,  2.55835543e-01, -1.13860317e+00,\n",
       "       -2.58986955e-01, -1.18039187e-01,  4.06296171e-01,  5.15863383e-01,\n",
       "        7.31947584e-01, -7.74874945e-01,  1.72355415e-02,  2.81435319e-01,\n",
       "       -1.37399801e+00, -1.72923840e+00,  1.90800417e-01, -5.55484975e-01,\n",
       "        3.95037648e-01, -5.97066569e-01,  5.12814344e-01, -2.90991355e+00,\n",
       "        7.68422851e-01, -1.11029570e+00, -1.33867880e-04, -5.49366646e-01,\n",
       "       -9.61594217e-01, -4.66752095e-01, -7.37255700e-01,  1.09049293e+00,\n",
       "       -2.54584541e-02, -2.27226234e-01, -4.49194622e-01, -7.36552104e-01,\n",
       "        2.36728628e+00,  5.51454578e-01, -9.79094115e-01,  7.44421392e-01,\n",
       "        1.90455285e+00, -1.93851963e-01, -8.58562410e-01,  1.99603906e+00,\n",
       "       -1.18881997e+00,  1.18747598e+00,  1.12865126e+00,  3.14527466e-01,\n",
       "       -3.22895037e-01, -3.58190574e-01, -7.60142152e-01, -8.11328906e-01,\n",
       "       -6.11383193e-02, -1.99509390e+00, -1.04802383e-01,  6.35682540e-01,\n",
       "        1.15615366e+00,  1.19754346e+00,  4.71796927e-01,  2.52417290e-01,\n",
       "        3.21197767e-01, -1.38491294e+00,  8.75615672e-01, -9.28779904e-01,\n",
       "        1.69754039e-01,  4.28867741e-01, -2.36230143e-01, -1.93713510e-01,\n",
       "       -5.47707739e-01, -1.36940031e+00,  2.31047366e-01,  2.17261526e-01,\n",
       "        1.11087164e-01,  2.34150483e-01,  9.54662878e-01, -1.67513752e+00,\n",
       "        8.02407873e-01, -3.72839614e-01, -1.36556999e+00,  1.51562822e-01,\n",
       "        1.53422161e+00, -4.38910442e-02, -1.33370014e-01, -1.16766264e+00,\n",
       "        1.23692776e+00,  2.84774967e-01,  1.99112800e-01, -5.93717014e-02,\n",
       "        1.54838677e+00,  3.83322451e-01, -5.47283301e-02,  1.11720496e-01,\n",
       "       -1.13416797e-01, -2.42752534e-01, -1.68072318e+00,  2.86769466e-01,\n",
       "       -2.23121143e+00, -1.01582118e+00,  4.77827095e-01, -3.78045466e-01,\n",
       "       -6.67960766e-01, -2.38370424e-03, -5.55123836e-02,  6.19979715e-01,\n",
       "        9.78332540e-01, -6.37598994e-01,  5.17101960e-01, -8.54162587e-01,\n",
       "       -4.55114834e-02,  2.08962926e-01, -2.47300925e-01, -3.05559491e+00,\n",
       "       -9.40185613e-01,  1.77934135e+00, -4.87723810e-03,  1.75402631e+00,\n",
       "        2.10827248e-01, -1.61934998e-01,  3.61532566e-01, -9.04356143e-01,\n",
       "        1.09538966e+00, -3.08838474e-01,  9.62184145e-01,  3.74408873e-01,\n",
       "        6.62005675e-01, -1.22959830e+00,  4.88991196e-01,  7.73305070e-02,\n",
       "       -8.72607679e-01,  1.08605249e-01,  1.72295493e-02, -6.04677322e-01,\n",
       "       -9.61898096e-01,  1.13693680e+00, -7.18389161e-02, -1.44261217e+00,\n",
       "        1.28374386e-01, -1.47087775e-02, -1.70619132e+00, -1.90716513e-01,\n",
       "       -3.24860971e-01, -7.05887206e-01,  1.40448980e+00, -2.02958488e-01,\n",
       "        5.69204552e-01, -2.89814440e-01, -2.42118844e-01, -2.00656857e+00,\n",
       "       -1.35533416e+00,  1.52567717e+00,  9.72959076e-01, -5.45422436e-01,\n",
       "        7.42383297e-01, -1.08148818e+00,  1.32767104e+00, -2.35578280e-02,\n",
       "        4.33317090e-01,  3.76943823e-01,  1.95475463e+00, -1.82064221e+00,\n",
       "        8.87017996e-01, -1.19482584e+00,  3.12106429e-02,  4.03052627e-01,\n",
       "       -1.48738818e+00,  2.56216310e+00, -2.38849025e-01, -4.94276485e-02,\n",
       "       -1.63186521e+00, -1.70898494e+00,  1.12656949e+00, -1.25901844e+00,\n",
       "       -1.44696255e-01, -5.97162942e-01,  1.07608643e+00,  6.69923572e-01,\n",
       "        9.28778056e-01,  3.23380420e-01,  8.92891142e-02, -8.00126222e-01,\n",
       "        7.64154671e-01,  1.66329033e+00, -1.51620093e+00, -2.03313442e+00,\n",
       "        4.51129731e-01,  1.07836369e-01,  8.87433521e-01, -6.28807950e-01,\n",
       "        5.99263595e-01, -2.23328867e+00,  6.01250087e-01, -3.17678039e-01,\n",
       "       -1.24611292e-01,  1.01554616e+00,  1.30987246e-01,  4.90832571e-01,\n",
       "       -5.70627524e-01,  2.70698846e-02,  4.38841144e-01,  5.79238746e-02,\n",
       "       -7.84326816e-01, -4.00859959e-01, -4.17699838e-01,  4.30216729e-03,\n",
       "       -2.35507323e-01, -7.05255698e-01, -5.98748319e-01, -9.03045056e-01,\n",
       "       -1.19750292e+00, -2.41960839e+00,  2.15069182e+00, -1.63583756e+00,\n",
       "       -2.01727746e+00, -2.79090666e-02, -4.65805363e-01,  1.15017912e+00,\n",
       "       -5.23151980e-01,  1.39071416e+00, -1.20212572e-01, -2.28260889e-01,\n",
       "        2.91727032e-02, -1.46242581e+00,  1.45355430e+00,  1.06142129e+00,\n",
       "       -1.58992574e-01, -3.80799677e-01,  3.95280846e-01, -9.57040831e-01,\n",
       "       -1.42685143e+00, -6.95878874e-01,  1.40943432e+00,  4.88813264e-01,\n",
       "        6.86800401e-01, -1.23325172e+00,  3.53511392e-01, -9.26079938e-01,\n",
       "       -1.72996774e+00,  1.21475546e+00,  4.16007831e-01,  2.11429390e-01,\n",
       "       -1.62979580e-01,  8.43263894e-01,  2.37007731e-01,  1.54835268e+00,\n",
       "       -2.32347275e-01, -9.62915535e-01,  1.68468249e+00,  3.55668038e-01,\n",
       "       -1.21998223e+00,  6.69693372e-01, -1.61191600e+00,  8.54047528e-01,\n",
       "        3.90426311e-01, -8.28576826e-01,  9.99704677e-02, -5.78747798e-01,\n",
       "        6.88496360e-01,  1.06602326e+00, -1.01935139e+00, -9.25051340e-01,\n",
       "        6.48252429e-01,  6.89636092e-01,  1.27258621e-01, -1.49532013e-01,\n",
       "        5.37328704e-01,  4.56137399e-01,  9.74854842e-02,  1.23908562e+00,\n",
       "        3.35493054e-04, -9.90186215e-01, -8.34965965e-01,  4.81461177e-01,\n",
       "        5.77530648e-02,  7.19790211e-01, -1.11552106e+00,  1.41280510e+00,\n",
       "        5.68908691e-01, -1.80023803e+00, -5.06270369e-01, -2.71319297e-01,\n",
       "       -4.73940056e-01,  7.64512789e-01,  9.11748526e-01,  1.97668048e+00,\n",
       "        5.25999850e-01, -1.63210998e+00,  2.35479943e-01, -5.03794545e-01,\n",
       "       -3.53222299e-01, -1.25860628e+00, -1.04047704e+00,  3.97248289e-01,\n",
       "        1.73483070e+00,  2.02050686e-02,  1.05985139e-01,  9.84534321e-01,\n",
       "       -8.44795102e-01,  4.70492557e-01, -3.97899857e-01,  1.09627218e+00,\n",
       "        9.36978860e-01,  2.63366316e-01,  1.20285694e+00, -2.01178507e+00,\n",
       "       -3.68973924e-01,  1.07838874e+00,  1.69027246e-01,  4.00813399e-01,\n",
       "        3.34616077e-01,  1.40420750e+00, -1.32341073e+00,  8.70952045e-03,\n",
       "       -1.15299365e+00, -2.15891871e-02, -5.25277335e-03, -5.89591021e-01,\n",
       "       -1.53543179e+00, -7.69085132e-01,  9.52898019e-01,  2.94182177e-02,\n",
       "       -3.47969635e-01, -1.29136194e+00,  7.49788395e-02,  3.04891690e-01,\n",
       "       -7.39824776e-01,  9.82274988e-02,  1.03384677e+00,  8.26317234e-01,\n",
       "       -4.29489347e-01, -9.98157323e-01, -8.29956059e-01,  1.78758718e+00,\n",
       "        3.14554942e-01,  2.11812790e+00, -1.70032019e+00,  2.31829691e-01,\n",
       "       -2.04067195e-01,  9.95122000e-01,  8.80785162e-02, -1.05552639e+00,\n",
       "       -1.38204501e+00,  1.07811947e+00,  4.71620472e-01,  7.69844764e-01,\n",
       "       -7.53479010e-01,  6.16647012e-01,  5.35490857e-01,  1.02374830e-02,\n",
       "        1.44326294e+00,  4.49244552e-01,  9.30205133e-01,  7.60828808e-01,\n",
       "        4.25147757e-01, -4.46862482e-01,  1.23880667e+00,  5.55995469e-01,\n",
       "        7.60676863e-01, -2.99612412e-01,  1.02515014e+00, -5.94500674e-01,\n",
       "        8.28954022e-01,  5.92964272e-01,  2.31075423e+00,  1.79745834e+00,\n",
       "        1.94521769e+00, -1.92795553e-01,  2.00605443e+00, -2.76209574e-01,\n",
       "       -1.32714989e+00,  1.78441775e+00, -1.23638839e+00,  5.15882624e-02,\n",
       "        6.32238566e-01,  1.16394204e+00,  3.51277880e-01, -9.44758070e-03,\n",
       "        5.73256836e-01,  1.47238609e-01, -6.54738417e-01, -1.16849207e+00,\n",
       "        6.08570456e-02,  8.14753422e-01,  1.49608607e+00,  1.07799227e+00,\n",
       "        3.83705100e-01, -2.07691524e-02, -1.06162450e+00, -7.15077169e-01,\n",
       "       -1.04349543e+00, -1.90270139e+00, -1.60646874e+00,  6.57218460e-01,\n",
       "        5.21689517e-01,  5.92552254e-01, -7.44364800e-01, -1.31074913e+00,\n",
       "        1.84203192e+00,  3.25020301e-01,  8.51208711e-01, -9.04316690e-01,\n",
       "       -5.49410427e-02,  4.95938743e-01,  2.59713503e-01, -6.35464939e-01,\n",
       "       -8.74382574e-01, -7.51572357e-01, -4.96548319e-01, -8.55387315e-02,\n",
       "        1.24909652e-03,  4.52093627e-01,  1.19856677e+00, -5.30357100e-01,\n",
       "       -5.31436485e-01,  1.17085033e+00, -1.52306953e+00, -4.05636736e-01,\n",
       "       -8.06955081e-01,  2.11176034e-01, -6.37571576e-01, -1.09515301e+00,\n",
       "        3.37283585e-01,  2.10537280e-01,  9.85367536e-01, -3.96144019e-01,\n",
       "       -1.77486982e+00, -3.10229125e-01,  1.18639733e-01, -5.12327372e-01,\n",
       "        9.14786690e-01, -2.12432464e-01,  8.70033125e-01, -1.01773259e+00,\n",
       "        3.32830475e-01,  5.40909813e-01, -5.63247260e-01,  1.41946058e+00,\n",
       "       -5.70250932e-01, -2.85588574e-01,  6.93969025e-01, -3.73542503e-01])"
      ]
     },
     "execution_count": 66,
     "metadata": {},
     "output_type": "execute_result"
    }
   ],
   "source": [
    "data = np.random.standard_normal(1000)\n",
    "data"
   ]
  },
  {
   "cell_type": "code",
   "execution_count": 67,
   "id": "574ec0c0",
   "metadata": {
    "slideshow": {
     "slide_type": "slide"
    }
   },
   "outputs": [
    {
     "data": {
      "text/plain": [
       "[(-0.72, 0.0047], (0.65, 3.02], (-0.72, 0.0047], (-0.72, 0.0047], (0.0047, 0.65], ..., (0.65, 3.02], (-0.72, 0.0047], (-0.72, 0.0047], (0.65, 3.02], (-0.72, 0.0047]]\n",
       "Length: 1000\n",
       "Categories (4, interval[float64, right]): [(-3.07, -0.72] < (-0.72, 0.0047] < (0.0047, 0.65] < (0.65, 3.02]]"
      ]
     },
     "execution_count": 67,
     "metadata": {},
     "output_type": "execute_result"
    }
   ],
   "source": [
    "quartiles = pd.qcut(data, 4, precision=2)\n",
    "quartiles"
   ]
  },
  {
   "cell_type": "code",
   "execution_count": 68,
   "id": "80003eb5",
   "metadata": {
    "slideshow": {
     "slide_type": "slide"
    }
   },
   "outputs": [
    {
     "name": "stderr",
     "output_type": "stream",
     "text": [
      "C:\\Users\\juanj\\AppData\\Local\\Temp\\ipykernel_24584\\3472704981.py:1: FutureWarning: pandas.value_counts is deprecated and will be removed in a future version. Use pd.Series(obj).value_counts() instead.\n",
      "  pd.value_counts(quartiles)\n"
     ]
    },
    {
     "data": {
      "text/plain": [
       "(-3.07, -0.72]     250\n",
       "(-0.72, 0.0047]    250\n",
       "(0.0047, 0.65]     250\n",
       "(0.65, 3.02]       250\n",
       "Name: count, dtype: int64"
      ]
     },
     "execution_count": 68,
     "metadata": {},
     "output_type": "execute_result"
    }
   ],
   "source": [
    "pd.value_counts(quartiles)"
   ]
  },
  {
   "cell_type": "code",
   "execution_count": 69,
   "id": "9f1d2c9e-49e1-4bba-b157-e056b77e9fc7",
   "metadata": {},
   "outputs": [
    {
     "data": {
      "text/plain": [
       "(-3.07, -0.72]     250\n",
       "(-0.72, 0.0047]    250\n",
       "(0.0047, 0.65]     250\n",
       "(0.65, 3.02]       250\n",
       "Name: count, dtype: int64"
      ]
     },
     "execution_count": 69,
     "metadata": {},
     "output_type": "execute_result"
    }
   ],
   "source": [
    "pd.Series(quartiles).value_counts()"
   ]
  },
  {
   "cell_type": "markdown",
   "id": "7e753681",
   "metadata": {
    "slideshow": {
     "slide_type": "slide"
    }
   },
   "source": [
    "De forma similar a `pandas.cut`, el usuario puede pasar sus propios cuantiles (números entre 0 y 1, ambos inclusive):"
   ]
  },
  {
   "cell_type": "code",
   "execution_count": 70,
   "id": "ac74023d-fc8a-4f0f-8ea2-62778a8b6e79",
   "metadata": {},
   "outputs": [
    {
     "data": {
      "text/plain": [
       "array([-3.09268346e-01,  8.60592035e-01, -1.85165971e-01, -4.71546927e-01,\n",
       "        3.18580942e-01, -2.06018529e+00,  3.72494003e-01, -5.69119202e-01,\n",
       "       -5.04604078e-01, -5.87250433e-01, -2.37701074e-01, -2.92980763e-01,\n",
       "        2.41436268e+00,  2.18157475e-01, -3.98198873e-01,  1.04274608e+00,\n",
       "        1.76838058e+00,  1.35027966e+00,  2.46026619e-02,  5.25024303e-01,\n",
       "        6.71442706e-01, -7.35708038e-01, -1.00038276e+00, -5.18769871e-01,\n",
       "       -8.88890755e-02,  4.39346501e-01, -1.59845881e-02, -1.61451172e+00,\n",
       "        9.94131773e-01,  7.00355220e-01,  8.15292370e-01, -5.23127661e-02,\n",
       "        8.46694004e-01,  5.06151274e-01,  9.69795320e-01,  6.10639750e-02,\n",
       "       -8.07918762e-01,  6.57095397e-01, -1.20144435e+00,  8.21814785e-01,\n",
       "       -3.51248424e-01, -6.72352785e-01,  7.86341241e-01,  3.56367869e-02,\n",
       "        1.92860011e+00,  4.57564391e-01, -6.18631735e-01,  6.32390262e-01,\n",
       "        7.26868265e-01,  4.10636040e-02, -3.15152220e-02,  1.19819443e+00,\n",
       "       -8.01919336e-01,  2.79278217e+00, -2.47234652e+00, -4.78204188e-01,\n",
       "       -2.19958371e-01, -2.73530584e-02,  3.90029787e-01,  3.81031740e-01,\n",
       "        1.27537811e+00, -1.05800150e-01, -2.48855624e-03, -1.36257456e-02,\n",
       "       -2.27636009e+00,  2.07158691e+00, -1.38691465e+00, -1.17082324e+00,\n",
       "       -2.04800602e-01, -2.21489729e-01, -1.03700893e+00, -1.66312304e+00,\n",
       "       -9.61340329e-01, -2.74095406e-01, -8.82248913e-01,  9.32496885e-01,\n",
       "        1.64419914e+00, -4.35269089e-01, -1.52656795e+00,  5.23257697e-01,\n",
       "       -1.44980007e+00,  5.01329837e-01,  4.80890515e-01,  5.37898682e-01,\n",
       "       -6.89481161e-01, -8.97477336e-01,  8.28645977e-01,  1.13103556e+00,\n",
       "        1.05551220e-01, -1.45713356e+00,  4.99436546e-01, -1.86124920e-03,\n",
       "       -2.75678452e-01, -1.85692110e-01,  1.09534827e+00, -2.56469495e-01,\n",
       "        9.38507094e-01, -7.45412024e-01, -1.11466974e+00,  4.01996108e-01,\n",
       "       -1.83961532e+00,  1.36919511e+00, -5.01201700e-01, -1.11893851e+00,\n",
       "        8.62499570e-02,  3.54041404e-01, -1.29071919e+00,  5.04660890e-01,\n",
       "        2.80471016e-01, -1.03417018e+00,  3.75831688e-01, -2.04531061e-01,\n",
       "        9.85776916e-01, -3.27398788e-01,  6.62295265e-01, -9.60964031e-01,\n",
       "        2.58043209e-01,  7.82707346e-01, -1.08165438e-01, -9.03340188e-01,\n",
       "       -9.52868686e-01,  3.02278562e-01,  1.43142997e+00, -1.79218247e+00,\n",
       "        8.60728954e-01, -1.10607226e-01, -1.32284236e+00, -2.02886214e-01,\n",
       "       -2.12914526e-01,  2.03061056e+00, -9.40222998e-02,  6.42632115e-01,\n",
       "       -7.51072723e-01,  1.99098525e-01,  1.13887845e-02, -1.20669636e+00,\n",
       "        9.82088223e-01, -8.28629631e-01,  5.61758509e-01,  1.01555767e+00,\n",
       "        4.87769968e-01,  1.58313251e+00,  2.17235983e+00,  1.65139780e-01,\n",
       "        3.28140724e-01,  6.35500047e-01,  1.10406647e+00, -1.04331025e+00,\n",
       "        1.46497723e+00, -7.71639287e-01,  1.43230266e-01,  2.17681350e-01,\n",
       "        1.99273490e+00,  7.68368223e-01, -6.62703376e-01,  6.15931139e-02,\n",
       "       -8.60695071e-01,  1.95431355e-02,  3.78399446e-01, -1.58542875e+00,\n",
       "       -1.36503953e+00, -1.41242102e+00,  1.63034652e+00,  9.84878855e-01,\n",
       "        1.84947319e+00, -4.05646408e-01, -3.59958343e-01, -1.97047605e+00,\n",
       "       -7.20915804e-01,  3.15693647e-01,  1.23773815e+00,  3.49312896e-01,\n",
       "       -1.67805856e-01,  1.87940811e+00, -4.65651715e-01,  1.72917051e-01,\n",
       "       -6.42506858e-01,  1.31637356e+00, -1.41662495e-01,  2.00193915e-02,\n",
       "        8.79818270e-01, -9.71976179e-01, -1.30810972e+00,  1.82740694e-01,\n",
       "        1.00268301e+00,  1.92848133e+00,  6.34402226e-01, -6.76159099e-01,\n",
       "        5.47130966e-01,  1.27006164e+00,  6.04867269e-01, -3.09941657e-01,\n",
       "        5.72835382e-01, -4.05216138e-02,  5.85229475e-01, -1.58054945e+00,\n",
       "       -1.57017369e+00,  1.88908884e+00, -1.63729771e-02,  2.44898058e-01,\n",
       "        9.28828149e-01,  5.90418502e-01, -1.04040898e+00, -6.94530247e-02,\n",
       "       -4.96856877e-01,  2.26498287e-01,  5.29231065e-01,  2.01466071e+00,\n",
       "        4.66826914e-01, -2.57697963e+00, -4.98666939e-01, -1.19265084e+00,\n",
       "        5.36416553e-01,  6.45701642e-01, -9.70058077e-01, -5.52599163e-01,\n",
       "        1.37463377e+00,  1.15421082e-01, -2.19660132e-01, -3.43490238e-01,\n",
       "       -9.17016411e-01,  4.11622469e-01,  6.91630121e-01,  1.16758005e-01,\n",
       "       -1.32488973e+00,  1.25063751e+00, -3.00180387e-01, -1.20829833e+00,\n",
       "        1.06078862e+00,  8.10201535e-02, -1.67108340e+00,  7.94338828e-02,\n",
       "       -6.09442860e-01, -1.45872335e+00, -3.18240168e-01, -7.92146436e-01,\n",
       "       -3.17531058e-01, -1.25797782e+00, -1.69583479e-02,  6.25189052e-01,\n",
       "        2.08475044e+00, -5.75298222e-01,  2.14991175e-01,  6.41937159e-01,\n",
       "        1.02694092e+00, -6.96705310e-01, -2.01579435e+00, -9.44239730e-01,\n",
       "       -8.32938464e-01, -1.24438280e+00,  7.22077763e-01, -2.38651479e-01,\n",
       "        5.95701647e-01,  1.05309887e+00,  3.32137642e-01, -5.08979232e-01,\n",
       "       -8.90438991e-01,  2.10529008e-02, -1.94999210e+00,  8.26862050e-01,\n",
       "       -1.09375330e+00, -4.09497098e-01,  6.08942513e-01, -1.07929028e+00,\n",
       "       -6.43112956e-01,  1.89010017e+00,  4.26287262e-01, -1.29077637e+00,\n",
       "        1.08376394e+00, -1.98769310e+00, -7.44649731e-01, -6.22797481e-01,\n",
       "        9.52168127e-01,  7.37701688e-01, -7.67021474e-01, -7.70042499e-02,\n",
       "        1.18174642e+00, -2.59427172e-01,  7.40687072e-01,  5.15772019e-01,\n",
       "        5.03492024e-03, -8.27717732e-01,  1.30987942e+00, -6.29675175e-01,\n",
       "        8.85833056e-01, -1.05617479e+00,  3.32521837e-02,  9.51440480e-01,\n",
       "        1.67452997e-01, -9.52075347e-01,  3.31819014e-02,  1.52270706e+00,\n",
       "        2.63494114e-01,  1.02686647e+00, -7.82192281e-01,  1.20849176e+00,\n",
       "        1.16804856e+00, -8.45907507e-01, -1.22802233e+00, -1.06726216e-01,\n",
       "        6.34083930e-02,  3.02383878e+00, -1.78639223e-02,  3.51167669e-01,\n",
       "        2.27386586e+00,  4.88431238e-01, -5.26203287e-01, -2.24649857e-01,\n",
       "       -2.09789453e-01,  9.49802584e-01, -7.81449367e-01,  1.77704544e-01,\n",
       "        1.19751765e+00,  1.14082949e+00, -3.53561929e-01, -1.29532774e+00,\n",
       "       -1.78337764e+00, -3.15620334e-01, -5.10438195e-01, -3.50879648e-01,\n",
       "        5.63479724e-01, -9.70153431e-01,  1.41530682e+00,  1.08389901e+00,\n",
       "        1.37449947e+00, -1.04136087e+00,  4.69189512e-01, -1.36137467e-01,\n",
       "       -1.93223075e-01,  9.26028168e-01,  7.31726402e-01,  1.33694055e+00,\n",
       "        7.27480945e-01, -1.56671220e-01, -9.60218493e-01, -1.22499800e+00,\n",
       "        1.09879100e+00, -1.81982331e-01, -1.19687893e+00,  7.10613854e-01,\n",
       "        4.68212433e-01, -8.42740836e-01, -9.61867790e-01,  1.02495206e+00,\n",
       "       -1.64659994e+00,  6.44906673e-01,  8.48592767e-01,  1.09545370e+00,\n",
       "       -5.16284047e-01,  2.23414663e+00, -2.24447702e+00,  1.26323827e+00,\n",
       "       -1.07232496e+00,  7.21080781e-01,  1.89544644e+00, -1.57204687e+00,\n",
       "        2.06676934e-01,  1.06517316e+00,  8.03710561e-01, -1.84885185e+00,\n",
       "       -1.33946884e+00,  7.02907255e-02, -3.85017852e-01, -1.28560694e-01,\n",
       "       -6.74026256e-01, -9.38571665e-01, -8.51443466e-01,  1.20551487e+00,\n",
       "       -9.98953962e-01, -1.91774602e-01, -9.00602169e-01, -5.34630348e-01,\n",
       "       -6.09207403e-01, -1.13114158e+00, -1.09227010e+00,  5.84027992e-01,\n",
       "       -9.76956447e-01, -3.13222630e-01, -8.45920015e-01, -8.48023294e-02,\n",
       "        2.56718825e+00, -1.50126830e+00, -3.64824561e-01,  4.09719897e-01,\n",
       "        1.01094782e+00, -4.78464347e-01,  1.54524631e-01, -5.24441033e-01,\n",
       "       -9.61864349e-01, -7.42235359e-01, -5.56126590e-01,  1.12912398e+00,\n",
       "       -7.09268964e-01,  2.73315864e-01,  1.07714166e+00, -3.61084276e-01,\n",
       "       -1.08439007e+00,  3.01363420e-01, -5.08475020e-01, -1.05829110e+00,\n",
       "       -6.45381682e-01, -4.50839654e-01,  1.18024009e+00,  1.66147634e-01,\n",
       "        2.25629171e+00,  1.12640729e+00,  5.07941947e-01, -1.87756808e+00,\n",
       "        1.53663884e+00,  5.26011114e-01,  2.79754991e-01,  6.79758897e-01,\n",
       "        4.44232000e-01, -1.14072897e-01, -5.02873995e-01, -3.08843739e-01,\n",
       "        1.81798564e+00,  1.29944290e+00,  1.23727390e+00, -7.49682420e-01,\n",
       "       -1.05829214e+00, -5.11205273e-01, -1.43174805e+00, -6.27862270e-01,\n",
       "       -2.77835811e+00,  2.54382471e+00, -1.72046084e+00,  3.35483005e-01,\n",
       "        1.01202712e-01,  1.64207547e+00,  8.14255656e-01, -1.16790531e+00,\n",
       "        6.31435234e-01,  4.21685315e-01,  1.03204133e+00, -2.14145004e+00,\n",
       "        7.04937795e-01,  8.74993007e-01,  5.08208534e-01, -1.14159534e+00,\n",
       "       -1.05254367e+00, -5.53387611e-01,  3.75875597e-01,  2.48809299e-01,\n",
       "       -6.67896063e-02,  3.46877478e-01, -4.60435790e-01, -7.74156897e-01,\n",
       "        2.96484411e-01,  2.46397224e-01,  1.69279734e+00,  9.79951611e-02,\n",
       "       -9.17033645e-01,  1.37886402e-01,  3.93931825e-01,  1.33883476e+00,\n",
       "        2.26413442e+00, -1.31072402e+00, -8.40048565e-01,  3.95243454e-01,\n",
       "        2.43305487e+00, -8.81022990e-01,  6.19582954e-01,  1.12155094e+00,\n",
       "       -5.17472391e-01, -2.89437307e-01, -3.32125501e-01, -4.07937355e-02,\n",
       "        4.62444035e-01,  2.51077456e-01,  1.06189834e-01, -6.11502344e-01,\n",
       "       -1.13913939e+00,  9.59961946e-01,  9.08121762e-03,  2.09343808e-01,\n",
       "       -1.25652260e+00, -6.59700135e-01,  1.56301160e+00, -6.29778691e-01,\n",
       "       -7.15063888e-01,  6.04512005e-01, -1.90535437e+00, -1.44883249e+00,\n",
       "        8.14990357e-01, -6.66500714e-01, -1.14464360e+00,  2.27483749e+00,\n",
       "       -1.68274321e+00,  6.81008608e-01,  2.55383519e-01,  3.45071565e-02,\n",
       "       -1.16916333e+00, -1.14426740e+00, -3.96180424e-01, -1.75299737e+00,\n",
       "       -1.12912911e+00,  5.93111721e-02, -9.77834528e-01,  1.28412137e-01,\n",
       "        5.10342484e-01,  7.12188832e-01,  8.18563086e-01,  1.12613290e+00,\n",
       "        1.09710281e+00, -1.29128541e+00,  1.22065493e+00,  4.92222266e-01,\n",
       "       -9.86541551e-01,  7.12507441e-01, -1.35981310e+00,  1.49323818e+00,\n",
       "        7.77845602e-01,  9.41578260e-01, -1.48393373e+00, -9.04695232e-01,\n",
       "        1.36381687e+00,  5.37648814e-01, -5.00003208e-01,  1.78358506e+00,\n",
       "       -1.15879832e+00,  8.20496519e-01, -4.94364596e-01,  2.17837658e+00,\n",
       "        1.41977464e+00, -1.76228037e-01, -3.30814262e-01,  5.15190090e-01,\n",
       "       -2.40400528e+00, -4.95161556e-01, -3.56187149e-01,  5.73522489e-02,\n",
       "        1.46270843e+00,  7.11375491e-01, -7.48127219e-02, -3.83232450e-02,\n",
       "        4.78722590e-02, -1.01895564e+00,  1.75977623e+00, -1.24034525e+00,\n",
       "       -1.84184422e+00,  4.53491738e-01,  1.00775589e+00, -2.34025047e-01,\n",
       "       -1.20237228e-01, -1.15564996e+00, -2.27881982e-01, -2.42047447e+00,\n",
       "       -5.59621487e-01, -1.10079534e+00, -1.27141187e+00,  8.69693706e-01,\n",
       "       -1.19290203e+00, -1.61128941e+00,  4.11793831e-01, -1.67709830e+00,\n",
       "        4.27736551e-01, -2.43852504e-01,  4.45785625e-01, -5.49069413e-01,\n",
       "       -7.00621729e-01, -4.78621612e-01, -4.86101610e-02, -1.91599751e+00,\n",
       "        3.87937683e-01, -3.82247536e-01,  2.55835543e-01, -1.13860317e+00,\n",
       "       -2.58986955e-01, -1.18039187e-01,  4.06296171e-01,  5.15863383e-01,\n",
       "        7.31947584e-01, -7.74874945e-01,  1.72355415e-02,  2.81435319e-01,\n",
       "       -1.37399801e+00, -1.72923840e+00,  1.90800417e-01, -5.55484975e-01,\n",
       "        3.95037648e-01, -5.97066569e-01,  5.12814344e-01, -2.90991355e+00,\n",
       "        7.68422851e-01, -1.11029570e+00, -1.33867880e-04, -5.49366646e-01,\n",
       "       -9.61594217e-01, -4.66752095e-01, -7.37255700e-01,  1.09049293e+00,\n",
       "       -2.54584541e-02, -2.27226234e-01, -4.49194622e-01, -7.36552104e-01,\n",
       "        2.36728628e+00,  5.51454578e-01, -9.79094115e-01,  7.44421392e-01,\n",
       "        1.90455285e+00, -1.93851963e-01, -8.58562410e-01,  1.99603906e+00,\n",
       "       -1.18881997e+00,  1.18747598e+00,  1.12865126e+00,  3.14527466e-01,\n",
       "       -3.22895037e-01, -3.58190574e-01, -7.60142152e-01, -8.11328906e-01,\n",
       "       -6.11383193e-02, -1.99509390e+00, -1.04802383e-01,  6.35682540e-01,\n",
       "        1.15615366e+00,  1.19754346e+00,  4.71796927e-01,  2.52417290e-01,\n",
       "        3.21197767e-01, -1.38491294e+00,  8.75615672e-01, -9.28779904e-01,\n",
       "        1.69754039e-01,  4.28867741e-01, -2.36230143e-01, -1.93713510e-01,\n",
       "       -5.47707739e-01, -1.36940031e+00,  2.31047366e-01,  2.17261526e-01,\n",
       "        1.11087164e-01,  2.34150483e-01,  9.54662878e-01, -1.67513752e+00,\n",
       "        8.02407873e-01, -3.72839614e-01, -1.36556999e+00,  1.51562822e-01,\n",
       "        1.53422161e+00, -4.38910442e-02, -1.33370014e-01, -1.16766264e+00,\n",
       "        1.23692776e+00,  2.84774967e-01,  1.99112800e-01, -5.93717014e-02,\n",
       "        1.54838677e+00,  3.83322451e-01, -5.47283301e-02,  1.11720496e-01,\n",
       "       -1.13416797e-01, -2.42752534e-01, -1.68072318e+00,  2.86769466e-01,\n",
       "       -2.23121143e+00, -1.01582118e+00,  4.77827095e-01, -3.78045466e-01,\n",
       "       -6.67960766e-01, -2.38370424e-03, -5.55123836e-02,  6.19979715e-01,\n",
       "        9.78332540e-01, -6.37598994e-01,  5.17101960e-01, -8.54162587e-01,\n",
       "       -4.55114834e-02,  2.08962926e-01, -2.47300925e-01, -3.05559491e+00,\n",
       "       -9.40185613e-01,  1.77934135e+00, -4.87723810e-03,  1.75402631e+00,\n",
       "        2.10827248e-01, -1.61934998e-01,  3.61532566e-01, -9.04356143e-01,\n",
       "        1.09538966e+00, -3.08838474e-01,  9.62184145e-01,  3.74408873e-01,\n",
       "        6.62005675e-01, -1.22959830e+00,  4.88991196e-01,  7.73305070e-02,\n",
       "       -8.72607679e-01,  1.08605249e-01,  1.72295493e-02, -6.04677322e-01,\n",
       "       -9.61898096e-01,  1.13693680e+00, -7.18389161e-02, -1.44261217e+00,\n",
       "        1.28374386e-01, -1.47087775e-02, -1.70619132e+00, -1.90716513e-01,\n",
       "       -3.24860971e-01, -7.05887206e-01,  1.40448980e+00, -2.02958488e-01,\n",
       "        5.69204552e-01, -2.89814440e-01, -2.42118844e-01, -2.00656857e+00,\n",
       "       -1.35533416e+00,  1.52567717e+00,  9.72959076e-01, -5.45422436e-01,\n",
       "        7.42383297e-01, -1.08148818e+00,  1.32767104e+00, -2.35578280e-02,\n",
       "        4.33317090e-01,  3.76943823e-01,  1.95475463e+00, -1.82064221e+00,\n",
       "        8.87017996e-01, -1.19482584e+00,  3.12106429e-02,  4.03052627e-01,\n",
       "       -1.48738818e+00,  2.56216310e+00, -2.38849025e-01, -4.94276485e-02,\n",
       "       -1.63186521e+00, -1.70898494e+00,  1.12656949e+00, -1.25901844e+00,\n",
       "       -1.44696255e-01, -5.97162942e-01,  1.07608643e+00,  6.69923572e-01,\n",
       "        9.28778056e-01,  3.23380420e-01,  8.92891142e-02, -8.00126222e-01,\n",
       "        7.64154671e-01,  1.66329033e+00, -1.51620093e+00, -2.03313442e+00,\n",
       "        4.51129731e-01,  1.07836369e-01,  8.87433521e-01, -6.28807950e-01,\n",
       "        5.99263595e-01, -2.23328867e+00,  6.01250087e-01, -3.17678039e-01,\n",
       "       -1.24611292e-01,  1.01554616e+00,  1.30987246e-01,  4.90832571e-01,\n",
       "       -5.70627524e-01,  2.70698846e-02,  4.38841144e-01,  5.79238746e-02,\n",
       "       -7.84326816e-01, -4.00859959e-01, -4.17699838e-01,  4.30216729e-03,\n",
       "       -2.35507323e-01, -7.05255698e-01, -5.98748319e-01, -9.03045056e-01,\n",
       "       -1.19750292e+00, -2.41960839e+00,  2.15069182e+00, -1.63583756e+00,\n",
       "       -2.01727746e+00, -2.79090666e-02, -4.65805363e-01,  1.15017912e+00,\n",
       "       -5.23151980e-01,  1.39071416e+00, -1.20212572e-01, -2.28260889e-01,\n",
       "        2.91727032e-02, -1.46242581e+00,  1.45355430e+00,  1.06142129e+00,\n",
       "       -1.58992574e-01, -3.80799677e-01,  3.95280846e-01, -9.57040831e-01,\n",
       "       -1.42685143e+00, -6.95878874e-01,  1.40943432e+00,  4.88813264e-01,\n",
       "        6.86800401e-01, -1.23325172e+00,  3.53511392e-01, -9.26079938e-01,\n",
       "       -1.72996774e+00,  1.21475546e+00,  4.16007831e-01,  2.11429390e-01,\n",
       "       -1.62979580e-01,  8.43263894e-01,  2.37007731e-01,  1.54835268e+00,\n",
       "       -2.32347275e-01, -9.62915535e-01,  1.68468249e+00,  3.55668038e-01,\n",
       "       -1.21998223e+00,  6.69693372e-01, -1.61191600e+00,  8.54047528e-01,\n",
       "        3.90426311e-01, -8.28576826e-01,  9.99704677e-02, -5.78747798e-01,\n",
       "        6.88496360e-01,  1.06602326e+00, -1.01935139e+00, -9.25051340e-01,\n",
       "        6.48252429e-01,  6.89636092e-01,  1.27258621e-01, -1.49532013e-01,\n",
       "        5.37328704e-01,  4.56137399e-01,  9.74854842e-02,  1.23908562e+00,\n",
       "        3.35493054e-04, -9.90186215e-01, -8.34965965e-01,  4.81461177e-01,\n",
       "        5.77530648e-02,  7.19790211e-01, -1.11552106e+00,  1.41280510e+00,\n",
       "        5.68908691e-01, -1.80023803e+00, -5.06270369e-01, -2.71319297e-01,\n",
       "       -4.73940056e-01,  7.64512789e-01,  9.11748526e-01,  1.97668048e+00,\n",
       "        5.25999850e-01, -1.63210998e+00,  2.35479943e-01, -5.03794545e-01,\n",
       "       -3.53222299e-01, -1.25860628e+00, -1.04047704e+00,  3.97248289e-01,\n",
       "        1.73483070e+00,  2.02050686e-02,  1.05985139e-01,  9.84534321e-01,\n",
       "       -8.44795102e-01,  4.70492557e-01, -3.97899857e-01,  1.09627218e+00,\n",
       "        9.36978860e-01,  2.63366316e-01,  1.20285694e+00, -2.01178507e+00,\n",
       "       -3.68973924e-01,  1.07838874e+00,  1.69027246e-01,  4.00813399e-01,\n",
       "        3.34616077e-01,  1.40420750e+00, -1.32341073e+00,  8.70952045e-03,\n",
       "       -1.15299365e+00, -2.15891871e-02, -5.25277335e-03, -5.89591021e-01,\n",
       "       -1.53543179e+00, -7.69085132e-01,  9.52898019e-01,  2.94182177e-02,\n",
       "       -3.47969635e-01, -1.29136194e+00,  7.49788395e-02,  3.04891690e-01,\n",
       "       -7.39824776e-01,  9.82274988e-02,  1.03384677e+00,  8.26317234e-01,\n",
       "       -4.29489347e-01, -9.98157323e-01, -8.29956059e-01,  1.78758718e+00,\n",
       "        3.14554942e-01,  2.11812790e+00, -1.70032019e+00,  2.31829691e-01,\n",
       "       -2.04067195e-01,  9.95122000e-01,  8.80785162e-02, -1.05552639e+00,\n",
       "       -1.38204501e+00,  1.07811947e+00,  4.71620472e-01,  7.69844764e-01,\n",
       "       -7.53479010e-01,  6.16647012e-01,  5.35490857e-01,  1.02374830e-02,\n",
       "        1.44326294e+00,  4.49244552e-01,  9.30205133e-01,  7.60828808e-01,\n",
       "        4.25147757e-01, -4.46862482e-01,  1.23880667e+00,  5.55995469e-01,\n",
       "        7.60676863e-01, -2.99612412e-01,  1.02515014e+00, -5.94500674e-01,\n",
       "        8.28954022e-01,  5.92964272e-01,  2.31075423e+00,  1.79745834e+00,\n",
       "        1.94521769e+00, -1.92795553e-01,  2.00605443e+00, -2.76209574e-01,\n",
       "       -1.32714989e+00,  1.78441775e+00, -1.23638839e+00,  5.15882624e-02,\n",
       "        6.32238566e-01,  1.16394204e+00,  3.51277880e-01, -9.44758070e-03,\n",
       "        5.73256836e-01,  1.47238609e-01, -6.54738417e-01, -1.16849207e+00,\n",
       "        6.08570456e-02,  8.14753422e-01,  1.49608607e+00,  1.07799227e+00,\n",
       "        3.83705100e-01, -2.07691524e-02, -1.06162450e+00, -7.15077169e-01,\n",
       "       -1.04349543e+00, -1.90270139e+00, -1.60646874e+00,  6.57218460e-01,\n",
       "        5.21689517e-01,  5.92552254e-01, -7.44364800e-01, -1.31074913e+00,\n",
       "        1.84203192e+00,  3.25020301e-01,  8.51208711e-01, -9.04316690e-01,\n",
       "       -5.49410427e-02,  4.95938743e-01,  2.59713503e-01, -6.35464939e-01,\n",
       "       -8.74382574e-01, -7.51572357e-01, -4.96548319e-01, -8.55387315e-02,\n",
       "        1.24909652e-03,  4.52093627e-01,  1.19856677e+00, -5.30357100e-01,\n",
       "       -5.31436485e-01,  1.17085033e+00, -1.52306953e+00, -4.05636736e-01,\n",
       "       -8.06955081e-01,  2.11176034e-01, -6.37571576e-01, -1.09515301e+00,\n",
       "        3.37283585e-01,  2.10537280e-01,  9.85367536e-01, -3.96144019e-01,\n",
       "       -1.77486982e+00, -3.10229125e-01,  1.18639733e-01, -5.12327372e-01,\n",
       "        9.14786690e-01, -2.12432464e-01,  8.70033125e-01, -1.01773259e+00,\n",
       "        3.32830475e-01,  5.40909813e-01, -5.63247260e-01,  1.41946058e+00,\n",
       "       -5.70250932e-01, -2.85588574e-01,  6.93969025e-01, -3.73542503e-01])"
      ]
     },
     "execution_count": 70,
     "metadata": {},
     "output_type": "execute_result"
    }
   ],
   "source": [
    "data"
   ]
  },
  {
   "cell_type": "code",
   "execution_count": 71,
   "id": "fd2a36e0",
   "metadata": {},
   "outputs": [
    {
     "data": {
      "text/plain": [
       "(-3.057, -1.259]     100\n",
       "(-1.259, 0.00467]    400\n",
       "(0.00467, 1.203]     400\n",
       "(1.203, 3.024]       100\n",
       "Name: count, dtype: int64"
      ]
     },
     "execution_count": 71,
     "metadata": {},
     "output_type": "execute_result"
    }
   ],
   "source": [
    "pd.qcut(data, [0, 0.1, 0.5, 0.9, 1.]).value_counts()"
   ]
  },
  {
   "cell_type": "markdown",
   "id": "5b436e9f-f304-4df8-b946-6a24e89261aa",
   "metadata": {},
   "source": [
    "El segundo argumento `[0, 0.1, 0.5, 0.9, 1.]` especifica los puntos de corte para los cuantiles.  \n",
    "Estos puntos de corte son porcentajes que indican cómo se deben dividir los datos.  \n",
    "\n",
    "`0` corresponde al valor mínimo.  \n",
    "`0.1` corresponde al percentil 10 (el valor por debajo del cual se encuentra el 10% de los datos).  \n",
    "`0.5` corresponde al percentil 50 (la mediana).  \n",
    "`0.9` corresponde al percentil 90 (el valor por debajo del cual se encuentra el 90% de los datos).  \n",
    "`1.` corresponde al valor máximo.  "
   ]
  },
  {
   "cell_type": "markdown",
   "id": "b6dfbfae-bb58-4ba5-84e2-ed435dd2da3f",
   "metadata": {},
   "source": [
    "# Fin Clase 72"
   ]
  },
  {
   "cell_type": "markdown",
   "id": "7b325ebd",
   "metadata": {
    "jp-MarkdownHeadingCollapsed": true,
    "slideshow": {
     "slide_type": "slide"
    }
   },
   "source": [
    "### Detección y filtrado de valores atípicos (outliers)\n",
    "\n",
    "Filtrar o transformar los valores atípicos es en gran medida una cuestión de aplicar operaciones de arrays. Considere un DataFrame con algunos datos distribuidos normalmente:"
   ]
  }
 ],
 "metadata": {
  "celltoolbar": "Slideshow",
  "kernelspec": {
   "display_name": "Python 3 (ipykernel)",
   "language": "python",
   "name": "python3"
  },
  "language_info": {
   "codemirror_mode": {
    "name": "ipython",
    "version": 3
   },
   "file_extension": ".py",
   "mimetype": "text/x-python",
   "name": "python",
   "nbconvert_exporter": "python",
   "pygments_lexer": "ipython3",
   "version": "3.11.7"
  }
 },
 "nbformat": 4,
 "nbformat_minor": 5
}
